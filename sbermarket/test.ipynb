{
 "cells": [
  {
   "cell_type": "code",
   "execution_count": 130,
   "metadata": {
    "collapsed": true,
    "pycharm": {
     "name": "#%%\n"
    }
   },
   "outputs": [],
   "source": [
    "import pandas as pd\n",
    "import numpy as np"
   ]
  },
  {
   "cell_type": "code",
   "execution_count": 135,
   "outputs": [],
   "source": [
    "df = pd.read_csv('train.csv')"
   ],
   "metadata": {
    "collapsed": false,
    "pycharm": {
     "name": "#%%\n"
    }
   }
  },
  {
   "cell_type": "code",
   "execution_count": 136,
   "outputs": [
    {
     "data": {
      "text/plain": "   user_id   order_completed_at  cart\n0        2  2015-03-22 09:25:46   399\n1        2  2015-03-22 09:25:46    14\n2        2  2015-03-22 09:25:46   198\n3        2  2015-03-22 09:25:46    88\n4        2  2015-03-22 09:25:46   157",
      "text/html": "<div>\n<style scoped>\n    .dataframe tbody tr th:only-of-type {\n        vertical-align: middle;\n    }\n\n    .dataframe tbody tr th {\n        vertical-align: top;\n    }\n\n    .dataframe thead th {\n        text-align: right;\n    }\n</style>\n<table border=\"1\" class=\"dataframe\">\n  <thead>\n    <tr style=\"text-align: right;\">\n      <th></th>\n      <th>user_id</th>\n      <th>order_completed_at</th>\n      <th>cart</th>\n    </tr>\n  </thead>\n  <tbody>\n    <tr>\n      <th>0</th>\n      <td>2</td>\n      <td>2015-03-22 09:25:46</td>\n      <td>399</td>\n    </tr>\n    <tr>\n      <th>1</th>\n      <td>2</td>\n      <td>2015-03-22 09:25:46</td>\n      <td>14</td>\n    </tr>\n    <tr>\n      <th>2</th>\n      <td>2</td>\n      <td>2015-03-22 09:25:46</td>\n      <td>198</td>\n    </tr>\n    <tr>\n      <th>3</th>\n      <td>2</td>\n      <td>2015-03-22 09:25:46</td>\n      <td>88</td>\n    </tr>\n    <tr>\n      <th>4</th>\n      <td>2</td>\n      <td>2015-03-22 09:25:46</td>\n      <td>157</td>\n    </tr>\n  </tbody>\n</table>\n</div>"
     },
     "execution_count": 136,
     "metadata": {},
     "output_type": "execute_result"
    }
   ],
   "source": [
    "df.head()"
   ],
   "metadata": {
    "collapsed": false,
    "pycharm": {
     "name": "#%%\n"
    }
   }
  },
  {
   "cell_type": "code",
   "execution_count": 137,
   "outputs": [
    {
     "name": "stdout",
     "output_type": "stream",
     "text": [
      "<class 'pandas.core.frame.DataFrame'>\n",
      "RangeIndex: 3123064 entries, 0 to 3123063\n",
      "Data columns (total 3 columns):\n",
      " #   Column              Dtype \n",
      "---  ------              ----- \n",
      " 0   user_id             int64 \n",
      " 1   order_completed_at  object\n",
      " 2   cart                int64 \n",
      "dtypes: int64(2), object(1)\n",
      "memory usage: 71.5+ MB\n"
     ]
    }
   ],
   "source": [
    "df.info()"
   ],
   "metadata": {
    "collapsed": false,
    "pycharm": {
     "name": "#%%\n"
    }
   }
  },
  {
   "cell_type": "code",
   "execution_count": 138,
   "outputs": [
    {
     "data": {
      "text/plain": "20000"
     },
     "execution_count": 138,
     "metadata": {},
     "output_type": "execute_result"
    }
   ],
   "source": [
    "df['user_id'].nunique()"
   ],
   "metadata": {
    "collapsed": false,
    "pycharm": {
     "name": "#%%\n"
    }
   }
  },
  {
   "cell_type": "code",
   "execution_count": 151,
   "outputs": [
    {
     "name": "stdout",
     "output_type": "stream",
     "text": [
      "<class 'pandas.core.frame.DataFrame'>\n",
      "RangeIndex: 3123064 entries, 0 to 3123063\n",
      "Data columns (total 3 columns):\n",
      " #   Column              Dtype         \n",
      "---  ------              -----         \n",
      " 0   user_id             int64         \n",
      " 1   order_completed_at  datetime64[ns]\n",
      " 2   cart                int64         \n",
      "dtypes: datetime64[ns](1), int64(2)\n",
      "memory usage: 71.5 MB\n",
      "None\n"
     ]
    },
    {
     "data": {
      "text/plain": "   user_id  order_completed_at  cart\n0        2 2015-03-22 09:25:46   399\n1        2 2015-03-22 09:25:46    14\n2        2 2015-03-22 09:25:46   198\n3        2 2015-03-22 09:25:46    88\n4        2 2015-03-22 09:25:46   157",
      "text/html": "<div>\n<style scoped>\n    .dataframe tbody tr th:only-of-type {\n        vertical-align: middle;\n    }\n\n    .dataframe tbody tr th {\n        vertical-align: top;\n    }\n\n    .dataframe thead th {\n        text-align: right;\n    }\n</style>\n<table border=\"1\" class=\"dataframe\">\n  <thead>\n    <tr style=\"text-align: right;\">\n      <th></th>\n      <th>user_id</th>\n      <th>order_completed_at</th>\n      <th>cart</th>\n    </tr>\n  </thead>\n  <tbody>\n    <tr>\n      <th>0</th>\n      <td>2</td>\n      <td>2015-03-22 09:25:46</td>\n      <td>399</td>\n    </tr>\n    <tr>\n      <th>1</th>\n      <td>2</td>\n      <td>2015-03-22 09:25:46</td>\n      <td>14</td>\n    </tr>\n    <tr>\n      <th>2</th>\n      <td>2</td>\n      <td>2015-03-22 09:25:46</td>\n      <td>198</td>\n    </tr>\n    <tr>\n      <th>3</th>\n      <td>2</td>\n      <td>2015-03-22 09:25:46</td>\n      <td>88</td>\n    </tr>\n    <tr>\n      <th>4</th>\n      <td>2</td>\n      <td>2015-03-22 09:25:46</td>\n      <td>157</td>\n    </tr>\n  </tbody>\n</table>\n</div>"
     },
     "execution_count": 151,
     "metadata": {},
     "output_type": "execute_result"
    }
   ],
   "source": [
    "df.order_completed_at = pd.to_datetime(df.order_completed_at)\n",
    "print(df.info())\n",
    "df.head()"
   ],
   "metadata": {
    "collapsed": false,
    "pycharm": {
     "name": "#%%\n"
    }
   }
  },
  {
   "cell_type": "code",
   "execution_count": 147,
   "outputs": [],
   "source": [
    "sample_df = pd.read_csv('sample_submission.csv')"
   ],
   "metadata": {
    "collapsed": false,
    "pycharm": {
     "name": "#%%\n"
    }
   }
  },
  {
   "cell_type": "code",
   "execution_count": 148,
   "outputs": [],
   "source": [
    "sample_df['user'] = sample_df['id'].apply(lambda x: x.split(';')).apply(lambda x: int(x[0]))\n",
    "sample_df['category'] = sample_df['id'].apply(lambda x: x.split(';')).apply(lambda x: int(x[1]))\n",
    "sample_df.head()"
   ],
   "metadata": {
    "collapsed": false,
    "pycharm": {
     "name": "#%%\n"
    }
   }
  },
  {
   "cell_type": "code",
   "execution_count": 152,
   "outputs": [],
   "source": [
    "uniq_users = pd.unique(sample_df['user'])\n",
    "uniq_categories = pd.unique(sample_df['category'])"
   ],
   "metadata": {
    "collapsed": false,
    "pycharm": {
     "name": "#%%\n"
    }
   }
  },
  {
   "cell_type": "code",
   "execution_count": 155,
   "outputs": [
    {
     "name": "stdout",
     "output_type": "stream",
     "text": [
      "<class 'pandas.core.frame.DataFrame'>\n",
      "Index: 2395657 entries, 16 to 3123063\n",
      "Data columns (total 3 columns):\n",
      " #   Column              Dtype         \n",
      "---  ------              -----         \n",
      " 0   user_id             int64         \n",
      " 1   order_completed_at  datetime64[ns]\n",
      " 2   cart                int64         \n",
      "dtypes: datetime64[ns](1), int64(2)\n",
      "memory usage: 73.1 MB\n",
      "None\n"
     ]
    },
    {
     "data": {
      "text/plain": "    user_id  order_completed_at  cart\n16        3 2015-06-18 16:15:33   399\n17        3 2015-07-04 14:05:22   399\n18        4 2015-07-08 06:59:04    54\n19        4 2015-07-08 06:59:04    55\n20        5 2015-07-22 08:16:24   409",
      "text/html": "<div>\n<style scoped>\n    .dataframe tbody tr th:only-of-type {\n        vertical-align: middle;\n    }\n\n    .dataframe tbody tr th {\n        vertical-align: top;\n    }\n\n    .dataframe thead th {\n        text-align: right;\n    }\n</style>\n<table border=\"1\" class=\"dataframe\">\n  <thead>\n    <tr style=\"text-align: right;\">\n      <th></th>\n      <th>user_id</th>\n      <th>order_completed_at</th>\n      <th>cart</th>\n    </tr>\n  </thead>\n  <tbody>\n    <tr>\n      <th>16</th>\n      <td>3</td>\n      <td>2015-06-18 16:15:33</td>\n      <td>399</td>\n    </tr>\n    <tr>\n      <th>17</th>\n      <td>3</td>\n      <td>2015-07-04 14:05:22</td>\n      <td>399</td>\n    </tr>\n    <tr>\n      <th>18</th>\n      <td>4</td>\n      <td>2015-07-08 06:59:04</td>\n      <td>54</td>\n    </tr>\n    <tr>\n      <th>19</th>\n      <td>4</td>\n      <td>2015-07-08 06:59:04</td>\n      <td>55</td>\n    </tr>\n    <tr>\n      <th>20</th>\n      <td>5</td>\n      <td>2015-07-22 08:16:24</td>\n      <td>409</td>\n    </tr>\n  </tbody>\n</table>\n</div>"
     },
     "execution_count": 155,
     "metadata": {},
     "output_type": "execute_result"
    }
   ],
   "source": [
    "df = df.loc[df['user_id'].isin(uniq_users) & df['cart'].isin(uniq_categories)]\n",
    "\n",
    "print(df.info())\n",
    "df.head()"
   ],
   "metadata": {
    "collapsed": false,
    "pycharm": {
     "name": "#%%\n"
    }
   }
  },
  {
   "cell_type": "code",
   "execution_count": 156,
   "outputs": [
    {
     "name": "stderr",
     "output_type": "stream",
     "text": [
      "C:\\Users\\Борис\\AppData\\Local\\Temp\\ipykernel_9008\\3801794931.py:1: DeprecationWarning: DataFrameGroupBy.apply operated on the grouping columns. This behavior is deprecated, and in a future version of pandas the grouping columns will be excluded from the operation. Either pass `include_groups=False` to exclude the groupings or explicitly select the grouping columns after groupby to silence this warning.\n",
      "  orders = df.groupby(['order_completed_at', 'user_id']).apply(lambda x: list(x['cart'])).reset_index()\n"
     ]
    }
   ],
   "source": [
    "orders = df.groupby(['order_completed_at', 'user_id']).apply(lambda x: list(x['cart'])).reset_index()\n",
    "orders = orders.rename(columns = {0: 'carts_in_order'})\n",
    "orders['len_cart'] = orders.carts_in_order.apply(lambda x: len(x))"
   ],
   "metadata": {
    "collapsed": false,
    "pycharm": {
     "name": "#%%\n"
    }
   }
  },
  {
   "cell_type": "code",
   "execution_count": 157,
   "outputs": [
    {
     "data": {
      "text/plain": "   order_completed_at  user_id  \\\n0 2015-06-18 16:15:33        3   \n1 2015-07-04 14:05:22        3   \n2 2015-07-08 06:59:04        4   \n3 2015-07-22 08:16:24        5   \n4 2015-08-12 10:33:44        3   \n\n                                      carts_in_order  len_cart  \n0                                              [399]         1  \n1                                              [399]         1  \n2                                           [54, 55]         2  \n3  [409, 88, 376, 14, 423, 23, 92, 29, 386, 440, ...        12  \n4                                         [804, 134]         2  ",
      "text/html": "<div>\n<style scoped>\n    .dataframe tbody tr th:only-of-type {\n        vertical-align: middle;\n    }\n\n    .dataframe tbody tr th {\n        vertical-align: top;\n    }\n\n    .dataframe thead th {\n        text-align: right;\n    }\n</style>\n<table border=\"1\" class=\"dataframe\">\n  <thead>\n    <tr style=\"text-align: right;\">\n      <th></th>\n      <th>order_completed_at</th>\n      <th>user_id</th>\n      <th>carts_in_order</th>\n      <th>len_cart</th>\n    </tr>\n  </thead>\n  <tbody>\n    <tr>\n      <th>0</th>\n      <td>2015-06-18 16:15:33</td>\n      <td>3</td>\n      <td>[399]</td>\n      <td>1</td>\n    </tr>\n    <tr>\n      <th>1</th>\n      <td>2015-07-04 14:05:22</td>\n      <td>3</td>\n      <td>[399]</td>\n      <td>1</td>\n    </tr>\n    <tr>\n      <th>2</th>\n      <td>2015-07-08 06:59:04</td>\n      <td>4</td>\n      <td>[54, 55]</td>\n      <td>2</td>\n    </tr>\n    <tr>\n      <th>3</th>\n      <td>2015-07-22 08:16:24</td>\n      <td>5</td>\n      <td>[409, 88, 376, 14, 423, 23, 92, 29, 386, 440, ...</td>\n      <td>12</td>\n    </tr>\n    <tr>\n      <th>4</th>\n      <td>2015-08-12 10:33:44</td>\n      <td>3</td>\n      <td>[804, 134]</td>\n      <td>2</td>\n    </tr>\n  </tbody>\n</table>\n</div>"
     },
     "execution_count": 157,
     "metadata": {},
     "output_type": "execute_result"
    }
   ],
   "source": [
    "orders.head()"
   ],
   "metadata": {
    "collapsed": false,
    "pycharm": {
     "name": "#%%\n"
    }
   }
  },
  {
   "cell_type": "code",
   "execution_count": 158,
   "outputs": [
    {
     "data": {
      "text/plain": "user_id\n75       187\n5992     165\n458      163\n1156     155\n1431     154\n        ... \n6057       3\n17236      3\n17248      3\n17250      3\n16887      3\nName: count, Length: 13036, dtype: int64"
     },
     "execution_count": 158,
     "metadata": {},
     "output_type": "execute_result"
    }
   ],
   "source": [
    "orders.user_id.value_counts()"
   ],
   "metadata": {
    "collapsed": false,
    "pycharm": {
     "name": "#%%\n"
    }
   }
  },
  {
   "cell_type": "code",
   "execution_count": 161,
   "outputs": [
    {
     "name": "stderr",
     "output_type": "stream",
     "text": [
      "C:\\Users\\Борис\\AppData\\Local\\Temp\\ipykernel_9008\\1170639208.py:6: DeprecationWarning: DataFrameGroupBy.apply operated on the grouping columns. This behavior is deprecated, and in a future version of pandas the grouping columns will be excluded from the operation. Either pass `include_groups=False` to exclude the groupings or explicitly select the grouping columns after groupby to silence this warning.\n",
      "  users_carts_mean_number = orders.groupby('user_id').apply(count_carts_number)/orders.groupby('user_id')['carts_in_order'].count()\n"
     ]
    },
    {
     "data": {
      "text/plain": "       user_id  mean_carts\n0            0   14.666667\n1            1    4.111111\n2            3    8.857143\n3            4   14.000000\n4            5    7.733333\n...        ...         ...\n13031    19994    6.800000\n13032    19995    3.000000\n13033    19996    5.666667\n13034    19997   14.000000\n13035    19998    6.333333\n\n[13036 rows x 2 columns]",
      "text/html": "<div>\n<style scoped>\n    .dataframe tbody tr th:only-of-type {\n        vertical-align: middle;\n    }\n\n    .dataframe tbody tr th {\n        vertical-align: top;\n    }\n\n    .dataframe thead th {\n        text-align: right;\n    }\n</style>\n<table border=\"1\" class=\"dataframe\">\n  <thead>\n    <tr style=\"text-align: right;\">\n      <th></th>\n      <th>user_id</th>\n      <th>mean_carts</th>\n    </tr>\n  </thead>\n  <tbody>\n    <tr>\n      <th>0</th>\n      <td>0</td>\n      <td>14.666667</td>\n    </tr>\n    <tr>\n      <th>1</th>\n      <td>1</td>\n      <td>4.111111</td>\n    </tr>\n    <tr>\n      <th>2</th>\n      <td>3</td>\n      <td>8.857143</td>\n    </tr>\n    <tr>\n      <th>3</th>\n      <td>4</td>\n      <td>14.000000</td>\n    </tr>\n    <tr>\n      <th>4</th>\n      <td>5</td>\n      <td>7.733333</td>\n    </tr>\n    <tr>\n      <th>...</th>\n      <td>...</td>\n      <td>...</td>\n    </tr>\n    <tr>\n      <th>13031</th>\n      <td>19994</td>\n      <td>6.800000</td>\n    </tr>\n    <tr>\n      <th>13032</th>\n      <td>19995</td>\n      <td>3.000000</td>\n    </tr>\n    <tr>\n      <th>13033</th>\n      <td>19996</td>\n      <td>5.666667</td>\n    </tr>\n    <tr>\n      <th>13034</th>\n      <td>19997</td>\n      <td>14.000000</td>\n    </tr>\n    <tr>\n      <th>13035</th>\n      <td>19998</td>\n      <td>6.333333</td>\n    </tr>\n  </tbody>\n</table>\n<p>13036 rows × 2 columns</p>\n</div>"
     },
     "execution_count": 161,
     "metadata": {},
     "output_type": "execute_result"
    }
   ],
   "source": [
    "def count_carts_number(x):\n",
    "    count = 0\n",
    "    for order in x['carts_in_order']:\n",
    "        count += len(order)\n",
    "    return count\n",
    "users_carts_mean_number = orders.groupby('user_id').apply(count_carts_number)/orders.groupby('user_id')['carts_in_order'].count()\n",
    "users_carts_mean_number = users_carts_mean_number.reset_index()\n",
    "users_carts_mean_number.rename(columns = {0:'mean_carts'}, inplace = True)\n",
    "users_carts_mean_number"
   ],
   "metadata": {
    "collapsed": false,
    "pycharm": {
     "name": "#%%\n"
    }
   }
  },
  {
   "cell_type": "code",
   "execution_count": 162,
   "outputs": [
    {
     "name": "stderr",
     "output_type": "stream",
     "text": [
      "C:\\Users\\Борис\\AppData\\Local\\Temp\\ipykernel_9008\\2440066861.py:14: DeprecationWarning: DataFrameGroupBy.apply operated on the grouping columns. This behavior is deprecated, and in a future version of pandas the grouping columns will be excluded from the operation. Either pass `include_groups=False` to exclude the groupings or explicitly select the grouping columns after groupby to silence this warning.\n",
      "  users_favourite_carts = orders.groupby('user_id').apply(list_of_favourite_carts).reset_index()\n"
     ]
    },
    {
     "data": {
      "text/plain": "       user_id                                                  0\n0            0  [57, 441, 405, 379, 84, 82, 14, 821, 803, 799,...\n1            1  [55, 798, 169, 88, 14, 812, 803, 421, 307, 302...\n2            3  [399, 383, 382, 57, 43, 41, 19, 430, 398, 179,...\n3            4  [398, 57, 420, 98, 54, 712, 102, 100, 84, 61, ...\n4            5  [712, 23, 92, 440, 398, 88, 84, 57, 813, 798, ...\n...        ...                                                ...\n13031    19994  [393, 67, 19, 17, 14, 820, 443, 433, 430, 427,...\n13032    19995             [712, 398, 393, 84, 67, 57, 31, 14, 0]\n13033    19996  [812, 804, 443, 431, 409, 404, 396, 393, 231, ...\n13034    19997  [61, 57, 55, 49, 479, 443, 430, 420, 398, 383,...\n13035    19998  [420, 415, 398, 84, 57, 6, 798, 409, 61, 31, 2...\n\n[13036 rows x 2 columns]",
      "text/html": "<div>\n<style scoped>\n    .dataframe tbody tr th:only-of-type {\n        vertical-align: middle;\n    }\n\n    .dataframe tbody tr th {\n        vertical-align: top;\n    }\n\n    .dataframe thead th {\n        text-align: right;\n    }\n</style>\n<table border=\"1\" class=\"dataframe\">\n  <thead>\n    <tr style=\"text-align: right;\">\n      <th></th>\n      <th>user_id</th>\n      <th>0</th>\n    </tr>\n  </thead>\n  <tbody>\n    <tr>\n      <th>0</th>\n      <td>0</td>\n      <td>[57, 441, 405, 379, 84, 82, 14, 821, 803, 799,...</td>\n    </tr>\n    <tr>\n      <th>1</th>\n      <td>1</td>\n      <td>[55, 798, 169, 88, 14, 812, 803, 421, 307, 302...</td>\n    </tr>\n    <tr>\n      <th>2</th>\n      <td>3</td>\n      <td>[399, 383, 382, 57, 43, 41, 19, 430, 398, 179,...</td>\n    </tr>\n    <tr>\n      <th>3</th>\n      <td>4</td>\n      <td>[398, 57, 420, 98, 54, 712, 102, 100, 84, 61, ...</td>\n    </tr>\n    <tr>\n      <th>4</th>\n      <td>5</td>\n      <td>[712, 23, 92, 440, 398, 88, 84, 57, 813, 798, ...</td>\n    </tr>\n    <tr>\n      <th>...</th>\n      <td>...</td>\n      <td>...</td>\n    </tr>\n    <tr>\n      <th>13031</th>\n      <td>19994</td>\n      <td>[393, 67, 19, 17, 14, 820, 443, 433, 430, 427,...</td>\n    </tr>\n    <tr>\n      <th>13032</th>\n      <td>19995</td>\n      <td>[712, 398, 393, 84, 67, 57, 31, 14, 0]</td>\n    </tr>\n    <tr>\n      <th>13033</th>\n      <td>19996</td>\n      <td>[812, 804, 443, 431, 409, 404, 396, 393, 231, ...</td>\n    </tr>\n    <tr>\n      <th>13034</th>\n      <td>19997</td>\n      <td>[61, 57, 55, 49, 479, 443, 430, 420, 398, 383,...</td>\n    </tr>\n    <tr>\n      <th>13035</th>\n      <td>19998</td>\n      <td>[420, 415, 398, 84, 57, 6, 798, 409, 61, 31, 2...</td>\n    </tr>\n  </tbody>\n</table>\n<p>13036 rows × 2 columns</p>\n</div>"
     },
     "execution_count": 162,
     "metadata": {},
     "output_type": "execute_result"
    }
   ],
   "source": [
    "from itertools import groupby\n",
    "import collections\n",
    "\n",
    "def list_of_favourite_carts(x): # создает отсортированный (по частоте) список заказанных категорий пользователя\n",
    "    carts_list = []\n",
    "    for order in x['carts_in_order']:\n",
    "        carts_list.extend(order)\n",
    "    counts = collections.Counter(carts_list)\n",
    "    new_list = sorted(carts_list, key=lambda y: (counts[y], y), reverse=True)\n",
    "\n",
    "    cart_list = [el for el, _ in groupby(new_list)]\n",
    "\n",
    "    return cart_list\n",
    "users_favourite_carts = orders.groupby('user_id').apply(list_of_favourite_carts).reset_index()\n",
    "users_favourite_carts"
   ],
   "metadata": {
    "collapsed": false,
    "pycharm": {
     "name": "#%%\n"
    }
   }
  },
  {
   "cell_type": "code",
   "execution_count": 163,
   "outputs": [
    {
     "data": {
      "text/plain": "       user_id  mean_carts                                    favourite_carts\n0            0   14.666667  [57, 441, 405, 379, 84, 82, 14, 821, 803, 799,...\n1            1    4.111111  [55, 798, 169, 88, 14, 812, 803, 421, 307, 302...\n2            3    8.857143  [399, 383, 382, 57, 43, 41, 19, 430, 398, 179,...\n3            4   14.000000  [398, 57, 420, 98, 54, 712, 102, 100, 84, 61, ...\n4            5    7.733333  [712, 23, 92, 440, 398, 88, 84, 57, 813, 798, ...\n...        ...         ...                                                ...\n13031    19994    6.800000  [393, 67, 19, 17, 14, 820, 443, 433, 430, 427,...\n13032    19995    3.000000             [712, 398, 393, 84, 67, 57, 31, 14, 0]\n13033    19996    5.666667  [812, 804, 443, 431, 409, 404, 396, 393, 231, ...\n13034    19997   14.000000  [61, 57, 55, 49, 479, 443, 430, 420, 398, 383,...\n13035    19998    6.333333  [420, 415, 398, 84, 57, 6, 798, 409, 61, 31, 2...\n\n[13036 rows x 3 columns]",
      "text/html": "<div>\n<style scoped>\n    .dataframe tbody tr th:only-of-type {\n        vertical-align: middle;\n    }\n\n    .dataframe tbody tr th {\n        vertical-align: top;\n    }\n\n    .dataframe thead th {\n        text-align: right;\n    }\n</style>\n<table border=\"1\" class=\"dataframe\">\n  <thead>\n    <tr style=\"text-align: right;\">\n      <th></th>\n      <th>user_id</th>\n      <th>mean_carts</th>\n      <th>favourite_carts</th>\n    </tr>\n  </thead>\n  <tbody>\n    <tr>\n      <th>0</th>\n      <td>0</td>\n      <td>14.666667</td>\n      <td>[57, 441, 405, 379, 84, 82, 14, 821, 803, 799,...</td>\n    </tr>\n    <tr>\n      <th>1</th>\n      <td>1</td>\n      <td>4.111111</td>\n      <td>[55, 798, 169, 88, 14, 812, 803, 421, 307, 302...</td>\n    </tr>\n    <tr>\n      <th>2</th>\n      <td>3</td>\n      <td>8.857143</td>\n      <td>[399, 383, 382, 57, 43, 41, 19, 430, 398, 179,...</td>\n    </tr>\n    <tr>\n      <th>3</th>\n      <td>4</td>\n      <td>14.000000</td>\n      <td>[398, 57, 420, 98, 54, 712, 102, 100, 84, 61, ...</td>\n    </tr>\n    <tr>\n      <th>4</th>\n      <td>5</td>\n      <td>7.733333</td>\n      <td>[712, 23, 92, 440, 398, 88, 84, 57, 813, 798, ...</td>\n    </tr>\n    <tr>\n      <th>...</th>\n      <td>...</td>\n      <td>...</td>\n      <td>...</td>\n    </tr>\n    <tr>\n      <th>13031</th>\n      <td>19994</td>\n      <td>6.800000</td>\n      <td>[393, 67, 19, 17, 14, 820, 443, 433, 430, 427,...</td>\n    </tr>\n    <tr>\n      <th>13032</th>\n      <td>19995</td>\n      <td>3.000000</td>\n      <td>[712, 398, 393, 84, 67, 57, 31, 14, 0]</td>\n    </tr>\n    <tr>\n      <th>13033</th>\n      <td>19996</td>\n      <td>5.666667</td>\n      <td>[812, 804, 443, 431, 409, 404, 396, 393, 231, ...</td>\n    </tr>\n    <tr>\n      <th>13034</th>\n      <td>19997</td>\n      <td>14.000000</td>\n      <td>[61, 57, 55, 49, 479, 443, 430, 420, 398, 383,...</td>\n    </tr>\n    <tr>\n      <th>13035</th>\n      <td>19998</td>\n      <td>6.333333</td>\n      <td>[420, 415, 398, 84, 57, 6, 798, 409, 61, 31, 2...</td>\n    </tr>\n  </tbody>\n</table>\n<p>13036 rows × 3 columns</p>\n</div>"
     },
     "execution_count": 163,
     "metadata": {},
     "output_type": "execute_result"
    }
   ],
   "source": [
    "users_data = users_carts_mean_number.merge(users_favourite_carts, on = 'user_id')\n",
    "users_data.rename(columns = {0: 'favourite_carts'}, inplace = True)\n",
    "users_data"
   ],
   "metadata": {
    "collapsed": false,
    "pycharm": {
     "name": "#%%\n"
    }
   }
  },
  {
   "cell_type": "code",
   "execution_count": 166,
   "outputs": [
    {
     "data": {
      "text/plain": "       user_id  mean_carts                                    favourite_carts\n0            0          15  [57, 441, 405, 379, 84, 82, 14, 821, 803, 799,...\n1            1           4  [55, 798, 169, 88, 14, 812, 803, 421, 307, 302...\n2            3           9  [399, 383, 382, 57, 43, 41, 19, 430, 398, 179,...\n3            4          14  [398, 57, 420, 98, 54, 712, 102, 100, 84, 61, ...\n4            5           8  [712, 23, 92, 440, 398, 88, 84, 57, 813, 798, ...\n...        ...         ...                                                ...\n13031    19994           7  [393, 67, 19, 17, 14, 820, 443, 433, 430, 427,...\n13032    19995           3             [712, 398, 393, 84, 67, 57, 31, 14, 0]\n13033    19996           6  [812, 804, 443, 431, 409, 404, 396, 393, 231, ...\n13034    19997          14  [61, 57, 55, 49, 479, 443, 430, 420, 398, 383,...\n13035    19998           6  [420, 415, 398, 84, 57, 6, 798, 409, 61, 31, 2...\n\n[13036 rows x 3 columns]",
      "text/html": "<div>\n<style scoped>\n    .dataframe tbody tr th:only-of-type {\n        vertical-align: middle;\n    }\n\n    .dataframe tbody tr th {\n        vertical-align: top;\n    }\n\n    .dataframe thead th {\n        text-align: right;\n    }\n</style>\n<table border=\"1\" class=\"dataframe\">\n  <thead>\n    <tr style=\"text-align: right;\">\n      <th></th>\n      <th>user_id</th>\n      <th>mean_carts</th>\n      <th>favourite_carts</th>\n    </tr>\n  </thead>\n  <tbody>\n    <tr>\n      <th>0</th>\n      <td>0</td>\n      <td>15</td>\n      <td>[57, 441, 405, 379, 84, 82, 14, 821, 803, 799,...</td>\n    </tr>\n    <tr>\n      <th>1</th>\n      <td>1</td>\n      <td>4</td>\n      <td>[55, 798, 169, 88, 14, 812, 803, 421, 307, 302...</td>\n    </tr>\n    <tr>\n      <th>2</th>\n      <td>3</td>\n      <td>9</td>\n      <td>[399, 383, 382, 57, 43, 41, 19, 430, 398, 179,...</td>\n    </tr>\n    <tr>\n      <th>3</th>\n      <td>4</td>\n      <td>14</td>\n      <td>[398, 57, 420, 98, 54, 712, 102, 100, 84, 61, ...</td>\n    </tr>\n    <tr>\n      <th>4</th>\n      <td>5</td>\n      <td>8</td>\n      <td>[712, 23, 92, 440, 398, 88, 84, 57, 813, 798, ...</td>\n    </tr>\n    <tr>\n      <th>...</th>\n      <td>...</td>\n      <td>...</td>\n      <td>...</td>\n    </tr>\n    <tr>\n      <th>13031</th>\n      <td>19994</td>\n      <td>7</td>\n      <td>[393, 67, 19, 17, 14, 820, 443, 433, 430, 427,...</td>\n    </tr>\n    <tr>\n      <th>13032</th>\n      <td>19995</td>\n      <td>3</td>\n      <td>[712, 398, 393, 84, 67, 57, 31, 14, 0]</td>\n    </tr>\n    <tr>\n      <th>13033</th>\n      <td>19996</td>\n      <td>6</td>\n      <td>[812, 804, 443, 431, 409, 404, 396, 393, 231, ...</td>\n    </tr>\n    <tr>\n      <th>13034</th>\n      <td>19997</td>\n      <td>14</td>\n      <td>[61, 57, 55, 49, 479, 443, 430, 420, 398, 383,...</td>\n    </tr>\n    <tr>\n      <th>13035</th>\n      <td>19998</td>\n      <td>6</td>\n      <td>[420, 415, 398, 84, 57, 6, 798, 409, 61, 31, 2...</td>\n    </tr>\n  </tbody>\n</table>\n<p>13036 rows × 3 columns</p>\n</div>"
     },
     "execution_count": 166,
     "metadata": {},
     "output_type": "execute_result"
    }
   ],
   "source": [
    "users_data.mean_carts = users_data.mean_carts.apply(lambda x: round(x))\n",
    "users_data = users_data.astype({'mean_carts': int})\n",
    "users_data"
   ],
   "metadata": {
    "collapsed": false,
    "pycharm": {
     "name": "#%%\n"
    }
   }
  },
  {
   "cell_type": "code",
   "execution_count": 168,
   "outputs": [
    {
     "name": "stderr",
     "output_type": "stream",
     "text": [
      "13036it [00:00, 13774.39it/s]\n"
     ]
    }
   ],
   "source": [
    "from tqdm import tqdm\n",
    "d = {}\n",
    "indexer = 0\n",
    "\n",
    "for index, row in tqdm(users_data.iterrows()):\n",
    "    mean_carts = row.mean_carts\n",
    "    user_id = row.user_id\n",
    "    favourite_carts = row.favourite_carts\n",
    "\n",
    "    for i in range(len(favourite_carts)):\n",
    "        id_to_add = str(user_id) + ';' + str(favourite_carts[i])\n",
    "        if i < mean_carts:\n",
    "            target_to_add = 1\n",
    "        else:\n",
    "            target_to_add = 0\n",
    "        d[indexer] = {'id':id_to_add, 'target': target_to_add}\n",
    "        indexer +=1\n",
    "\n",
    "submission = pd.DataFrame.from_dict(d, 'index')"
   ],
   "metadata": {
    "collapsed": false,
    "pycharm": {
     "name": "#%%\n"
    }
   }
  },
  {
   "cell_type": "code",
   "execution_count": 169,
   "outputs": [
    {
     "data": {
      "text/plain": "              id  target\n0           0;57       1\n1          0;441       1\n2          0;405       1\n3          0;379       1\n4           0;84       1\n...          ...     ...\n790444  19998;61       0\n790445  19998;31       0\n790446  19998;29       0\n790447  19998;26       0\n790448  19998;19       0\n\n[790449 rows x 2 columns]",
      "text/html": "<div>\n<style scoped>\n    .dataframe tbody tr th:only-of-type {\n        vertical-align: middle;\n    }\n\n    .dataframe tbody tr th {\n        vertical-align: top;\n    }\n\n    .dataframe thead th {\n        text-align: right;\n    }\n</style>\n<table border=\"1\" class=\"dataframe\">\n  <thead>\n    <tr style=\"text-align: right;\">\n      <th></th>\n      <th>id</th>\n      <th>target</th>\n    </tr>\n  </thead>\n  <tbody>\n    <tr>\n      <th>0</th>\n      <td>0;57</td>\n      <td>1</td>\n    </tr>\n    <tr>\n      <th>1</th>\n      <td>0;441</td>\n      <td>1</td>\n    </tr>\n    <tr>\n      <th>2</th>\n      <td>0;405</td>\n      <td>1</td>\n    </tr>\n    <tr>\n      <th>3</th>\n      <td>0;379</td>\n      <td>1</td>\n    </tr>\n    <tr>\n      <th>4</th>\n      <td>0;84</td>\n      <td>1</td>\n    </tr>\n    <tr>\n      <th>...</th>\n      <td>...</td>\n      <td>...</td>\n    </tr>\n    <tr>\n      <th>790444</th>\n      <td>19998;61</td>\n      <td>0</td>\n    </tr>\n    <tr>\n      <th>790445</th>\n      <td>19998;31</td>\n      <td>0</td>\n    </tr>\n    <tr>\n      <th>790446</th>\n      <td>19998;29</td>\n      <td>0</td>\n    </tr>\n    <tr>\n      <th>790447</th>\n      <td>19998;26</td>\n      <td>0</td>\n    </tr>\n    <tr>\n      <th>790448</th>\n      <td>19998;19</td>\n      <td>0</td>\n    </tr>\n  </tbody>\n</table>\n<p>790449 rows × 2 columns</p>\n</div>"
     },
     "execution_count": 169,
     "metadata": {},
     "output_type": "execute_result"
    }
   ],
   "source": [
    "submission.astype({'target':int})"
   ],
   "metadata": {
    "collapsed": false,
    "pycharm": {
     "name": "#%%\n"
    }
   }
  },
  {
   "cell_type": "code",
   "execution_count": 170,
   "outputs": [],
   "source": [
    "sample = pd.read_csv('sample_submission.csv')"
   ],
   "metadata": {
    "collapsed": false,
    "pycharm": {
     "name": "#%%\n"
    }
   }
  },
  {
   "cell_type": "code",
   "execution_count": 171,
   "outputs": [],
   "source": [
    "sample.drop('target', axis = 1, inplace = True)\n",
    "submission = submission.merge(sample, how = 'right')"
   ],
   "metadata": {
    "collapsed": false,
    "pycharm": {
     "name": "#%%\n"
    }
   }
  },
  {
   "cell_type": "code",
   "execution_count": 187,
   "outputs": [],
   "source": [
    "submission.to_csv('sub2.csv', index=False)\n",
    "# sub1 == 0.46475\n",
    "# sub2 == 0.46477"
   ],
   "metadata": {
    "collapsed": false,
    "pycharm": {
     "name": "#%%\n"
    }
   }
  },
  {
   "cell_type": "code",
   "execution_count": 172,
   "outputs": [
    {
     "data": {
      "text/plain": "               id  target\n0           0;133       0\n1             0;5       0\n2            0;10       0\n3           0;396       0\n4            0;14       1\n...           ...     ...\n790444   19998;26       0\n790445   19998;31       0\n790446   19998;29       0\n790447  19998;798       0\n790448  19998;415       1\n\n[790449 rows x 2 columns]",
      "text/html": "<div>\n<style scoped>\n    .dataframe tbody tr th:only-of-type {\n        vertical-align: middle;\n    }\n\n    .dataframe tbody tr th {\n        vertical-align: top;\n    }\n\n    .dataframe thead th {\n        text-align: right;\n    }\n</style>\n<table border=\"1\" class=\"dataframe\">\n  <thead>\n    <tr style=\"text-align: right;\">\n      <th></th>\n      <th>id</th>\n      <th>target</th>\n    </tr>\n  </thead>\n  <tbody>\n    <tr>\n      <th>0</th>\n      <td>0;133</td>\n      <td>0</td>\n    </tr>\n    <tr>\n      <th>1</th>\n      <td>0;5</td>\n      <td>0</td>\n    </tr>\n    <tr>\n      <th>2</th>\n      <td>0;10</td>\n      <td>0</td>\n    </tr>\n    <tr>\n      <th>3</th>\n      <td>0;396</td>\n      <td>0</td>\n    </tr>\n    <tr>\n      <th>4</th>\n      <td>0;14</td>\n      <td>1</td>\n    </tr>\n    <tr>\n      <th>...</th>\n      <td>...</td>\n      <td>...</td>\n    </tr>\n    <tr>\n      <th>790444</th>\n      <td>19998;26</td>\n      <td>0</td>\n    </tr>\n    <tr>\n      <th>790445</th>\n      <td>19998;31</td>\n      <td>0</td>\n    </tr>\n    <tr>\n      <th>790446</th>\n      <td>19998;29</td>\n      <td>0</td>\n    </tr>\n    <tr>\n      <th>790447</th>\n      <td>19998;798</td>\n      <td>0</td>\n    </tr>\n    <tr>\n      <th>790448</th>\n      <td>19998;415</td>\n      <td>1</td>\n    </tr>\n  </tbody>\n</table>\n<p>790449 rows × 2 columns</p>\n</div>"
     },
     "execution_count": 172,
     "metadata": {},
     "output_type": "execute_result"
    }
   ],
   "source": [
    "submission"
   ],
   "metadata": {
    "collapsed": false,
    "pycharm": {
     "name": "#%%\n"
    }
   }
  },
  {
   "cell_type": "code",
   "execution_count": 182,
   "outputs": [
    {
     "ename": "SyntaxError",
     "evalue": "invalid syntax (1121086979.py, line 2)",
     "output_type": "error",
     "traceback": [
      "\u001B[1;36m  Cell \u001B[1;32mIn[182], line 2\u001B[1;36m\u001B[0m\n\u001B[1;33m    mask = qweqwe=!submission\u001B[0m\n\u001B[1;37m                  ^\u001B[0m\n\u001B[1;31mSyntaxError\u001B[0m\u001B[1;31m:\u001B[0m invalid syntax\n"
     ]
    }
   ],
   "source": [
    "qweqwe = pd.read_csv('sub1.csv')\n",
    "mask = qweqwe==submission\n",
    "print(sum(submission.target))\n",
    "print(sum(qweqwe.target))"
   ],
   "metadata": {
    "collapsed": false,
    "pycharm": {
     "name": "#%%\n"
    }
   }
  },
  {
   "cell_type": "code",
   "execution_count": 183,
   "outputs": [],
   "source": [
    "first = submission.target\n",
    "second = qweqwe.target"
   ],
   "metadata": {
    "collapsed": false,
    "pycharm": {
     "name": "#%%\n"
    }
   }
  },
  {
   "cell_type": "code",
   "execution_count": 184,
   "outputs": [
    {
     "data": {
      "text/plain": "0         True\n1         True\n2         True\n3         True\n4         True\n          ... \n790444    True\n790445    True\n790446    True\n790447    True\n790448    True\nName: target, Length: 790449, dtype: bool"
     },
     "execution_count": 184,
     "metadata": {},
     "output_type": "execute_result"
    }
   ],
   "source": [
    "first == second"
   ],
   "metadata": {
    "collapsed": false,
    "pycharm": {
     "name": "#%%\n"
    }
   }
  },
  {
   "cell_type": "code",
   "execution_count": 185,
   "outputs": [],
   "source": [
    "fir_df = pd.read_csv('sub2.csv')\n",
    "first = fir_df.target\n",
    "second = qweqwe.target"
   ],
   "metadata": {
    "collapsed": false,
    "pycharm": {
     "name": "#%%\n"
    }
   }
  },
  {
   "cell_type": "code",
   "execution_count": 186,
   "outputs": [
    {
     "data": {
      "text/plain": "0         True\n1         True\n2         True\n3         True\n4         True\n          ... \n790444    True\n790445    True\n790446    True\n790447    True\n790448    True\nName: target, Length: 790449, dtype: bool"
     },
     "execution_count": 186,
     "metadata": {},
     "output_type": "execute_result"
    }
   ],
   "source": [
    "first == second"
   ],
   "metadata": {
    "collapsed": false,
    "pycharm": {
     "name": "#%%\n"
    }
   }
  },
  {
   "cell_type": "code",
   "execution_count": null,
   "outputs": [],
   "source": [],
   "metadata": {
    "collapsed": false,
    "pycharm": {
     "name": "#%%\n"
    }
   }
  }
 ],
 "metadata": {
  "kernelspec": {
   "display_name": "Python 3",
   "language": "python",
   "name": "python3"
  },
  "language_info": {
   "codemirror_mode": {
    "name": "ipython",
    "version": 2
   },
   "file_extension": ".py",
   "mimetype": "text/x-python",
   "name": "python",
   "nbconvert_exporter": "python",
   "pygments_lexer": "ipython2",
   "version": "2.7.6"
  }
 },
 "nbformat": 4,
 "nbformat_minor": 0
}