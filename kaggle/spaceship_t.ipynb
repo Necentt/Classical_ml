{
 "cells": [
  {
   "cell_type": "code",
   "execution_count": 1,
   "metadata": {
    "collapsed": true,
    "pycharm": {
     "name": "#%%\n"
    }
   },
   "outputs": [
    {
     "name": "stderr",
     "output_type": "stream",
     "text": [
      "C:\\Users\\Борис\\AppData\\Local\\Temp\\ipykernel_4584\\2937650959.py:1: DeprecationWarning: \n",
      "Pyarrow will become a required dependency of pandas in the next major release of pandas (pandas 3.0),\n",
      "(to allow more performant data types, such as the Arrow string type, and better interoperability with other libraries)\n",
      "but was not found to be installed on your system.\n",
      "If this would cause problems for you,\n",
      "please provide us feedback at https://github.com/pandas-dev/pandas/issues/54466\n",
      "        \n",
      "  import pandas as pd\n"
     ]
    }
   ],
   "source": [
    "import pandas as pd\n",
    "import numpy as np"
   ]
  },
  {
   "cell_type": "code",
   "execution_count": 2,
   "outputs": [
    {
     "name": "stderr",
     "output_type": "stream",
     "text": [
      "C:\\Users\\Борис\\AppData\\Local\\Temp\\ipykernel_4584\\2303491438.py:8: FutureWarning: Downcasting behavior in `replace` is deprecated and will be removed in a future version. To retain the old behavior, explicitly call `result.infer_objects(copy=False)`. To opt-in to the future behavior, set `pd.set_option('future.no_silent_downcasting', True)`\n",
      "  spaceship['HomePlanet'] = spaceship.HomePlanet.replace(['Earth', 'Europa', 'Mars'], [0, 1, 2])\n",
      "C:\\Users\\Борис\\AppData\\Local\\Temp\\ipykernel_4584\\2303491438.py:9: FutureWarning: Downcasting behavior in `replace` is deprecated and will be removed in a future version. To retain the old behavior, explicitly call `result.infer_objects(copy=False)`. To opt-in to the future behavior, set `pd.set_option('future.no_silent_downcasting', True)`\n",
      "  spaceship['CryoSleep'] = spaceship.CryoSleep.replace([False, True], [0, 1])\n",
      "C:\\Users\\Борис\\AppData\\Local\\Temp\\ipykernel_4584\\2303491438.py:10: FutureWarning: Downcasting behavior in `replace` is deprecated and will be removed in a future version. To retain the old behavior, explicitly call `result.infer_objects(copy=False)`. To opt-in to the future behavior, set `pd.set_option('future.no_silent_downcasting', True)`\n",
      "  spaceship['VIP'] = spaceship.VIP.replace([False, True], [0, 1])\n",
      "C:\\Users\\Борис\\AppData\\Local\\Temp\\ipykernel_4584\\2303491438.py:11: FutureWarning: Downcasting behavior in `replace` is deprecated and will be removed in a future version. To retain the old behavior, explicitly call `result.infer_objects(copy=False)`. To opt-in to the future behavior, set `pd.set_option('future.no_silent_downcasting', True)`\n",
      "  spaceship['Transported'] = spaceship.Transported.replace([False, True], [0, 1])\n",
      "C:\\Users\\Борис\\AppData\\Local\\Temp\\ipykernel_4584\\2303491438.py:14: FutureWarning: Downcasting behavior in `replace` is deprecated and will be removed in a future version. To retain the old behavior, explicitly call `result.infer_objects(copy=False)`. To opt-in to the future behavior, set `pd.set_option('future.no_silent_downcasting', True)`\n",
      "  spaceship['Side'] = spaceship.Side.replace(['S', 'P'], [0, 1])\n",
      "C:\\Users\\Борис\\AppData\\Local\\Temp\\ipykernel_4584\\2303491438.py:15: FutureWarning: Downcasting behavior in `replace` is deprecated and will be removed in a future version. To retain the old behavior, explicitly call `result.infer_objects(copy=False)`. To opt-in to the future behavior, set `pd.set_option('future.no_silent_downcasting', True)`\n",
      "  spaceship['Deck'] = spaceship.Deck.replace(['A', 'B', 'C', 'D', 'E', 'F', 'G', 'T'], list(range(8)))\n"
     ]
    },
    {
     "data": {
      "text/plain": "  PassengerId  HomePlanet  CryoSleep  Cabin  Destination   Age  VIP  \\\n0     0001_01         1.0        0.0  B/0/P  TRAPPIST-1e  39.0  0.0   \n1     0002_01         0.0        0.0  F/0/S  TRAPPIST-1e  24.0  0.0   \n2     0003_01         1.0        0.0  A/0/S  TRAPPIST-1e  58.0  1.0   \n3     0003_02         1.0        0.0  A/0/S  TRAPPIST-1e  33.0  0.0   \n4     0004_01         0.0        0.0  F/1/S  TRAPPIST-1e  16.0  0.0   \n\n   RoomService  FoodCourt  ShoppingMall     Spa  VRDeck               Name  \\\n0          0.0        0.0           0.0     0.0     0.0    Maham Ofracculy   \n1        109.0        9.0          25.0   549.0    44.0       Juanna Vines   \n2         43.0     3576.0           0.0  6715.0    49.0      Altark Susent   \n3          0.0     1283.0         371.0  3329.0   193.0       Solam Susent   \n4        303.0       70.0         151.0   565.0     2.0  Willy Santantines   \n\n   Transported  Group  Deck  Nums  Side  \n0            0      1   1.0   0.0   1.0  \n1            1      1   5.0   0.0   0.0  \n2            0      1   0.0   0.0   0.0  \n3            0      2   0.0   0.0   0.0  \n4            1      1   5.0   1.0   0.0  ",
      "text/html": "<div>\n<style scoped>\n    .dataframe tbody tr th:only-of-type {\n        vertical-align: middle;\n    }\n\n    .dataframe tbody tr th {\n        vertical-align: top;\n    }\n\n    .dataframe thead th {\n        text-align: right;\n    }\n</style>\n<table border=\"1\" class=\"dataframe\">\n  <thead>\n    <tr style=\"text-align: right;\">\n      <th></th>\n      <th>PassengerId</th>\n      <th>HomePlanet</th>\n      <th>CryoSleep</th>\n      <th>Cabin</th>\n      <th>Destination</th>\n      <th>Age</th>\n      <th>VIP</th>\n      <th>RoomService</th>\n      <th>FoodCourt</th>\n      <th>ShoppingMall</th>\n      <th>Spa</th>\n      <th>VRDeck</th>\n      <th>Name</th>\n      <th>Transported</th>\n      <th>Group</th>\n      <th>Deck</th>\n      <th>Nums</th>\n      <th>Side</th>\n    </tr>\n  </thead>\n  <tbody>\n    <tr>\n      <th>0</th>\n      <td>0001_01</td>\n      <td>1.0</td>\n      <td>0.0</td>\n      <td>B/0/P</td>\n      <td>TRAPPIST-1e</td>\n      <td>39.0</td>\n      <td>0.0</td>\n      <td>0.0</td>\n      <td>0.0</td>\n      <td>0.0</td>\n      <td>0.0</td>\n      <td>0.0</td>\n      <td>Maham Ofracculy</td>\n      <td>0</td>\n      <td>1</td>\n      <td>1.0</td>\n      <td>0.0</td>\n      <td>1.0</td>\n    </tr>\n    <tr>\n      <th>1</th>\n      <td>0002_01</td>\n      <td>0.0</td>\n      <td>0.0</td>\n      <td>F/0/S</td>\n      <td>TRAPPIST-1e</td>\n      <td>24.0</td>\n      <td>0.0</td>\n      <td>109.0</td>\n      <td>9.0</td>\n      <td>25.0</td>\n      <td>549.0</td>\n      <td>44.0</td>\n      <td>Juanna Vines</td>\n      <td>1</td>\n      <td>1</td>\n      <td>5.0</td>\n      <td>0.0</td>\n      <td>0.0</td>\n    </tr>\n    <tr>\n      <th>2</th>\n      <td>0003_01</td>\n      <td>1.0</td>\n      <td>0.0</td>\n      <td>A/0/S</td>\n      <td>TRAPPIST-1e</td>\n      <td>58.0</td>\n      <td>1.0</td>\n      <td>43.0</td>\n      <td>3576.0</td>\n      <td>0.0</td>\n      <td>6715.0</td>\n      <td>49.0</td>\n      <td>Altark Susent</td>\n      <td>0</td>\n      <td>1</td>\n      <td>0.0</td>\n      <td>0.0</td>\n      <td>0.0</td>\n    </tr>\n    <tr>\n      <th>3</th>\n      <td>0003_02</td>\n      <td>1.0</td>\n      <td>0.0</td>\n      <td>A/0/S</td>\n      <td>TRAPPIST-1e</td>\n      <td>33.0</td>\n      <td>0.0</td>\n      <td>0.0</td>\n      <td>1283.0</td>\n      <td>371.0</td>\n      <td>3329.0</td>\n      <td>193.0</td>\n      <td>Solam Susent</td>\n      <td>0</td>\n      <td>2</td>\n      <td>0.0</td>\n      <td>0.0</td>\n      <td>0.0</td>\n    </tr>\n    <tr>\n      <th>4</th>\n      <td>0004_01</td>\n      <td>0.0</td>\n      <td>0.0</td>\n      <td>F/1/S</td>\n      <td>TRAPPIST-1e</td>\n      <td>16.0</td>\n      <td>0.0</td>\n      <td>303.0</td>\n      <td>70.0</td>\n      <td>151.0</td>\n      <td>565.0</td>\n      <td>2.0</td>\n      <td>Willy Santantines</td>\n      <td>1</td>\n      <td>1</td>\n      <td>5.0</td>\n      <td>1.0</td>\n      <td>0.0</td>\n    </tr>\n  </tbody>\n</table>\n</div>"
     },
     "execution_count": 2,
     "metadata": {},
     "output_type": "execute_result"
    }
   ],
   "source": [
    "def slt_1_2(x):\n",
    "    if not pd.isnull(x):\n",
    "        x = x.split('/')\n",
    "        return x[0], int(x[1]), x[2]\n",
    "    else:\n",
    "        return np.nan, np.nan, np.nan\n",
    "spaceship = pd.read_csv('data/spaceship_titanic/train.csv')\n",
    "spaceship['HomePlanet'] = spaceship.HomePlanet.replace(['Earth', 'Europa', 'Mars'], [0, 1, 2])\n",
    "spaceship['CryoSleep'] = spaceship.CryoSleep.replace([False, True], [0, 1])\n",
    "spaceship['VIP'] = spaceship.VIP.replace([False, True], [0, 1])\n",
    "spaceship['Transported'] = spaceship.Transported.replace([False, True], [0, 1])\n",
    "spaceship['Group'] = spaceship.PassengerId.apply(lambda x: int(x.split('_')[1]))\n",
    "spaceship['Deck'], spaceship['Nums'], spaceship['Side'] = zip(*spaceship['Cabin'].apply(slt_1_2))\n",
    "spaceship['Side'] = spaceship.Side.replace(['S', 'P'], [0, 1])\n",
    "spaceship['Deck'] = spaceship.Deck.replace(['A', 'B', 'C', 'D', 'E', 'F', 'G', 'T'], list(range(8)))\n",
    "spaceship.head()"
   ],
   "metadata": {
    "collapsed": false,
    "pycharm": {
     "name": "#%%\n"
    }
   }
  },
  {
   "cell_type": "code",
   "execution_count": 110,
   "outputs": [
    {
     "name": "stdout",
     "output_type": "stream",
     "text": [
      "<class 'pandas.core.frame.DataFrame'>\n",
      "RangeIndex: 8693 entries, 0 to 8692\n",
      "Data columns (total 18 columns):\n",
      " #   Column        Non-Null Count  Dtype  \n",
      "---  ------        --------------  -----  \n",
      " 0   PassengerId   8693 non-null   object \n",
      " 1   HomePlanet    8492 non-null   float64\n",
      " 2   CryoSleep     8476 non-null   float64\n",
      " 3   Cabin         8494 non-null   object \n",
      " 4   Destination   8511 non-null   object \n",
      " 5   Age           8514 non-null   float64\n",
      " 6   VIP           8490 non-null   float64\n",
      " 7   RoomService   8512 non-null   float64\n",
      " 8   FoodCourt     8510 non-null   float64\n",
      " 9   ShoppingMall  8485 non-null   float64\n",
      " 10  Spa           8510 non-null   float64\n",
      " 11  VRDeck        8505 non-null   float64\n",
      " 12  Name          8493 non-null   object \n",
      " 13  Transported   8693 non-null   int64  \n",
      " 14  Group         8693 non-null   int64  \n",
      " 15  Deck          8494 non-null   float64\n",
      " 16  Nums          8494 non-null   float64\n",
      " 17  Side          8494 non-null   float64\n",
      "dtypes: float64(12), int64(2), object(4)\n",
      "memory usage: 1.2+ MB\n"
     ]
    }
   ],
   "source": [
    "spaceship.info()"
   ],
   "metadata": {
    "collapsed": false,
    "pycharm": {
     "name": "#%%\n"
    }
   }
  },
  {
   "cell_type": "code",
   "execution_count": 111,
   "outputs": [
    {
     "data": {
      "text/plain": "        HomePlanet    CryoSleep          Age          VIP   RoomService  \\\ncount  8492.000000  8476.000000  8514.000000  8490.000000   8512.000000   \nmean      0.665214     0.358306    28.827930     0.023439    224.687617   \nstd       0.798155     0.479531    14.489021     0.151303    666.717663   \nmin       0.000000     0.000000     0.000000     0.000000      0.000000   \n25%       0.000000     0.000000    19.000000     0.000000      0.000000   \n50%       0.000000     0.000000    27.000000     0.000000      0.000000   \n75%       1.000000     1.000000    38.000000     0.000000     47.000000   \nmax       2.000000     1.000000    79.000000     1.000000  14327.000000   \n\n          FoodCourt  ShoppingMall           Spa        VRDeck  Transported  \\\ncount   8510.000000   8485.000000   8510.000000   8505.000000  8693.000000   \nmean     458.077203    173.729169    311.138778    304.854791     0.503624   \nstd     1611.489240    604.696458   1136.705535   1145.717189     0.500016   \nmin        0.000000      0.000000      0.000000      0.000000     0.000000   \n25%        0.000000      0.000000      0.000000      0.000000     0.000000   \n50%        0.000000      0.000000      0.000000      0.000000     1.000000   \n75%       76.000000     27.000000     59.000000     46.000000     1.000000   \nmax    29813.000000  23492.000000  22408.000000  24133.000000     1.000000   \n\n             Group         Deck         Nums         Side  \ncount  8693.000000  8494.000000  8494.000000  8494.000000  \nmean      1.517773     4.305392   600.367671     0.495173  \nstd       1.054241     1.778233   511.867226     0.500006  \nmin       1.000000     0.000000     0.000000     0.000000  \n25%       1.000000     3.000000   167.250000     0.000000  \n50%       1.000000     5.000000   427.000000     0.000000  \n75%       2.000000     6.000000   999.000000     1.000000  \nmax       8.000000     7.000000  1894.000000     1.000000  ",
      "text/html": "<div>\n<style scoped>\n    .dataframe tbody tr th:only-of-type {\n        vertical-align: middle;\n    }\n\n    .dataframe tbody tr th {\n        vertical-align: top;\n    }\n\n    .dataframe thead th {\n        text-align: right;\n    }\n</style>\n<table border=\"1\" class=\"dataframe\">\n  <thead>\n    <tr style=\"text-align: right;\">\n      <th></th>\n      <th>HomePlanet</th>\n      <th>CryoSleep</th>\n      <th>Age</th>\n      <th>VIP</th>\n      <th>RoomService</th>\n      <th>FoodCourt</th>\n      <th>ShoppingMall</th>\n      <th>Spa</th>\n      <th>VRDeck</th>\n      <th>Transported</th>\n      <th>Group</th>\n      <th>Deck</th>\n      <th>Nums</th>\n      <th>Side</th>\n    </tr>\n  </thead>\n  <tbody>\n    <tr>\n      <th>count</th>\n      <td>8492.000000</td>\n      <td>8476.000000</td>\n      <td>8514.000000</td>\n      <td>8490.000000</td>\n      <td>8512.000000</td>\n      <td>8510.000000</td>\n      <td>8485.000000</td>\n      <td>8510.000000</td>\n      <td>8505.000000</td>\n      <td>8693.000000</td>\n      <td>8693.000000</td>\n      <td>8494.000000</td>\n      <td>8494.000000</td>\n      <td>8494.000000</td>\n    </tr>\n    <tr>\n      <th>mean</th>\n      <td>0.665214</td>\n      <td>0.358306</td>\n      <td>28.827930</td>\n      <td>0.023439</td>\n      <td>224.687617</td>\n      <td>458.077203</td>\n      <td>173.729169</td>\n      <td>311.138778</td>\n      <td>304.854791</td>\n      <td>0.503624</td>\n      <td>1.517773</td>\n      <td>4.305392</td>\n      <td>600.367671</td>\n      <td>0.495173</td>\n    </tr>\n    <tr>\n      <th>std</th>\n      <td>0.798155</td>\n      <td>0.479531</td>\n      <td>14.489021</td>\n      <td>0.151303</td>\n      <td>666.717663</td>\n      <td>1611.489240</td>\n      <td>604.696458</td>\n      <td>1136.705535</td>\n      <td>1145.717189</td>\n      <td>0.500016</td>\n      <td>1.054241</td>\n      <td>1.778233</td>\n      <td>511.867226</td>\n      <td>0.500006</td>\n    </tr>\n    <tr>\n      <th>min</th>\n      <td>0.000000</td>\n      <td>0.000000</td>\n      <td>0.000000</td>\n      <td>0.000000</td>\n      <td>0.000000</td>\n      <td>0.000000</td>\n      <td>0.000000</td>\n      <td>0.000000</td>\n      <td>0.000000</td>\n      <td>0.000000</td>\n      <td>1.000000</td>\n      <td>0.000000</td>\n      <td>0.000000</td>\n      <td>0.000000</td>\n    </tr>\n    <tr>\n      <th>25%</th>\n      <td>0.000000</td>\n      <td>0.000000</td>\n      <td>19.000000</td>\n      <td>0.000000</td>\n      <td>0.000000</td>\n      <td>0.000000</td>\n      <td>0.000000</td>\n      <td>0.000000</td>\n      <td>0.000000</td>\n      <td>0.000000</td>\n      <td>1.000000</td>\n      <td>3.000000</td>\n      <td>167.250000</td>\n      <td>0.000000</td>\n    </tr>\n    <tr>\n      <th>50%</th>\n      <td>0.000000</td>\n      <td>0.000000</td>\n      <td>27.000000</td>\n      <td>0.000000</td>\n      <td>0.000000</td>\n      <td>0.000000</td>\n      <td>0.000000</td>\n      <td>0.000000</td>\n      <td>0.000000</td>\n      <td>1.000000</td>\n      <td>1.000000</td>\n      <td>5.000000</td>\n      <td>427.000000</td>\n      <td>0.000000</td>\n    </tr>\n    <tr>\n      <th>75%</th>\n      <td>1.000000</td>\n      <td>1.000000</td>\n      <td>38.000000</td>\n      <td>0.000000</td>\n      <td>47.000000</td>\n      <td>76.000000</td>\n      <td>27.000000</td>\n      <td>59.000000</td>\n      <td>46.000000</td>\n      <td>1.000000</td>\n      <td>2.000000</td>\n      <td>6.000000</td>\n      <td>999.000000</td>\n      <td>1.000000</td>\n    </tr>\n    <tr>\n      <th>max</th>\n      <td>2.000000</td>\n      <td>1.000000</td>\n      <td>79.000000</td>\n      <td>1.000000</td>\n      <td>14327.000000</td>\n      <td>29813.000000</td>\n      <td>23492.000000</td>\n      <td>22408.000000</td>\n      <td>24133.000000</td>\n      <td>1.000000</td>\n      <td>8.000000</td>\n      <td>7.000000</td>\n      <td>1894.000000</td>\n      <td>1.000000</td>\n    </tr>\n  </tbody>\n</table>\n</div>"
     },
     "execution_count": 111,
     "metadata": {},
     "output_type": "execute_result"
    }
   ],
   "source": [
    "spaceship.describe()"
   ],
   "metadata": {
    "collapsed": false,
    "pycharm": {
     "name": "#%%\n"
    }
   }
  },
  {
   "cell_type": "code",
   "execution_count": 112,
   "outputs": [
    {
     "data": {
      "text/plain": "Destination\nTRAPPIST-1e      5915\n55 Cancri e      1800\nPSO J318.5-22     796\nName: count, dtype: int64"
     },
     "execution_count": 112,
     "metadata": {},
     "output_type": "execute_result"
    }
   ],
   "source": [
    "spaceship.Destination.value_counts()"
   ],
   "metadata": {
    "collapsed": false,
    "pycharm": {
     "name": "#%%\n"
    }
   }
  },
  {
   "cell_type": "code",
   "execution_count": 3,
   "outputs": [
    {
     "name": "stderr",
     "output_type": "stream",
     "text": [
      "C:\\Users\\Борис\\AppData\\Local\\Temp\\ipykernel_4584\\192673671.py:1: FutureWarning: Downcasting behavior in `replace` is deprecated and will be removed in a future version. To retain the old behavior, explicitly call `result.infer_objects(copy=False)`. To opt-in to the future behavior, set `pd.set_option('future.no_silent_downcasting', True)`\n",
      "  spaceship['Destination'] = spaceship.Destination.replace(['TRAPPIST-1e', '55 Cancri e', 'PSO J318.5-22'], [0, 1, 2])\n"
     ]
    }
   ],
   "source": [
    "spaceship['Destination'] = spaceship.Destination.replace(['TRAPPIST-1e', '55 Cancri e', 'PSO J318.5-22'], [0, 1, 2])"
   ],
   "metadata": {
    "collapsed": false,
    "pycharm": {
     "name": "#%%\n"
    }
   }
  },
  {
   "cell_type": "code",
   "execution_count": 114,
   "outputs": [
    {
     "data": {
      "text/plain": "        HomePlanet    CryoSleep  Destination          Age          VIP  \\\ncount  8492.000000  8476.000000  8511.000000  8514.000000  8490.000000   \nmean      0.665214     0.358306     0.398543    28.827930     0.023439   \nstd       0.798155     0.479531     0.653306    14.489021     0.151303   \nmin       0.000000     0.000000     0.000000     0.000000     0.000000   \n25%       0.000000     0.000000     0.000000    19.000000     0.000000   \n50%       0.000000     0.000000     0.000000    27.000000     0.000000   \n75%       1.000000     1.000000     1.000000    38.000000     0.000000   \nmax       2.000000     1.000000     2.000000    79.000000     1.000000   \n\n        RoomService     FoodCourt  ShoppingMall           Spa        VRDeck  \\\ncount   8512.000000   8510.000000   8485.000000   8510.000000   8505.000000   \nmean     224.687617    458.077203    173.729169    311.138778    304.854791   \nstd      666.717663   1611.489240    604.696458   1136.705535   1145.717189   \nmin        0.000000      0.000000      0.000000      0.000000      0.000000   \n25%        0.000000      0.000000      0.000000      0.000000      0.000000   \n50%        0.000000      0.000000      0.000000      0.000000      0.000000   \n75%       47.000000     76.000000     27.000000     59.000000     46.000000   \nmax    14327.000000  29813.000000  23492.000000  22408.000000  24133.000000   \n\n       Transported        Group         Deck         Nums         Side  \ncount  8693.000000  8693.000000  8494.000000  8494.000000  8494.000000  \nmean      0.503624     1.517773     4.305392   600.367671     0.495173  \nstd       0.500016     1.054241     1.778233   511.867226     0.500006  \nmin       0.000000     1.000000     0.000000     0.000000     0.000000  \n25%       0.000000     1.000000     3.000000   167.250000     0.000000  \n50%       1.000000     1.000000     5.000000   427.000000     0.000000  \n75%       1.000000     2.000000     6.000000   999.000000     1.000000  \nmax       1.000000     8.000000     7.000000  1894.000000     1.000000  ",
      "text/html": "<div>\n<style scoped>\n    .dataframe tbody tr th:only-of-type {\n        vertical-align: middle;\n    }\n\n    .dataframe tbody tr th {\n        vertical-align: top;\n    }\n\n    .dataframe thead th {\n        text-align: right;\n    }\n</style>\n<table border=\"1\" class=\"dataframe\">\n  <thead>\n    <tr style=\"text-align: right;\">\n      <th></th>\n      <th>HomePlanet</th>\n      <th>CryoSleep</th>\n      <th>Destination</th>\n      <th>Age</th>\n      <th>VIP</th>\n      <th>RoomService</th>\n      <th>FoodCourt</th>\n      <th>ShoppingMall</th>\n      <th>Spa</th>\n      <th>VRDeck</th>\n      <th>Transported</th>\n      <th>Group</th>\n      <th>Deck</th>\n      <th>Nums</th>\n      <th>Side</th>\n    </tr>\n  </thead>\n  <tbody>\n    <tr>\n      <th>count</th>\n      <td>8492.000000</td>\n      <td>8476.000000</td>\n      <td>8511.000000</td>\n      <td>8514.000000</td>\n      <td>8490.000000</td>\n      <td>8512.000000</td>\n      <td>8510.000000</td>\n      <td>8485.000000</td>\n      <td>8510.000000</td>\n      <td>8505.000000</td>\n      <td>8693.000000</td>\n      <td>8693.000000</td>\n      <td>8494.000000</td>\n      <td>8494.000000</td>\n      <td>8494.000000</td>\n    </tr>\n    <tr>\n      <th>mean</th>\n      <td>0.665214</td>\n      <td>0.358306</td>\n      <td>0.398543</td>\n      <td>28.827930</td>\n      <td>0.023439</td>\n      <td>224.687617</td>\n      <td>458.077203</td>\n      <td>173.729169</td>\n      <td>311.138778</td>\n      <td>304.854791</td>\n      <td>0.503624</td>\n      <td>1.517773</td>\n      <td>4.305392</td>\n      <td>600.367671</td>\n      <td>0.495173</td>\n    </tr>\n    <tr>\n      <th>std</th>\n      <td>0.798155</td>\n      <td>0.479531</td>\n      <td>0.653306</td>\n      <td>14.489021</td>\n      <td>0.151303</td>\n      <td>666.717663</td>\n      <td>1611.489240</td>\n      <td>604.696458</td>\n      <td>1136.705535</td>\n      <td>1145.717189</td>\n      <td>0.500016</td>\n      <td>1.054241</td>\n      <td>1.778233</td>\n      <td>511.867226</td>\n      <td>0.500006</td>\n    </tr>\n    <tr>\n      <th>min</th>\n      <td>0.000000</td>\n      <td>0.000000</td>\n      <td>0.000000</td>\n      <td>0.000000</td>\n      <td>0.000000</td>\n      <td>0.000000</td>\n      <td>0.000000</td>\n      <td>0.000000</td>\n      <td>0.000000</td>\n      <td>0.000000</td>\n      <td>0.000000</td>\n      <td>1.000000</td>\n      <td>0.000000</td>\n      <td>0.000000</td>\n      <td>0.000000</td>\n    </tr>\n    <tr>\n      <th>25%</th>\n      <td>0.000000</td>\n      <td>0.000000</td>\n      <td>0.000000</td>\n      <td>19.000000</td>\n      <td>0.000000</td>\n      <td>0.000000</td>\n      <td>0.000000</td>\n      <td>0.000000</td>\n      <td>0.000000</td>\n      <td>0.000000</td>\n      <td>0.000000</td>\n      <td>1.000000</td>\n      <td>3.000000</td>\n      <td>167.250000</td>\n      <td>0.000000</td>\n    </tr>\n    <tr>\n      <th>50%</th>\n      <td>0.000000</td>\n      <td>0.000000</td>\n      <td>0.000000</td>\n      <td>27.000000</td>\n      <td>0.000000</td>\n      <td>0.000000</td>\n      <td>0.000000</td>\n      <td>0.000000</td>\n      <td>0.000000</td>\n      <td>0.000000</td>\n      <td>1.000000</td>\n      <td>1.000000</td>\n      <td>5.000000</td>\n      <td>427.000000</td>\n      <td>0.000000</td>\n    </tr>\n    <tr>\n      <th>75%</th>\n      <td>1.000000</td>\n      <td>1.000000</td>\n      <td>1.000000</td>\n      <td>38.000000</td>\n      <td>0.000000</td>\n      <td>47.000000</td>\n      <td>76.000000</td>\n      <td>27.000000</td>\n      <td>59.000000</td>\n      <td>46.000000</td>\n      <td>1.000000</td>\n      <td>2.000000</td>\n      <td>6.000000</td>\n      <td>999.000000</td>\n      <td>1.000000</td>\n    </tr>\n    <tr>\n      <th>max</th>\n      <td>2.000000</td>\n      <td>1.000000</td>\n      <td>2.000000</td>\n      <td>79.000000</td>\n      <td>1.000000</td>\n      <td>14327.000000</td>\n      <td>29813.000000</td>\n      <td>23492.000000</td>\n      <td>22408.000000</td>\n      <td>24133.000000</td>\n      <td>1.000000</td>\n      <td>8.000000</td>\n      <td>7.000000</td>\n      <td>1894.000000</td>\n      <td>1.000000</td>\n    </tr>\n  </tbody>\n</table>\n</div>"
     },
     "execution_count": 114,
     "metadata": {},
     "output_type": "execute_result"
    }
   ],
   "source": [
    "spaceship.describe()"
   ],
   "metadata": {
    "collapsed": false,
    "pycharm": {
     "name": "#%%\n"
    }
   }
  },
  {
   "cell_type": "code",
   "execution_count": 115,
   "outputs": [
    {
     "name": "stdout",
     "output_type": "stream",
     "text": [
      "<class 'pandas.core.frame.DataFrame'>\n",
      "RangeIndex: 8693 entries, 0 to 8692\n",
      "Data columns (total 18 columns):\n",
      " #   Column        Non-Null Count  Dtype  \n",
      "---  ------        --------------  -----  \n",
      " 0   PassengerId   8693 non-null   object \n",
      " 1   HomePlanet    8492 non-null   float64\n",
      " 2   CryoSleep     8476 non-null   float64\n",
      " 3   Cabin         8494 non-null   object \n",
      " 4   Destination   8511 non-null   float64\n",
      " 5   Age           8514 non-null   float64\n",
      " 6   VIP           8490 non-null   float64\n",
      " 7   RoomService   8512 non-null   float64\n",
      " 8   FoodCourt     8510 non-null   float64\n",
      " 9   ShoppingMall  8485 non-null   float64\n",
      " 10  Spa           8510 non-null   float64\n",
      " 11  VRDeck        8505 non-null   float64\n",
      " 12  Name          8493 non-null   object \n",
      " 13  Transported   8693 non-null   int64  \n",
      " 14  Group         8693 non-null   int64  \n",
      " 15  Deck          8494 non-null   float64\n",
      " 16  Nums          8494 non-null   float64\n",
      " 17  Side          8494 non-null   float64\n",
      "dtypes: float64(13), int64(2), object(3)\n",
      "memory usage: 1.2+ MB\n"
     ]
    }
   ],
   "source": [
    "spaceship.info()"
   ],
   "metadata": {
    "collapsed": false,
    "pycharm": {
     "name": "#%%\n"
    }
   }
  },
  {
   "cell_type": "code",
   "execution_count": 4,
   "outputs": [],
   "source": [
    "spaceship = spaceship.drop(['PassengerId', 'Cabin', 'Name'], axis=1)"
   ],
   "metadata": {
    "collapsed": false,
    "pycharm": {
     "name": "#%%\n"
    }
   }
  },
  {
   "cell_type": "code",
   "execution_count": 130,
   "outputs": [
    {
     "data": {
      "text/plain": "              HomePlanet  CryoSleep  Destination       Age       VIP  \\\nHomePlanet      1.000000   0.088072    -0.163169  0.138058  0.127844   \nCryoSleep       0.088072   1.000000     0.120126 -0.074273 -0.081402   \nDestination    -0.163169   0.120126     1.000000 -0.013831  0.027478   \nAge             0.138058  -0.074273    -0.013831  1.000000  0.092819   \nVIP             0.127844  -0.081402     0.027478  0.092819  1.000000   \nRoomService     0.215963  -0.252396    -0.072975  0.068723  0.058785   \nFoodCourt       0.070782  -0.211510     0.025592  0.130421  0.129799   \nShoppingMall    0.103070  -0.212514    -0.037480  0.033133  0.018295   \nSpa             0.055232  -0.203991     0.000111  0.123970  0.061059   \nVRDeck          0.040292  -0.198857     0.014997  0.101007  0.125974   \nTransported     0.118101   0.468645     0.069011 -0.075026 -0.037650   \nGroup           0.038778   0.064676    -0.010709 -0.132756  0.000622   \nDeck           -0.418904   0.017823     0.015206 -0.248003 -0.183393   \nNums           -0.203172  -0.037560     0.004880 -0.132255 -0.099416   \nSide           -0.000528  -0.019677    -0.002760 -0.011640  0.010117   \n\n              RoomService  FoodCourt  ShoppingMall       Spa    VRDeck  \\\nHomePlanet       0.215963   0.070782      0.103070  0.055232  0.040292   \nCryoSleep       -0.252396  -0.211510     -0.212514 -0.203991 -0.198857   \nDestination     -0.072975   0.025592     -0.037480  0.000111  0.014997   \nAge              0.068723   0.130421      0.033133  0.123970  0.101007   \nVIP              0.058785   0.129799      0.018295  0.061059  0.125974   \nRoomService      1.000000  -0.015889      0.054480  0.010080 -0.019581   \nFoodCourt       -0.015889   1.000000     -0.014228  0.221891  0.227995   \nShoppingMall     0.054480  -0.014228      1.000000  0.013879 -0.007322   \nSpa              0.010080   0.221891      0.013879  1.000000  0.153821   \nVRDeck          -0.019581   0.227995     -0.007322  0.153821  1.000000   \nTransported     -0.244611   0.046566      0.010141 -0.221131 -0.207075   \nGroup           -0.022571   0.023391     -0.038812  0.016820  0.010082   \nDeck            -0.026783  -0.324348     -0.032926 -0.229111 -0.257326   \nNums            -0.008986  -0.183429      0.001727 -0.131342 -0.139080   \nSide             0.012290  -0.020149      0.020983 -0.002031  0.008154   \n\n              Transported     Group      Deck      Nums      Side  \nHomePlanet       0.118101  0.038778 -0.418904 -0.203172 -0.000528  \nCryoSleep        0.468645  0.064676  0.017823 -0.037560 -0.019677  \nDestination      0.069011 -0.010709  0.015206  0.004880 -0.002760  \nAge             -0.075026 -0.132756 -0.248003 -0.132255 -0.011640  \nVIP             -0.037650  0.000622 -0.183393 -0.099416  0.010117  \nRoomService     -0.244611 -0.022571 -0.026783 -0.008986  0.012290  \nFoodCourt        0.046566  0.023391 -0.324348 -0.183429 -0.020149  \nShoppingMall     0.010141 -0.038812 -0.032926  0.001727  0.020983  \nSpa             -0.221131  0.016820 -0.229111 -0.131342 -0.002031  \nVRDeck          -0.207075  0.010082 -0.257326 -0.139080  0.008154  \nTransported      1.000000  0.066390 -0.116462 -0.045097 -0.103775  \nGroup            0.066390  1.000000 -0.076804 -0.041735 -0.010910  \nDeck            -0.116462 -0.076804  1.000000  0.531449  0.034500  \nNums            -0.045097 -0.041735  0.531449  1.000000  0.037996  \nSide            -0.103775 -0.010910  0.034500  0.037996  1.000000  ",
      "text/html": "<div>\n<style scoped>\n    .dataframe tbody tr th:only-of-type {\n        vertical-align: middle;\n    }\n\n    .dataframe tbody tr th {\n        vertical-align: top;\n    }\n\n    .dataframe thead th {\n        text-align: right;\n    }\n</style>\n<table border=\"1\" class=\"dataframe\">\n  <thead>\n    <tr style=\"text-align: right;\">\n      <th></th>\n      <th>HomePlanet</th>\n      <th>CryoSleep</th>\n      <th>Destination</th>\n      <th>Age</th>\n      <th>VIP</th>\n      <th>RoomService</th>\n      <th>FoodCourt</th>\n      <th>ShoppingMall</th>\n      <th>Spa</th>\n      <th>VRDeck</th>\n      <th>Transported</th>\n      <th>Group</th>\n      <th>Deck</th>\n      <th>Nums</th>\n      <th>Side</th>\n    </tr>\n  </thead>\n  <tbody>\n    <tr>\n      <th>HomePlanet</th>\n      <td>1.000000</td>\n      <td>0.088072</td>\n      <td>-0.163169</td>\n      <td>0.138058</td>\n      <td>0.127844</td>\n      <td>0.215963</td>\n      <td>0.070782</td>\n      <td>0.103070</td>\n      <td>0.055232</td>\n      <td>0.040292</td>\n      <td>0.118101</td>\n      <td>0.038778</td>\n      <td>-0.418904</td>\n      <td>-0.203172</td>\n      <td>-0.000528</td>\n    </tr>\n    <tr>\n      <th>CryoSleep</th>\n      <td>0.088072</td>\n      <td>1.000000</td>\n      <td>0.120126</td>\n      <td>-0.074273</td>\n      <td>-0.081402</td>\n      <td>-0.252396</td>\n      <td>-0.211510</td>\n      <td>-0.212514</td>\n      <td>-0.203991</td>\n      <td>-0.198857</td>\n      <td>0.468645</td>\n      <td>0.064676</td>\n      <td>0.017823</td>\n      <td>-0.037560</td>\n      <td>-0.019677</td>\n    </tr>\n    <tr>\n      <th>Destination</th>\n      <td>-0.163169</td>\n      <td>0.120126</td>\n      <td>1.000000</td>\n      <td>-0.013831</td>\n      <td>0.027478</td>\n      <td>-0.072975</td>\n      <td>0.025592</td>\n      <td>-0.037480</td>\n      <td>0.000111</td>\n      <td>0.014997</td>\n      <td>0.069011</td>\n      <td>-0.010709</td>\n      <td>0.015206</td>\n      <td>0.004880</td>\n      <td>-0.002760</td>\n    </tr>\n    <tr>\n      <th>Age</th>\n      <td>0.138058</td>\n      <td>-0.074273</td>\n      <td>-0.013831</td>\n      <td>1.000000</td>\n      <td>0.092819</td>\n      <td>0.068723</td>\n      <td>0.130421</td>\n      <td>0.033133</td>\n      <td>0.123970</td>\n      <td>0.101007</td>\n      <td>-0.075026</td>\n      <td>-0.132756</td>\n      <td>-0.248003</td>\n      <td>-0.132255</td>\n      <td>-0.011640</td>\n    </tr>\n    <tr>\n      <th>VIP</th>\n      <td>0.127844</td>\n      <td>-0.081402</td>\n      <td>0.027478</td>\n      <td>0.092819</td>\n      <td>1.000000</td>\n      <td>0.058785</td>\n      <td>0.129799</td>\n      <td>0.018295</td>\n      <td>0.061059</td>\n      <td>0.125974</td>\n      <td>-0.037650</td>\n      <td>0.000622</td>\n      <td>-0.183393</td>\n      <td>-0.099416</td>\n      <td>0.010117</td>\n    </tr>\n    <tr>\n      <th>RoomService</th>\n      <td>0.215963</td>\n      <td>-0.252396</td>\n      <td>-0.072975</td>\n      <td>0.068723</td>\n      <td>0.058785</td>\n      <td>1.000000</td>\n      <td>-0.015889</td>\n      <td>0.054480</td>\n      <td>0.010080</td>\n      <td>-0.019581</td>\n      <td>-0.244611</td>\n      <td>-0.022571</td>\n      <td>-0.026783</td>\n      <td>-0.008986</td>\n      <td>0.012290</td>\n    </tr>\n    <tr>\n      <th>FoodCourt</th>\n      <td>0.070782</td>\n      <td>-0.211510</td>\n      <td>0.025592</td>\n      <td>0.130421</td>\n      <td>0.129799</td>\n      <td>-0.015889</td>\n      <td>1.000000</td>\n      <td>-0.014228</td>\n      <td>0.221891</td>\n      <td>0.227995</td>\n      <td>0.046566</td>\n      <td>0.023391</td>\n      <td>-0.324348</td>\n      <td>-0.183429</td>\n      <td>-0.020149</td>\n    </tr>\n    <tr>\n      <th>ShoppingMall</th>\n      <td>0.103070</td>\n      <td>-0.212514</td>\n      <td>-0.037480</td>\n      <td>0.033133</td>\n      <td>0.018295</td>\n      <td>0.054480</td>\n      <td>-0.014228</td>\n      <td>1.000000</td>\n      <td>0.013879</td>\n      <td>-0.007322</td>\n      <td>0.010141</td>\n      <td>-0.038812</td>\n      <td>-0.032926</td>\n      <td>0.001727</td>\n      <td>0.020983</td>\n    </tr>\n    <tr>\n      <th>Spa</th>\n      <td>0.055232</td>\n      <td>-0.203991</td>\n      <td>0.000111</td>\n      <td>0.123970</td>\n      <td>0.061059</td>\n      <td>0.010080</td>\n      <td>0.221891</td>\n      <td>0.013879</td>\n      <td>1.000000</td>\n      <td>0.153821</td>\n      <td>-0.221131</td>\n      <td>0.016820</td>\n      <td>-0.229111</td>\n      <td>-0.131342</td>\n      <td>-0.002031</td>\n    </tr>\n    <tr>\n      <th>VRDeck</th>\n      <td>0.040292</td>\n      <td>-0.198857</td>\n      <td>0.014997</td>\n      <td>0.101007</td>\n      <td>0.125974</td>\n      <td>-0.019581</td>\n      <td>0.227995</td>\n      <td>-0.007322</td>\n      <td>0.153821</td>\n      <td>1.000000</td>\n      <td>-0.207075</td>\n      <td>0.010082</td>\n      <td>-0.257326</td>\n      <td>-0.139080</td>\n      <td>0.008154</td>\n    </tr>\n    <tr>\n      <th>Transported</th>\n      <td>0.118101</td>\n      <td>0.468645</td>\n      <td>0.069011</td>\n      <td>-0.075026</td>\n      <td>-0.037650</td>\n      <td>-0.244611</td>\n      <td>0.046566</td>\n      <td>0.010141</td>\n      <td>-0.221131</td>\n      <td>-0.207075</td>\n      <td>1.000000</td>\n      <td>0.066390</td>\n      <td>-0.116462</td>\n      <td>-0.045097</td>\n      <td>-0.103775</td>\n    </tr>\n    <tr>\n      <th>Group</th>\n      <td>0.038778</td>\n      <td>0.064676</td>\n      <td>-0.010709</td>\n      <td>-0.132756</td>\n      <td>0.000622</td>\n      <td>-0.022571</td>\n      <td>0.023391</td>\n      <td>-0.038812</td>\n      <td>0.016820</td>\n      <td>0.010082</td>\n      <td>0.066390</td>\n      <td>1.000000</td>\n      <td>-0.076804</td>\n      <td>-0.041735</td>\n      <td>-0.010910</td>\n    </tr>\n    <tr>\n      <th>Deck</th>\n      <td>-0.418904</td>\n      <td>0.017823</td>\n      <td>0.015206</td>\n      <td>-0.248003</td>\n      <td>-0.183393</td>\n      <td>-0.026783</td>\n      <td>-0.324348</td>\n      <td>-0.032926</td>\n      <td>-0.229111</td>\n      <td>-0.257326</td>\n      <td>-0.116462</td>\n      <td>-0.076804</td>\n      <td>1.000000</td>\n      <td>0.531449</td>\n      <td>0.034500</td>\n    </tr>\n    <tr>\n      <th>Nums</th>\n      <td>-0.203172</td>\n      <td>-0.037560</td>\n      <td>0.004880</td>\n      <td>-0.132255</td>\n      <td>-0.099416</td>\n      <td>-0.008986</td>\n      <td>-0.183429</td>\n      <td>0.001727</td>\n      <td>-0.131342</td>\n      <td>-0.139080</td>\n      <td>-0.045097</td>\n      <td>-0.041735</td>\n      <td>0.531449</td>\n      <td>1.000000</td>\n      <td>0.037996</td>\n    </tr>\n    <tr>\n      <th>Side</th>\n      <td>-0.000528</td>\n      <td>-0.019677</td>\n      <td>-0.002760</td>\n      <td>-0.011640</td>\n      <td>0.010117</td>\n      <td>0.012290</td>\n      <td>-0.020149</td>\n      <td>0.020983</td>\n      <td>-0.002031</td>\n      <td>0.008154</td>\n      <td>-0.103775</td>\n      <td>-0.010910</td>\n      <td>0.034500</td>\n      <td>0.037996</td>\n      <td>1.000000</td>\n    </tr>\n  </tbody>\n</table>\n</div>"
     },
     "execution_count": 130,
     "metadata": {},
     "output_type": "execute_result"
    }
   ],
   "source": [
    "corrs_table = spaceship.corr()\n",
    "corrs_table"
   ],
   "metadata": {
    "collapsed": false,
    "pycharm": {
     "name": "#%%\n"
    }
   }
  },
  {
   "cell_type": "code",
   "execution_count": 134,
   "outputs": [
    {
     "data": {
      "text/plain": "   HomePlanet  CryoSleep  Destination   Age  VIP  RoomService  FoodCourt  \\\n0         1.0        0.0          0.0  39.0  0.0          0.0        0.0   \n1         0.0        0.0          0.0  24.0  0.0        109.0        9.0   \n2         1.0        0.0          0.0  58.0  1.0         43.0     3576.0   \n3         1.0        0.0          0.0  33.0  0.0          0.0     1283.0   \n4         0.0        0.0          0.0  16.0  0.0        303.0       70.0   \n\n   ShoppingMall     Spa  VRDeck  Transported  Group  Deck  Nums  Side  \n0           0.0     0.0     0.0            0      1   1.0   0.0   1.0  \n1          25.0   549.0    44.0            1      1   5.0   0.0   0.0  \n2           0.0  6715.0    49.0            0      1   0.0   0.0   0.0  \n3         371.0  3329.0   193.0            0      2   0.0   0.0   0.0  \n4         151.0   565.0     2.0            1      1   5.0   1.0   0.0  ",
      "text/html": "<div>\n<style scoped>\n    .dataframe tbody tr th:only-of-type {\n        vertical-align: middle;\n    }\n\n    .dataframe tbody tr th {\n        vertical-align: top;\n    }\n\n    .dataframe thead th {\n        text-align: right;\n    }\n</style>\n<table border=\"1\" class=\"dataframe\">\n  <thead>\n    <tr style=\"text-align: right;\">\n      <th></th>\n      <th>HomePlanet</th>\n      <th>CryoSleep</th>\n      <th>Destination</th>\n      <th>Age</th>\n      <th>VIP</th>\n      <th>RoomService</th>\n      <th>FoodCourt</th>\n      <th>ShoppingMall</th>\n      <th>Spa</th>\n      <th>VRDeck</th>\n      <th>Transported</th>\n      <th>Group</th>\n      <th>Deck</th>\n      <th>Nums</th>\n      <th>Side</th>\n    </tr>\n  </thead>\n  <tbody>\n    <tr>\n      <th>0</th>\n      <td>1.0</td>\n      <td>0.0</td>\n      <td>0.0</td>\n      <td>39.0</td>\n      <td>0.0</td>\n      <td>0.0</td>\n      <td>0.0</td>\n      <td>0.0</td>\n      <td>0.0</td>\n      <td>0.0</td>\n      <td>0</td>\n      <td>1</td>\n      <td>1.0</td>\n      <td>0.0</td>\n      <td>1.0</td>\n    </tr>\n    <tr>\n      <th>1</th>\n      <td>0.0</td>\n      <td>0.0</td>\n      <td>0.0</td>\n      <td>24.0</td>\n      <td>0.0</td>\n      <td>109.0</td>\n      <td>9.0</td>\n      <td>25.0</td>\n      <td>549.0</td>\n      <td>44.0</td>\n      <td>1</td>\n      <td>1</td>\n      <td>5.0</td>\n      <td>0.0</td>\n      <td>0.0</td>\n    </tr>\n    <tr>\n      <th>2</th>\n      <td>1.0</td>\n      <td>0.0</td>\n      <td>0.0</td>\n      <td>58.0</td>\n      <td>1.0</td>\n      <td>43.0</td>\n      <td>3576.0</td>\n      <td>0.0</td>\n      <td>6715.0</td>\n      <td>49.0</td>\n      <td>0</td>\n      <td>1</td>\n      <td>0.0</td>\n      <td>0.0</td>\n      <td>0.0</td>\n    </tr>\n    <tr>\n      <th>3</th>\n      <td>1.0</td>\n      <td>0.0</td>\n      <td>0.0</td>\n      <td>33.0</td>\n      <td>0.0</td>\n      <td>0.0</td>\n      <td>1283.0</td>\n      <td>371.0</td>\n      <td>3329.0</td>\n      <td>193.0</td>\n      <td>0</td>\n      <td>2</td>\n      <td>0.0</td>\n      <td>0.0</td>\n      <td>0.0</td>\n    </tr>\n    <tr>\n      <th>4</th>\n      <td>0.0</td>\n      <td>0.0</td>\n      <td>0.0</td>\n      <td>16.0</td>\n      <td>0.0</td>\n      <td>303.0</td>\n      <td>70.0</td>\n      <td>151.0</td>\n      <td>565.0</td>\n      <td>2.0</td>\n      <td>1</td>\n      <td>1</td>\n      <td>5.0</td>\n      <td>1.0</td>\n      <td>0.0</td>\n    </tr>\n  </tbody>\n</table>\n</div>"
     },
     "execution_count": 134,
     "metadata": {},
     "output_type": "execute_result"
    }
   ],
   "source": [
    "spaceship.head()"
   ],
   "metadata": {
    "collapsed": false,
    "pycharm": {
     "name": "#%%\n"
    }
   }
  },
  {
   "cell_type": "code",
   "execution_count": 135,
   "outputs": [
    {
     "name": "stdout",
     "output_type": "stream",
     "text": [
      "<class 'pandas.core.frame.DataFrame'>\n",
      "RangeIndex: 8693 entries, 0 to 8692\n",
      "Data columns (total 15 columns):\n",
      " #   Column        Non-Null Count  Dtype  \n",
      "---  ------        --------------  -----  \n",
      " 0   HomePlanet    8492 non-null   float64\n",
      " 1   CryoSleep     8476 non-null   float64\n",
      " 2   Destination   8511 non-null   float64\n",
      " 3   Age           8514 non-null   float64\n",
      " 4   VIP           8490 non-null   float64\n",
      " 5   RoomService   8512 non-null   float64\n",
      " 6   FoodCourt     8510 non-null   float64\n",
      " 7   ShoppingMall  8485 non-null   float64\n",
      " 8   Spa           8510 non-null   float64\n",
      " 9   VRDeck        8505 non-null   float64\n",
      " 10  Transported   8693 non-null   int64  \n",
      " 11  Group         8693 non-null   int64  \n",
      " 12  Deck          8494 non-null   float64\n",
      " 13  Nums          8494 non-null   float64\n",
      " 14  Side          8494 non-null   float64\n",
      "dtypes: float64(13), int64(2)\n",
      "memory usage: 1018.8 KB\n"
     ]
    }
   ],
   "source": [
    "spaceship.info()"
   ],
   "metadata": {
    "collapsed": false,
    "pycharm": {
     "name": "#%%\n"
    }
   }
  },
  {
   "cell_type": "code",
   "execution_count": 136,
   "outputs": [
    {
     "data": {
      "text/plain": "        HomePlanet    CryoSleep  Destination          Age          VIP  \\\ncount  8492.000000  8476.000000  8511.000000  8514.000000  8490.000000   \nmean      0.665214     0.358306     0.398543    28.827930     0.023439   \nstd       0.798155     0.479531     0.653306    14.489021     0.151303   \nmin       0.000000     0.000000     0.000000     0.000000     0.000000   \n25%       0.000000     0.000000     0.000000    19.000000     0.000000   \n50%       0.000000     0.000000     0.000000    27.000000     0.000000   \n75%       1.000000     1.000000     1.000000    38.000000     0.000000   \nmax       2.000000     1.000000     2.000000    79.000000     1.000000   \n\n        RoomService     FoodCourt  ShoppingMall           Spa        VRDeck  \\\ncount   8512.000000   8510.000000   8485.000000   8510.000000   8505.000000   \nmean     224.687617    458.077203    173.729169    311.138778    304.854791   \nstd      666.717663   1611.489240    604.696458   1136.705535   1145.717189   \nmin        0.000000      0.000000      0.000000      0.000000      0.000000   \n25%        0.000000      0.000000      0.000000      0.000000      0.000000   \n50%        0.000000      0.000000      0.000000      0.000000      0.000000   \n75%       47.000000     76.000000     27.000000     59.000000     46.000000   \nmax    14327.000000  29813.000000  23492.000000  22408.000000  24133.000000   \n\n       Transported        Group         Deck         Nums         Side  \ncount  8693.000000  8693.000000  8494.000000  8494.000000  8494.000000  \nmean      0.503624     1.517773     4.305392   600.367671     0.495173  \nstd       0.500016     1.054241     1.778233   511.867226     0.500006  \nmin       0.000000     1.000000     0.000000     0.000000     0.000000  \n25%       0.000000     1.000000     3.000000   167.250000     0.000000  \n50%       1.000000     1.000000     5.000000   427.000000     0.000000  \n75%       1.000000     2.000000     6.000000   999.000000     1.000000  \nmax       1.000000     8.000000     7.000000  1894.000000     1.000000  ",
      "text/html": "<div>\n<style scoped>\n    .dataframe tbody tr th:only-of-type {\n        vertical-align: middle;\n    }\n\n    .dataframe tbody tr th {\n        vertical-align: top;\n    }\n\n    .dataframe thead th {\n        text-align: right;\n    }\n</style>\n<table border=\"1\" class=\"dataframe\">\n  <thead>\n    <tr style=\"text-align: right;\">\n      <th></th>\n      <th>HomePlanet</th>\n      <th>CryoSleep</th>\n      <th>Destination</th>\n      <th>Age</th>\n      <th>VIP</th>\n      <th>RoomService</th>\n      <th>FoodCourt</th>\n      <th>ShoppingMall</th>\n      <th>Spa</th>\n      <th>VRDeck</th>\n      <th>Transported</th>\n      <th>Group</th>\n      <th>Deck</th>\n      <th>Nums</th>\n      <th>Side</th>\n    </tr>\n  </thead>\n  <tbody>\n    <tr>\n      <th>count</th>\n      <td>8492.000000</td>\n      <td>8476.000000</td>\n      <td>8511.000000</td>\n      <td>8514.000000</td>\n      <td>8490.000000</td>\n      <td>8512.000000</td>\n      <td>8510.000000</td>\n      <td>8485.000000</td>\n      <td>8510.000000</td>\n      <td>8505.000000</td>\n      <td>8693.000000</td>\n      <td>8693.000000</td>\n      <td>8494.000000</td>\n      <td>8494.000000</td>\n      <td>8494.000000</td>\n    </tr>\n    <tr>\n      <th>mean</th>\n      <td>0.665214</td>\n      <td>0.358306</td>\n      <td>0.398543</td>\n      <td>28.827930</td>\n      <td>0.023439</td>\n      <td>224.687617</td>\n      <td>458.077203</td>\n      <td>173.729169</td>\n      <td>311.138778</td>\n      <td>304.854791</td>\n      <td>0.503624</td>\n      <td>1.517773</td>\n      <td>4.305392</td>\n      <td>600.367671</td>\n      <td>0.495173</td>\n    </tr>\n    <tr>\n      <th>std</th>\n      <td>0.798155</td>\n      <td>0.479531</td>\n      <td>0.653306</td>\n      <td>14.489021</td>\n      <td>0.151303</td>\n      <td>666.717663</td>\n      <td>1611.489240</td>\n      <td>604.696458</td>\n      <td>1136.705535</td>\n      <td>1145.717189</td>\n      <td>0.500016</td>\n      <td>1.054241</td>\n      <td>1.778233</td>\n      <td>511.867226</td>\n      <td>0.500006</td>\n    </tr>\n    <tr>\n      <th>min</th>\n      <td>0.000000</td>\n      <td>0.000000</td>\n      <td>0.000000</td>\n      <td>0.000000</td>\n      <td>0.000000</td>\n      <td>0.000000</td>\n      <td>0.000000</td>\n      <td>0.000000</td>\n      <td>0.000000</td>\n      <td>0.000000</td>\n      <td>0.000000</td>\n      <td>1.000000</td>\n      <td>0.000000</td>\n      <td>0.000000</td>\n      <td>0.000000</td>\n    </tr>\n    <tr>\n      <th>25%</th>\n      <td>0.000000</td>\n      <td>0.000000</td>\n      <td>0.000000</td>\n      <td>19.000000</td>\n      <td>0.000000</td>\n      <td>0.000000</td>\n      <td>0.000000</td>\n      <td>0.000000</td>\n      <td>0.000000</td>\n      <td>0.000000</td>\n      <td>0.000000</td>\n      <td>1.000000</td>\n      <td>3.000000</td>\n      <td>167.250000</td>\n      <td>0.000000</td>\n    </tr>\n    <tr>\n      <th>50%</th>\n      <td>0.000000</td>\n      <td>0.000000</td>\n      <td>0.000000</td>\n      <td>27.000000</td>\n      <td>0.000000</td>\n      <td>0.000000</td>\n      <td>0.000000</td>\n      <td>0.000000</td>\n      <td>0.000000</td>\n      <td>0.000000</td>\n      <td>1.000000</td>\n      <td>1.000000</td>\n      <td>5.000000</td>\n      <td>427.000000</td>\n      <td>0.000000</td>\n    </tr>\n    <tr>\n      <th>75%</th>\n      <td>1.000000</td>\n      <td>1.000000</td>\n      <td>1.000000</td>\n      <td>38.000000</td>\n      <td>0.000000</td>\n      <td>47.000000</td>\n      <td>76.000000</td>\n      <td>27.000000</td>\n      <td>59.000000</td>\n      <td>46.000000</td>\n      <td>1.000000</td>\n      <td>2.000000</td>\n      <td>6.000000</td>\n      <td>999.000000</td>\n      <td>1.000000</td>\n    </tr>\n    <tr>\n      <th>max</th>\n      <td>2.000000</td>\n      <td>1.000000</td>\n      <td>2.000000</td>\n      <td>79.000000</td>\n      <td>1.000000</td>\n      <td>14327.000000</td>\n      <td>29813.000000</td>\n      <td>23492.000000</td>\n      <td>22408.000000</td>\n      <td>24133.000000</td>\n      <td>1.000000</td>\n      <td>8.000000</td>\n      <td>7.000000</td>\n      <td>1894.000000</td>\n      <td>1.000000</td>\n    </tr>\n  </tbody>\n</table>\n</div>"
     },
     "execution_count": 136,
     "metadata": {},
     "output_type": "execute_result"
    }
   ],
   "source": [
    "spaceship.describe()"
   ],
   "metadata": {
    "collapsed": false,
    "pycharm": {
     "name": "#%%\n"
    }
   }
  },
  {
   "cell_type": "code",
   "execution_count": 141,
   "outputs": [],
   "source": [
    "spaceship = spaceship.dropna()"
   ],
   "metadata": {
    "collapsed": false,
    "pycharm": {
     "name": "#%%\n"
    }
   }
  },
  {
   "cell_type": "code",
   "execution_count": 142,
   "outputs": [
    {
     "name": "stdout",
     "output_type": "stream",
     "text": [
      "<class 'pandas.core.frame.DataFrame'>\n",
      "Index: 6764 entries, 0 to 8692\n",
      "Data columns (total 15 columns):\n",
      " #   Column        Non-Null Count  Dtype  \n",
      "---  ------        --------------  -----  \n",
      " 0   HomePlanet    6764 non-null   float64\n",
      " 1   CryoSleep     6764 non-null   float64\n",
      " 2   Destination   6764 non-null   float64\n",
      " 3   Age           6764 non-null   float64\n",
      " 4   VIP           6764 non-null   float64\n",
      " 5   RoomService   6764 non-null   float64\n",
      " 6   FoodCourt     6764 non-null   float64\n",
      " 7   ShoppingMall  6764 non-null   float64\n",
      " 8   Spa           6764 non-null   float64\n",
      " 9   VRDeck        6764 non-null   float64\n",
      " 10  Transported   6764 non-null   int64  \n",
      " 11  Group         6764 non-null   int64  \n",
      " 12  Deck          6764 non-null   float64\n",
      " 13  Nums          6764 non-null   float64\n",
      " 14  Side          6764 non-null   float64\n",
      "dtypes: float64(13), int64(2)\n",
      "memory usage: 845.5 KB\n"
     ]
    }
   ],
   "source": [
    "spaceship.info()"
   ],
   "metadata": {
    "collapsed": false,
    "pycharm": {
     "name": "#%%\n"
    }
   }
  },
  {
   "cell_type": "code",
   "execution_count": 5,
   "outputs": [],
   "source": [
    "from sklearn.model_selection import train_test_split, GridSearchCV, KFold\n",
    "from sklearn.ensemble import RandomForestClassifier\n",
    "from sklearn.metrics import classification_report, accuracy_score"
   ],
   "metadata": {
    "collapsed": false,
    "pycharm": {
     "name": "#%%\n"
    }
   }
  },
  {
   "cell_type": "code",
   "execution_count": 144,
   "outputs": [
    {
     "name": "stdout",
     "output_type": "stream",
     "text": [
      "Nums            0.163441\n",
      "Age             0.126435\n",
      "Spa             0.112168\n",
      "RoomService     0.095547\n",
      "VRDeck          0.092004\n",
      "CryoSleep       0.090308\n",
      "FoodCourt       0.089368\n",
      "ShoppingMall    0.069729\n",
      "Deck            0.052110\n",
      "HomePlanet      0.032313\n",
      "Group           0.029078\n",
      "Destination     0.023232\n",
      "Side            0.021964\n",
      "VIP             0.002303\n",
      "dtype: float64\n",
      "              precision    recall  f1-score   support\n",
      "\n",
      "           0       0.85      0.79      0.82       746\n",
      "           1       0.77      0.83      0.79       607\n",
      "\n",
      "    accuracy                           0.81      1353\n",
      "   macro avg       0.81      0.81      0.81      1353\n",
      "weighted avg       0.81      0.81      0.81      1353\n",
      " \n",
      " 0.8085735402808574\n",
      "{'bootstrap': True, 'ccp_alpha': 0.0, 'class_weight': None, 'criterion': 'gini', 'max_depth': None, 'max_features': 'sqrt', 'max_leaf_nodes': None, 'max_samples': None, 'min_impurity_decrease': 0.0, 'min_samples_leaf': 1, 'min_samples_split': 2, 'min_weight_fraction_leaf': 0.0, 'monotonic_cst': None, 'n_estimators': 100, 'n_jobs': None, 'oob_score': False, 'random_state': None, 'verbose': 0, 'warm_start': False}\n"
     ]
    }
   ],
   "source": [
    "X = spaceship.drop(['Transported'], axis=1)\n",
    "y = spaceship['Transported']\n",
    "X_train, X_test, y_train, y_test = train_test_split(X, y, test_size=0.2, random_state=42)\n",
    "\n",
    "clf_rf = RandomForestClassifier()\n",
    "clf_rf.fit(X_train, y_train)\n",
    "\n",
    "y_pred = clf_rf.predict(X_test)\n",
    "\n",
    "feature_imp = pd.Series(clf_rf.feature_importances_,index=X.columns).sort_values(ascending=False)\n",
    "print(feature_imp)\n",
    "print(classification_report(y_pred, y_test), '\\n', accuracy_score(y_pred, y_test))\n",
    "print(clf_rf.get_params())"
   ],
   "metadata": {
    "collapsed": false,
    "pycharm": {
     "name": "#%%\n"
    }
   }
  },
  {
   "cell_type": "code",
   "execution_count": 145,
   "outputs": [
    {
     "data": {
      "text/plain": "{'max_depth': 6,\n 'max_features': None,\n 'max_leaf_nodes': 9,\n 'n_estimators': 150}"
     },
     "execution_count": 145,
     "metadata": {},
     "output_type": "execute_result"
    }
   ],
   "source": [
    "params_grid = {\n",
    "    'n_estimators': [25, 50, 100, 150],\n",
    "    'max_features': ['sqrt', 'log2', None],\n",
    "    'max_depth': [3, 6, 9],\n",
    "    'max_leaf_nodes': [3, 6, 9],\n",
    "}\n",
    "clf_rf_grid = GridSearchCV(clf_rf, param_grid=params_grid)\n",
    "clf_rf_grid.fit(X_train, y_train)\n",
    "clf_rf_grid.best_params_"
   ],
   "metadata": {
    "collapsed": false,
    "pycharm": {
     "name": "#%%\n"
    }
   }
  },
  {
   "cell_type": "code",
   "execution_count": 146,
   "outputs": [
    {
     "name": "stdout",
     "output_type": "stream",
     "text": [
      "Nums            0.163441\n",
      "Age             0.126435\n",
      "Spa             0.112168\n",
      "RoomService     0.095547\n",
      "VRDeck          0.092004\n",
      "CryoSleep       0.090308\n",
      "FoodCourt       0.089368\n",
      "ShoppingMall    0.069729\n",
      "Deck            0.052110\n",
      "HomePlanet      0.032313\n",
      "Group           0.029078\n",
      "Destination     0.023232\n",
      "Side            0.021964\n",
      "VIP             0.002303\n",
      "dtype: float64\n",
      "              precision    recall  f1-score   support\n",
      "\n",
      "           0       0.85      0.79      0.82       746\n",
      "           1       0.77      0.83      0.79       607\n",
      "\n",
      "    accuracy                           0.81      1353\n",
      "   macro avg       0.81      0.81      0.81      1353\n",
      "weighted avg       0.81      0.81      0.81      1353\n",
      " \n",
      " 0.8085735402808574\n"
     ]
    }
   ],
   "source": [
    "clf_rf_tune = RandomForestClassifier(max_depth=6,\n",
    "                                     max_features=None,\n",
    "                                     max_leaf_nodes=9,\n",
    "                                     n_estimators=150)\n",
    "\n",
    "clf_rf_tune.fit(X_train, y_train)\n",
    "\n",
    "y_pred_tune = clf_rf_tune.predict(X_test)\n",
    "feature_imp = pd.Series(clf_rf.feature_importances_,index=X.columns).sort_values(ascending=False)\n",
    "print(feature_imp)\n",
    "print(classification_report(y_pred, y_test), '\\n', accuracy_score(y_pred, y_test))"
   ],
   "metadata": {
    "collapsed": false,
    "pycharm": {
     "name": "#%%\n"
    }
   }
  },
  {
   "cell_type": "code",
   "execution_count": 149,
   "outputs": [
    {
     "name": "stdout",
     "output_type": "stream",
     "text": [
      "CryoSleep       0.535098\n",
      "FoodCourt       0.106864\n",
      "Spa             0.077340\n",
      "VRDeck          0.073517\n",
      "RoomService     0.050319\n",
      "Age             0.042013\n",
      "Deck            0.040012\n",
      "ShoppingMall    0.037758\n",
      "HomePlanet      0.037078\n",
      "dtype: float64\n",
      "              precision    recall  f1-score   support\n",
      "\n",
      "           0       0.85      0.79      0.82       746\n",
      "           1       0.77      0.83      0.79       607\n",
      "\n",
      "    accuracy                           0.81      1353\n",
      "   macro avg       0.81      0.81      0.81      1353\n",
      "weighted avg       0.81      0.81      0.81      1353\n",
      " \n",
      " 0.8085735402808574\n"
     ]
    }
   ],
   "source": [
    "X = spaceship.drop(['Transported', 'VIP', 'Side', 'Destination', 'Group', 'Nums'], axis=1)\n",
    "y = spaceship['Transported']\n",
    "X_train, X_test, y_train, y_test = train_test_split(X, y, test_size=0.2, random_state=42)\n",
    "\n",
    "clf_rf_tune = RandomForestClassifier(max_depth=6,\n",
    "                                     max_features=None,\n",
    "                                     max_leaf_nodes=9,\n",
    "                                     n_estimators=150)\n",
    "\n",
    "clf_rf_tune.fit(X_train, y_train)\n",
    "\n",
    "y_pred_tune = clf_rf_tune.predict(X_test)\n",
    "feature_imp = pd.Series(clf_rf_tune.feature_importances_,index=X.columns).sort_values(ascending=False)\n",
    "print(feature_imp)\n",
    "print(classification_report(y_pred, y_test), '\\n', accuracy_score(y_pred, y_test))"
   ],
   "metadata": {
    "collapsed": false,
    "pycharm": {
     "name": "#%%\n"
    }
   }
  },
  {
   "cell_type": "code",
   "execution_count": 159,
   "outputs": [
    {
     "name": "stderr",
     "output_type": "stream",
     "text": [
      "C:\\Users\\Борис\\AppData\\Local\\Temp\\ipykernel_13304\\1420475478.py:10: FutureWarning: Downcasting behavior in `replace` is deprecated and will be removed in a future version. To retain the old behavior, explicitly call `result.infer_objects(copy=False)`. To opt-in to the future behavior, set `pd.set_option('future.no_silent_downcasting', True)`\n",
      "  spaceship['HomePlanet'] = spaceship.HomePlanet.replace(['Earth', 'Europa', 'Mars'], [0, 1, 2])\n",
      "C:\\Users\\Борис\\AppData\\Local\\Temp\\ipykernel_13304\\1420475478.py:11: FutureWarning: Downcasting behavior in `replace` is deprecated and will be removed in a future version. To retain the old behavior, explicitly call `result.infer_objects(copy=False)`. To opt-in to the future behavior, set `pd.set_option('future.no_silent_downcasting', True)`\n",
      "  spaceship['CryoSleep'] = spaceship.CryoSleep.replace([False, True], [0, 1])\n",
      "C:\\Users\\Борис\\AppData\\Local\\Temp\\ipykernel_13304\\1420475478.py:12: FutureWarning: Downcasting behavior in `replace` is deprecated and will be removed in a future version. To retain the old behavior, explicitly call `result.infer_objects(copy=False)`. To opt-in to the future behavior, set `pd.set_option('future.no_silent_downcasting', True)`\n",
      "  spaceship['VIP'] = spaceship.VIP.replace([False, True], [0, 1])\n",
      "C:\\Users\\Борис\\AppData\\Local\\Temp\\ipykernel_13304\\1420475478.py:15: FutureWarning: Downcasting behavior in `replace` is deprecated and will be removed in a future version. To retain the old behavior, explicitly call `result.infer_objects(copy=False)`. To opt-in to the future behavior, set `pd.set_option('future.no_silent_downcasting', True)`\n",
      "  spaceship['Side'] = spaceship.Side.replace(['S', 'P'], [0, 1])\n",
      "C:\\Users\\Борис\\AppData\\Local\\Temp\\ipykernel_13304\\1420475478.py:16: FutureWarning: Downcasting behavior in `replace` is deprecated and will be removed in a future version. To retain the old behavior, explicitly call `result.infer_objects(copy=False)`. To opt-in to the future behavior, set `pd.set_option('future.no_silent_downcasting', True)`\n",
      "  spaceship['Deck'] = spaceship.Deck.replace(['A', 'B', 'C', 'D', 'E', 'F', 'G', 'T'], list(range(8)))\n",
      "C:\\Users\\Борис\\AppData\\Local\\Temp\\ipykernel_13304\\1420475478.py:17: FutureWarning: Downcasting behavior in `replace` is deprecated and will be removed in a future version. To retain the old behavior, explicitly call `result.infer_objects(copy=False)`. To opt-in to the future behavior, set `pd.set_option('future.no_silent_downcasting', True)`\n",
      "  spaceship['Destination'] = spaceship.Destination.replace(['TRAPPIST-1e', '55 Cancri e', 'PSO J318.5-22'], [0, 1, 2])\n"
     ]
    },
    {
     "data": {
      "text/plain": "array([1, 0, 1, ..., 1, 1, 1], dtype=int64)"
     },
     "execution_count": 159,
     "metadata": {},
     "output_type": "execute_result"
    }
   ],
   "source": [
    "def slt_1_2(x):\n",
    "    if not pd.isnull(x):\n",
    "        x = x.split('/')\n",
    "        return x[0], int(x[1]), x[2]\n",
    "    else:\n",
    "        return np.nan, np.nan, np.nan\n",
    "\n",
    "\n",
    "spaceship = pd.read_csv('data/spaceship_titanic/test.csv')\n",
    "spaceship['HomePlanet'] = spaceship.HomePlanet.replace(['Earth', 'Europa', 'Mars'], [0, 1, 2])\n",
    "spaceship['CryoSleep'] = spaceship.CryoSleep.replace([False, True], [0, 1])\n",
    "spaceship['VIP'] = spaceship.VIP.replace([False, True], [0, 1])\n",
    "spaceship['Group'] = spaceship.PassengerId.apply(lambda x: int(x.split('_')[1]))\n",
    "spaceship['Deck'], spaceship['Nums'], spaceship['Side'] = zip(*spaceship['Cabin'].apply(slt_1_2))\n",
    "spaceship['Side'] = spaceship.Side.replace(['S', 'P'], [0, 1])\n",
    "spaceship['Deck'] = spaceship.Deck.replace(['A', 'B', 'C', 'D', 'E', 'F', 'G', 'T'], list(range(8)))\n",
    "spaceship['Destination'] = spaceship.Destination.replace(['TRAPPIST-1e', '55 Cancri e', 'PSO J318.5-22'], [0, 1, 2])\n",
    "pass_id = spaceship['PassengerId']\n",
    "X = spaceship.drop(['PassengerId', 'Cabin', 'Name', 'VIP', 'Side', 'Destination', 'Group', 'Nums'], axis=1)\n",
    "\n",
    "y_pred_sub = clf_rf_tune.predict(X)\n",
    "y_pred_sub"
   ],
   "metadata": {
    "collapsed": false,
    "pycharm": {
     "name": "#%%\n"
    }
   }
  },
  {
   "cell_type": "code",
   "execution_count": 165,
   "outputs": [
    {
     "data": {
      "text/plain": "array([1, 0, 1, ..., 1, 1, 1], dtype=int64)"
     },
     "execution_count": 165,
     "metadata": {},
     "output_type": "execute_result"
    }
   ],
   "source": [
    "y_pred_sub"
   ],
   "metadata": {
    "collapsed": false,
    "pycharm": {
     "name": "#%%\n"
    }
   }
  },
  {
   "cell_type": "code",
   "execution_count": 167,
   "outputs": [],
   "source": [
    "sub_df = pd.DataFrame(\n",
    "    {\n",
    "        'PassengerId': pass_id,\n",
    "        'Transported': np.array(y_pred_sub, dtype=bool)\n",
    "    }\n",
    ")\n",
    "\n",
    "sub_df.to_csv('data/spaceship_titanic/submission.csv', index=False)"
   ],
   "metadata": {
    "collapsed": false,
    "pycharm": {
     "name": "#%%\n"
    }
   }
  },
  {
   "cell_type": "code",
   "execution_count": null,
   "outputs": [],
   "source": [],
   "metadata": {
    "collapsed": false,
    "pycharm": {
     "name": "#%%\n"
    }
   }
  }
 ],
 "metadata": {
  "kernelspec": {
   "display_name": "Python 3",
   "language": "python",
   "name": "python3"
  },
  "language_info": {
   "codemirror_mode": {
    "name": "ipython",
    "version": 2
   },
   "file_extension": ".py",
   "mimetype": "text/x-python",
   "name": "python",
   "nbconvert_exporter": "python",
   "pygments_lexer": "ipython2",
   "version": "2.7.6"
  }
 },
 "nbformat": 4,
 "nbformat_minor": 0
}