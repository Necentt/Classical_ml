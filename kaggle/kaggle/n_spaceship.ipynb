{
 "cells": [
  {
   "cell_type": "code",
   "execution_count": 1,
   "outputs": [
    {
     "name": "stdout",
     "output_type": "stream",
     "text": [
      "Python version: 3.11.3 (tags/v3.11.3:f3909b8, Apr  4 2023, 23:49:59) [MSC v.1934 64 bit (AMD64)]\n",
      "pandas version: 2.2.0\n",
      "matplotlib version: 3.8.2\n",
      "NumPy version: 1.26.3\n",
      "SciPy version: 1.12.0\n",
      "IPython version: 8.20.0\n",
      "scikit-learn version: 1.4.0\n",
      "-------------------------\n"
     ]
    }
   ],
   "source": [
    "\"\"\"\n",
    "Python 3.10 Best models Spaceship_Titanic program will you survive on the spaceship titanic or not\n",
    "File name Titanic_eda.py\n",
    "\n",
    "Version: 0.1\n",
    "Author: MLCV\n",
    "Date: 2023-08-13\n",
    "\"\"\"\n",
    "\n",
    "# This Python 3 environment comes with many helpful analytics libraries installed\n",
    "# It is defined by the kaggle/python docker image: https://github.com/kaggle/docker-python\n",
    "\n",
    "#load packages\n",
    "import sys #access to system parameters https://docs.python.org/3/library/sys.html\n",
    "print(\"Python version: {}\". format(sys.version))\n",
    "\n",
    "import pandas as pd #collection of functions for data processing and analysis modeled after R dataframes with SQL like features\n",
    "print(\"pandas version: {}\". format(pd.__version__))\n",
    "\n",
    "import matplotlib #collection of functions for scientific and publication-ready visualization\n",
    "print(\"matplotlib version: {}\". format(matplotlib.__version__))\n",
    "\n",
    "import numpy as np #foundational package for scientific computing\n",
    "print(\"NumPy version: {}\". format(np.__version__))\n",
    "\n",
    "import scipy as sp #collection of functions for scientific computing and advance mathematics\n",
    "print(\"SciPy version: {}\". format(sp.__version__))\n",
    "\n",
    "import IPython\n",
    "from IPython import display #pretty printing of dataframes in Jupyter notebook\n",
    "print(\"IPython version: {}\". format(IPython.__version__))\n",
    "\n",
    "import sklearn #collection of machine learning algorithms\n",
    "print(\"scikit-learn version: {}\". format(sklearn.__version__))\n",
    "\n",
    "#misc libraries\n",
    "import random\n",
    "import time\n",
    "\n",
    "\n",
    "#ignore warnings\n",
    "import warnings\n",
    "warnings.filterwarnings('ignore')\n",
    "print('-'*25)\n",
    "\n",
    "\n",
    "\n",
    "# Input data files are available in the \"../input/\" directory.\n",
    "# For example, running this (by clicking run or pressing Shift+Enter) will list the files in the input directory\n"
   ],
   "metadata": {
    "collapsed": false,
    "pycharm": {
     "name": "#%%\n"
    }
   }
  },
  {
   "cell_type": "code",
   "execution_count": 2,
   "metadata": {
    "collapsed": true,
    "pycharm": {
     "name": "#%%\n"
    }
   },
   "outputs": [],
   "source": [
    "#Common Model Algorithms\n",
    "from sklearn import svm, tree, linear_model, neighbors, naive_bayes, ensemble, discriminant_analysis, gaussian_process\n",
    "from xgboost import XGBClassifier\n",
    "\n",
    "#Common Model Helpers\n",
    "from sklearn.preprocessing import OneHotEncoder, LabelEncoder\n",
    "from sklearn import feature_selection\n",
    "from sklearn import model_selection\n",
    "from sklearn import metrics\n",
    "from sklearn.pipeline import Pipeline\n",
    "from sklearn.compose import ColumnTransformer\n",
    "\n",
    "#Visualization\n",
    "import matplotlib as mpl\n",
    "import matplotlib.pyplot as plt\n",
    "import matplotlib.pylab as pylab\n",
    "import seaborn as sns\n",
    "from pandas.plotting import scatter_matrix\n",
    "\n",
    "#Configure Visualization Defaults\n",
    "#%matplotlib inline = show plots in Jupyter Notebook browser\n",
    "mpl.style.use('ggplot')\n",
    "sns.set_style('white')\n",
    "pylab.rcParams['figure.figsize'] = 12,8"
   ]
  },
  {
   "cell_type": "code",
   "execution_count": 3,
   "outputs": [
    {
     "name": "stdout",
     "output_type": "stream",
     "text": [
      "<class 'pandas.core.frame.DataFrame'>\n",
      "RangeIndex: 8693 entries, 0 to 8692\n",
      "Data columns (total 14 columns):\n",
      " #   Column        Non-Null Count  Dtype  \n",
      "---  ------        --------------  -----  \n",
      " 0   PassengerId   8693 non-null   object \n",
      " 1   HomePlanet    8492 non-null   object \n",
      " 2   CryoSleep     8476 non-null   object \n",
      " 3   Cabin         8494 non-null   object \n",
      " 4   Destination   8511 non-null   object \n",
      " 5   Age           8514 non-null   float64\n",
      " 6   VIP           8490 non-null   object \n",
      " 7   RoomService   8512 non-null   float64\n",
      " 8   FoodCourt     8510 non-null   float64\n",
      " 9   ShoppingMall  8485 non-null   float64\n",
      " 10  Spa           8510 non-null   float64\n",
      " 11  VRDeck        8505 non-null   float64\n",
      " 12  Name          8493 non-null   object \n",
      " 13  Transported   8693 non-null   bool   \n",
      "dtypes: bool(1), float64(6), object(7)\n",
      "memory usage: 891.5+ KB\n",
      "None\n"
     ]
    },
    {
     "data": {
      "text/plain": "     PassengerId HomePlanet CryoSleep     Cabin    Destination   Age    VIP  \\\n4688     4999_01      Earth     False   F/950/S    TRAPPIST-1e  30.0  False   \n37       0035_01       Mars     False     D/1/P    55 Cancri e  23.0  False   \n6827     7216_01      Earth     False   E/464/P  PSO J318.5-22  37.0  False   \n819      0871_01     Europa     False    A/10/S    TRAPPIST-1e  20.0  False   \n5122     5470_01      Earth      True   G/878/P    TRAPPIST-1e  20.0  False   \n7652     8167_01      Earth      True  G/1315/S  PSO J318.5-22  23.0  False   \n5675     6028_02     Europa     False    A/57/P    TRAPPIST-1e  32.0   True   \n506      0542_01      Earth     False    G/84/P    TRAPPIST-1e  26.0  False   \n7850     8378_01      Earth     False  F/1608/S    TRAPPIST-1e  13.0  False   \n2151     2306_02     Europa     False    C/82/P    TRAPPIST-1e   NaN  False   \n\n      RoomService  FoodCourt  ShoppingMall     Spa  VRDeck               Name  \\\n4688       1120.0        0.0           0.0     0.0   794.0      Chelly Mckins   \n37          784.0      964.0           0.0   951.0     0.0         Luse Butte   \n6827        501.0        0.0         179.0     1.0     0.0        Gerte Owery   \n819           2.0     4754.0           0.0   246.0    31.0     Polar Geneltic   \n5122          NaN        0.0           0.0     0.0     0.0       Franda Vales   \n7652          0.0        0.0           0.0     0.0     0.0       Kendy Foxter   \n5675          0.0      792.0           0.0     1.0  1335.0    Cherkab Preeldy   \n506           9.0        0.0           0.0     0.0   878.0        Landa Ments   \n7850          0.0        0.0         505.0  2810.0     9.0  Glena Bellyonsley   \n2151          0.0        0.0           0.0     0.0     0.0   Gomeron Colensid   \n\n      Transported  \n4688        False  \n37          False  \n6827         True  \n819          True  \n5122        False  \n7652         True  \n5675        False  \n506         False  \n7850        False  \n2151         True  ",
      "text/html": "<div>\n<style scoped>\n    .dataframe tbody tr th:only-of-type {\n        vertical-align: middle;\n    }\n\n    .dataframe tbody tr th {\n        vertical-align: top;\n    }\n\n    .dataframe thead th {\n        text-align: right;\n    }\n</style>\n<table border=\"1\" class=\"dataframe\">\n  <thead>\n    <tr style=\"text-align: right;\">\n      <th></th>\n      <th>PassengerId</th>\n      <th>HomePlanet</th>\n      <th>CryoSleep</th>\n      <th>Cabin</th>\n      <th>Destination</th>\n      <th>Age</th>\n      <th>VIP</th>\n      <th>RoomService</th>\n      <th>FoodCourt</th>\n      <th>ShoppingMall</th>\n      <th>Spa</th>\n      <th>VRDeck</th>\n      <th>Name</th>\n      <th>Transported</th>\n    </tr>\n  </thead>\n  <tbody>\n    <tr>\n      <th>4688</th>\n      <td>4999_01</td>\n      <td>Earth</td>\n      <td>False</td>\n      <td>F/950/S</td>\n      <td>TRAPPIST-1e</td>\n      <td>30.0</td>\n      <td>False</td>\n      <td>1120.0</td>\n      <td>0.0</td>\n      <td>0.0</td>\n      <td>0.0</td>\n      <td>794.0</td>\n      <td>Chelly Mckins</td>\n      <td>False</td>\n    </tr>\n    <tr>\n      <th>37</th>\n      <td>0035_01</td>\n      <td>Mars</td>\n      <td>False</td>\n      <td>D/1/P</td>\n      <td>55 Cancri e</td>\n      <td>23.0</td>\n      <td>False</td>\n      <td>784.0</td>\n      <td>964.0</td>\n      <td>0.0</td>\n      <td>951.0</td>\n      <td>0.0</td>\n      <td>Luse Butte</td>\n      <td>False</td>\n    </tr>\n    <tr>\n      <th>6827</th>\n      <td>7216_01</td>\n      <td>Earth</td>\n      <td>False</td>\n      <td>E/464/P</td>\n      <td>PSO J318.5-22</td>\n      <td>37.0</td>\n      <td>False</td>\n      <td>501.0</td>\n      <td>0.0</td>\n      <td>179.0</td>\n      <td>1.0</td>\n      <td>0.0</td>\n      <td>Gerte Owery</td>\n      <td>True</td>\n    </tr>\n    <tr>\n      <th>819</th>\n      <td>0871_01</td>\n      <td>Europa</td>\n      <td>False</td>\n      <td>A/10/S</td>\n      <td>TRAPPIST-1e</td>\n      <td>20.0</td>\n      <td>False</td>\n      <td>2.0</td>\n      <td>4754.0</td>\n      <td>0.0</td>\n      <td>246.0</td>\n      <td>31.0</td>\n      <td>Polar Geneltic</td>\n      <td>True</td>\n    </tr>\n    <tr>\n      <th>5122</th>\n      <td>5470_01</td>\n      <td>Earth</td>\n      <td>True</td>\n      <td>G/878/P</td>\n      <td>TRAPPIST-1e</td>\n      <td>20.0</td>\n      <td>False</td>\n      <td>NaN</td>\n      <td>0.0</td>\n      <td>0.0</td>\n      <td>0.0</td>\n      <td>0.0</td>\n      <td>Franda Vales</td>\n      <td>False</td>\n    </tr>\n    <tr>\n      <th>7652</th>\n      <td>8167_01</td>\n      <td>Earth</td>\n      <td>True</td>\n      <td>G/1315/S</td>\n      <td>PSO J318.5-22</td>\n      <td>23.0</td>\n      <td>False</td>\n      <td>0.0</td>\n      <td>0.0</td>\n      <td>0.0</td>\n      <td>0.0</td>\n      <td>0.0</td>\n      <td>Kendy Foxter</td>\n      <td>True</td>\n    </tr>\n    <tr>\n      <th>5675</th>\n      <td>6028_02</td>\n      <td>Europa</td>\n      <td>False</td>\n      <td>A/57/P</td>\n      <td>TRAPPIST-1e</td>\n      <td>32.0</td>\n      <td>True</td>\n      <td>0.0</td>\n      <td>792.0</td>\n      <td>0.0</td>\n      <td>1.0</td>\n      <td>1335.0</td>\n      <td>Cherkab Preeldy</td>\n      <td>False</td>\n    </tr>\n    <tr>\n      <th>506</th>\n      <td>0542_01</td>\n      <td>Earth</td>\n      <td>False</td>\n      <td>G/84/P</td>\n      <td>TRAPPIST-1e</td>\n      <td>26.0</td>\n      <td>False</td>\n      <td>9.0</td>\n      <td>0.0</td>\n      <td>0.0</td>\n      <td>0.0</td>\n      <td>878.0</td>\n      <td>Landa Ments</td>\n      <td>False</td>\n    </tr>\n    <tr>\n      <th>7850</th>\n      <td>8378_01</td>\n      <td>Earth</td>\n      <td>False</td>\n      <td>F/1608/S</td>\n      <td>TRAPPIST-1e</td>\n      <td>13.0</td>\n      <td>False</td>\n      <td>0.0</td>\n      <td>0.0</td>\n      <td>505.0</td>\n      <td>2810.0</td>\n      <td>9.0</td>\n      <td>Glena Bellyonsley</td>\n      <td>False</td>\n    </tr>\n    <tr>\n      <th>2151</th>\n      <td>2306_02</td>\n      <td>Europa</td>\n      <td>False</td>\n      <td>C/82/P</td>\n      <td>TRAPPIST-1e</td>\n      <td>NaN</td>\n      <td>False</td>\n      <td>0.0</td>\n      <td>0.0</td>\n      <td>0.0</td>\n      <td>0.0</td>\n      <td>0.0</td>\n      <td>Gomeron Colensid</td>\n      <td>True</td>\n    </tr>\n  </tbody>\n</table>\n</div>"
     },
     "execution_count": 3,
     "metadata": {},
     "output_type": "execute_result"
    }
   ],
   "source": [
    "#import data from file: https://pandas.pydata.org/pandas-docs/stable/generated/pandas.read_csv.html\n",
    "'''\n",
    "a dataset should be broken into 3 splits: train, test, and (final) validation\n",
    "the test file provided is the validation file for competition submission\n",
    "we will split the train set into train and test data in future sections\n",
    "'''\n",
    "data_raw = pd.read_csv(r'data/spaceship_titanic/train.csv')\n",
    "data_val  = pd.read_csv(r'data/spaceship_titanic/test.csv')\n",
    "\n",
    "\n",
    "# #to play with our data we'll create a copy\n",
    "# #remember python assignment or equal passes by reference vs values, so we use the copy function: https://stackoverflow.com/questions/46327494/python-pandas-dataframe-copydeep-false-vs-copydeep-true-vs\n",
    "data1 = data_raw.copy(deep = True)\n",
    "\n",
    "# #however passing by reference is convenient, because we can clean both datasets at once\n",
    "data_cleaner = [data1, data_val]\n",
    "\n",
    "#preview data\n",
    "print (data_raw.info()) #https://pandas.pydata.org/pandas-docs/stable/generated/pandas.DataFrame.info.html\n",
    "#data_raw.head() #https://pandas.pydata.org/pandas-docs/stable/generated/pandas.DataFrame.head.html\n",
    "#data_raw.tail() #https://pandas.pydata.org/pandas-docs/stable/generated/pandas.DataFrame.tail.html\n",
    "data_raw.sample(10) #https://pandas.pydata.org/pandas-docs/stable/generated/pandas.DataFrame.sample.html"
   ],
   "metadata": {
    "collapsed": false,
    "pycharm": {
     "name": "#%%\n"
    }
   }
  },
  {
   "cell_type": "code",
   "execution_count": 4,
   "outputs": [
    {
     "name": "stdout",
     "output_type": "stream",
     "text": [
      "Duplicates in train set: 0, (0.0%)\n",
      "\n",
      "Duplicates in test set: 0, (0.0%)\n"
     ]
    }
   ],
   "source": [
    "print(f'Duplicates in train set: {data_raw.duplicated().sum()}, ({np.round(100*data_raw.duplicated().sum()/len(data_raw),1)}%)')\n",
    "print('')\n",
    "print(f'Duplicates in test set: {data_val.duplicated().sum()}, ({np.round(100*data_val.duplicated().sum()/len(data_val),1)}%)')"
   ],
   "metadata": {
    "collapsed": false,
    "pycharm": {
     "name": "#%%\n"
    }
   }
  },
  {
   "cell_type": "code",
   "execution_count": 5,
   "outputs": [
    {
     "name": "stdout",
     "output_type": "stream",
     "text": [
      "Train columns with null values:\n",
      " PassengerId       0\n",
      "HomePlanet      201\n",
      "CryoSleep       217\n",
      "Cabin           199\n",
      "Destination     182\n",
      "Age             179\n",
      "VIP             203\n",
      "RoomService     181\n",
      "FoodCourt       183\n",
      "ShoppingMall    208\n",
      "Spa             183\n",
      "VRDeck          188\n",
      "Name            200\n",
      "Transported       0\n",
      "dtype: int64\n",
      "----------\n",
      "Test/Validation columns with null values:\n",
      " PassengerId       0\n",
      "HomePlanet       87\n",
      "CryoSleep        93\n",
      "Cabin           100\n",
      "Destination      92\n",
      "Age              91\n",
      "VIP              93\n",
      "RoomService      82\n",
      "FoodCourt       106\n",
      "ShoppingMall     98\n",
      "Spa             101\n",
      "VRDeck           80\n",
      "Name             94\n",
      "dtype: int64\n",
      "----------\n"
     ]
    },
    {
     "data": {
      "text/plain": "       PassengerId HomePlanet CryoSleep    Cabin  Destination          Age  \\\ncount         8693       8492      8476     8494         8511  8514.000000   \nunique        8693          3         2     6560            3          NaN   \ntop        0001_01      Earth     False  G/734/S  TRAPPIST-1e          NaN   \nfreq             1       4602      5439        8         5915          NaN   \nmean           NaN        NaN       NaN      NaN          NaN    28.827930   \nstd            NaN        NaN       NaN      NaN          NaN    14.489021   \nmin            NaN        NaN       NaN      NaN          NaN     0.000000   \n25%            NaN        NaN       NaN      NaN          NaN    19.000000   \n50%            NaN        NaN       NaN      NaN          NaN    27.000000   \n75%            NaN        NaN       NaN      NaN          NaN    38.000000   \nmax            NaN        NaN       NaN      NaN          NaN    79.000000   \n\n          VIP   RoomService     FoodCourt  ShoppingMall           Spa  \\\ncount    8490   8512.000000   8510.000000   8485.000000   8510.000000   \nunique      2           NaN           NaN           NaN           NaN   \ntop     False           NaN           NaN           NaN           NaN   \nfreq     8291           NaN           NaN           NaN           NaN   \nmean      NaN    224.687617    458.077203    173.729169    311.138778   \nstd       NaN    666.717663   1611.489240    604.696458   1136.705535   \nmin       NaN      0.000000      0.000000      0.000000      0.000000   \n25%       NaN      0.000000      0.000000      0.000000      0.000000   \n50%       NaN      0.000000      0.000000      0.000000      0.000000   \n75%       NaN     47.000000     76.000000     27.000000     59.000000   \nmax       NaN  14327.000000  29813.000000  23492.000000  22408.000000   \n\n              VRDeck            Name Transported  \ncount    8505.000000            8493        8693  \nunique           NaN            8473           2  \ntop              NaN  Gollux Reedall        True  \nfreq             NaN               2        4378  \nmean      304.854791             NaN         NaN  \nstd      1145.717189             NaN         NaN  \nmin         0.000000             NaN         NaN  \n25%         0.000000             NaN         NaN  \n50%         0.000000             NaN         NaN  \n75%        46.000000             NaN         NaN  \nmax     24133.000000             NaN         NaN  ",
      "text/html": "<div>\n<style scoped>\n    .dataframe tbody tr th:only-of-type {\n        vertical-align: middle;\n    }\n\n    .dataframe tbody tr th {\n        vertical-align: top;\n    }\n\n    .dataframe thead th {\n        text-align: right;\n    }\n</style>\n<table border=\"1\" class=\"dataframe\">\n  <thead>\n    <tr style=\"text-align: right;\">\n      <th></th>\n      <th>PassengerId</th>\n      <th>HomePlanet</th>\n      <th>CryoSleep</th>\n      <th>Cabin</th>\n      <th>Destination</th>\n      <th>Age</th>\n      <th>VIP</th>\n      <th>RoomService</th>\n      <th>FoodCourt</th>\n      <th>ShoppingMall</th>\n      <th>Spa</th>\n      <th>VRDeck</th>\n      <th>Name</th>\n      <th>Transported</th>\n    </tr>\n  </thead>\n  <tbody>\n    <tr>\n      <th>count</th>\n      <td>8693</td>\n      <td>8492</td>\n      <td>8476</td>\n      <td>8494</td>\n      <td>8511</td>\n      <td>8514.000000</td>\n      <td>8490</td>\n      <td>8512.000000</td>\n      <td>8510.000000</td>\n      <td>8485.000000</td>\n      <td>8510.000000</td>\n      <td>8505.000000</td>\n      <td>8493</td>\n      <td>8693</td>\n    </tr>\n    <tr>\n      <th>unique</th>\n      <td>8693</td>\n      <td>3</td>\n      <td>2</td>\n      <td>6560</td>\n      <td>3</td>\n      <td>NaN</td>\n      <td>2</td>\n      <td>NaN</td>\n      <td>NaN</td>\n      <td>NaN</td>\n      <td>NaN</td>\n      <td>NaN</td>\n      <td>8473</td>\n      <td>2</td>\n    </tr>\n    <tr>\n      <th>top</th>\n      <td>0001_01</td>\n      <td>Earth</td>\n      <td>False</td>\n      <td>G/734/S</td>\n      <td>TRAPPIST-1e</td>\n      <td>NaN</td>\n      <td>False</td>\n      <td>NaN</td>\n      <td>NaN</td>\n      <td>NaN</td>\n      <td>NaN</td>\n      <td>NaN</td>\n      <td>Gollux Reedall</td>\n      <td>True</td>\n    </tr>\n    <tr>\n      <th>freq</th>\n      <td>1</td>\n      <td>4602</td>\n      <td>5439</td>\n      <td>8</td>\n      <td>5915</td>\n      <td>NaN</td>\n      <td>8291</td>\n      <td>NaN</td>\n      <td>NaN</td>\n      <td>NaN</td>\n      <td>NaN</td>\n      <td>NaN</td>\n      <td>2</td>\n      <td>4378</td>\n    </tr>\n    <tr>\n      <th>mean</th>\n      <td>NaN</td>\n      <td>NaN</td>\n      <td>NaN</td>\n      <td>NaN</td>\n      <td>NaN</td>\n      <td>28.827930</td>\n      <td>NaN</td>\n      <td>224.687617</td>\n      <td>458.077203</td>\n      <td>173.729169</td>\n      <td>311.138778</td>\n      <td>304.854791</td>\n      <td>NaN</td>\n      <td>NaN</td>\n    </tr>\n    <tr>\n      <th>std</th>\n      <td>NaN</td>\n      <td>NaN</td>\n      <td>NaN</td>\n      <td>NaN</td>\n      <td>NaN</td>\n      <td>14.489021</td>\n      <td>NaN</td>\n      <td>666.717663</td>\n      <td>1611.489240</td>\n      <td>604.696458</td>\n      <td>1136.705535</td>\n      <td>1145.717189</td>\n      <td>NaN</td>\n      <td>NaN</td>\n    </tr>\n    <tr>\n      <th>min</th>\n      <td>NaN</td>\n      <td>NaN</td>\n      <td>NaN</td>\n      <td>NaN</td>\n      <td>NaN</td>\n      <td>0.000000</td>\n      <td>NaN</td>\n      <td>0.000000</td>\n      <td>0.000000</td>\n      <td>0.000000</td>\n      <td>0.000000</td>\n      <td>0.000000</td>\n      <td>NaN</td>\n      <td>NaN</td>\n    </tr>\n    <tr>\n      <th>25%</th>\n      <td>NaN</td>\n      <td>NaN</td>\n      <td>NaN</td>\n      <td>NaN</td>\n      <td>NaN</td>\n      <td>19.000000</td>\n      <td>NaN</td>\n      <td>0.000000</td>\n      <td>0.000000</td>\n      <td>0.000000</td>\n      <td>0.000000</td>\n      <td>0.000000</td>\n      <td>NaN</td>\n      <td>NaN</td>\n    </tr>\n    <tr>\n      <th>50%</th>\n      <td>NaN</td>\n      <td>NaN</td>\n      <td>NaN</td>\n      <td>NaN</td>\n      <td>NaN</td>\n      <td>27.000000</td>\n      <td>NaN</td>\n      <td>0.000000</td>\n      <td>0.000000</td>\n      <td>0.000000</td>\n      <td>0.000000</td>\n      <td>0.000000</td>\n      <td>NaN</td>\n      <td>NaN</td>\n    </tr>\n    <tr>\n      <th>75%</th>\n      <td>NaN</td>\n      <td>NaN</td>\n      <td>NaN</td>\n      <td>NaN</td>\n      <td>NaN</td>\n      <td>38.000000</td>\n      <td>NaN</td>\n      <td>47.000000</td>\n      <td>76.000000</td>\n      <td>27.000000</td>\n      <td>59.000000</td>\n      <td>46.000000</td>\n      <td>NaN</td>\n      <td>NaN</td>\n    </tr>\n    <tr>\n      <th>max</th>\n      <td>NaN</td>\n      <td>NaN</td>\n      <td>NaN</td>\n      <td>NaN</td>\n      <td>NaN</td>\n      <td>79.000000</td>\n      <td>NaN</td>\n      <td>14327.000000</td>\n      <td>29813.000000</td>\n      <td>23492.000000</td>\n      <td>22408.000000</td>\n      <td>24133.000000</td>\n      <td>NaN</td>\n      <td>NaN</td>\n    </tr>\n  </tbody>\n</table>\n</div>"
     },
     "execution_count": 5,
     "metadata": {},
     "output_type": "execute_result"
    }
   ],
   "source": [
    "print('Train columns with null values:\\n', data1.isnull().sum())\n",
    "print(\"-\"*10)\n",
    "\n",
    "print('Test/Validation columns with null values:\\n', data_val.isnull().sum())\n",
    "print(\"-\"*10)\n",
    "\n",
    "data_raw.describe(include = 'all')"
   ],
   "metadata": {
    "collapsed": false,
    "pycharm": {
     "name": "#%%\n"
    }
   }
  },
  {
   "cell_type": "code",
   "execution_count": 6,
   "outputs": [],
   "source": [
    "exp_feats=['RoomService', 'FoodCourt', 'ShoppingMall', 'Spa', 'VRDeck']\n",
    "\n",
    "# Categorical features\n",
    "cat_feats=['HomePlanet', 'CryoSleep', 'Destination', 'VIP']\n",
    "\n",
    "# Qualitative features\n",
    "qual_feats=['PassengerId', 'Cabin' ,'Name']"
   ],
   "metadata": {
    "collapsed": false,
    "pycharm": {
     "name": "#%%\n"
    }
   }
  },
  {
   "cell_type": "code",
   "execution_count": 7,
   "outputs": [
    {
     "data": {
      "text/plain": "Text(0.5, 1.0, 'Age group distribution')"
     },
     "execution_count": 7,
     "metadata": {},
     "output_type": "execute_result"
    },
    {
     "data": {
      "text/plain": "<Figure size 1000x400 with 1 Axes>",
      "image/png": "[encoded data removed]"
     },
     "metadata": {},
     "output_type": "display_data"
    }
   ],
   "source": [
    "for dataset in data_cleaner:\n",
    "    dataset['Age_group']=np.nan\n",
    "    dataset.loc[dataset['Age']<=12,'Age_group']='Age_0-12'\n",
    "    dataset.loc[(dataset['Age']>12) & (dataset['Age']<18),'Age_group']='Age_13-17'\n",
    "    dataset.loc[(dataset['Age']>=18) & (dataset['Age']<=25),'Age_group']='Age_18-25'\n",
    "    dataset.loc[(dataset['Age']>25) & (dataset['Age']<=30),'Age_group']='Age_26-30'\n",
    "    dataset.loc[(dataset['Age']>30) & (dataset['Age']<=50),'Age_group']='Age_31-50'\n",
    "    dataset.loc[dataset['Age']>50,'Age_group']='Age_51+'\n",
    "\n",
    "# Plot distribution of new features\n",
    "plt.figure(figsize=(10,4))\n",
    "g=sns.countplot(data=data1, x='Age_group', hue='Transported', order=['Age_0-12','Age_13-17','Age_18-25','Age_26-30','Age_31-50','Age_51+'])\n",
    "plt.title('Age group distribution')"
   ],
   "metadata": {
    "collapsed": false,
    "pycharm": {
     "name": "#%%\n"
    }
   }
  },
  {
   "cell_type": "code",
   "execution_count": 8,
   "outputs": [],
   "source": [
    "for dataset in data_cleaner:\n",
    "    dataset['Expenditure']=dataset[exp_feats].sum(axis=1)\n",
    "    dataset['No_spending']=(dataset['Expenditure']==0).astype(int)"
   ],
   "metadata": {
    "collapsed": false,
    "pycharm": {
     "name": "#%%\n"
    }
   }
  },
  {
   "cell_type": "code",
   "execution_count": 9,
   "outputs": [],
   "source": [
    "for dataset in data_cleaner:\n",
    "    dataset['Group'] = dataset['PassengerId'].apply(lambda x: x.split('_')[0]).astype(int)\n",
    "    dataset['Group_size']=dataset['Group'].map(lambda x: dataset['Group'].value_counts()[x])"
   ],
   "metadata": {
    "collapsed": false,
    "pycharm": {
     "name": "#%%\n"
    }
   }
  },
  {
   "cell_type": "code",
   "execution_count": 10,
   "outputs": [],
   "source": [
    "for dataset in data_cleaner:\n",
    "    dataset['Solo']=(dataset['Group_size']==1).astype(int)\n"
   ],
   "metadata": {
    "collapsed": false,
    "pycharm": {
     "name": "#%%\n"
    }
   }
  },
  {
   "cell_type": "code",
   "execution_count": 11,
   "outputs": [],
   "source": [
    "for dataset in data_cleaner:\n",
    "    # Replace NaN's with outliers for now (so we can split feature)\n",
    "    dataset['Cabin'].fillna('Z/9999/Z', inplace=True)\n",
    "    # New features\n",
    "    dataset['Cabin_deck'] = dataset['Cabin'].apply(lambda x: x.split('/')[0])\n",
    "    dataset['Cabin_number'] = dataset['Cabin'].apply(lambda x: x.split('/')[1]).astype(int)\n",
    "    dataset['Cabin_side'] = dataset['Cabin'].apply(lambda x: x.split('/')[2])\n",
    "\n",
    "    # Put Nan's back in (we will fill these later)\n",
    "    dataset.loc[dataset['Cabin_deck']=='Z', 'Cabin_deck']=np.nan\n",
    "    dataset.loc[dataset['Cabin_number']==9999, 'Cabin_number']=np.nan\n",
    "    dataset.loc[dataset['Cabin_side']=='Z', 'Cabin_side']=np.nan\n",
    "\n",
    "    # Drop Cabin (we don't need it anymore)\n",
    "    dataset.drop('Cabin', axis=1, inplace=True)"
   ],
   "metadata": {
    "collapsed": false,
    "pycharm": {
     "name": "#%%\n"
    }
   }
  },
  {
   "cell_type": "code",
   "execution_count": 12,
   "outputs": [],
   "source": [
    "for dataset in data_cleaner:\n",
    "    # New features - training set\n",
    "    dataset['Cabin_region1']=(dataset['Cabin_number']<300).astype(int)   # one-hot encoding\n",
    "    dataset['Cabin_region2']=((dataset['Cabin_number']>=300) & (dataset['Cabin_number']<600)).astype(int)\n",
    "    dataset['Cabin_region3']=((dataset['Cabin_number']>=600) & (dataset['Cabin_number']<900)).astype(int)\n",
    "    dataset['Cabin_region4']=((dataset['Cabin_number']>=900) & (dataset['Cabin_number']<1200)).astype(int)\n",
    "    dataset['Cabin_region5']=((dataset['Cabin_number']>=1200) & (dataset['Cabin_number']<1500)).astype(int)\n",
    "    dataset['Cabin_region6']=((dataset['Cabin_number']>=1500) & (dataset['Cabin_number']<1800)).astype(int)\n",
    "    dataset['Cabin_region7']=(dataset['Cabin_number']>=1800).astype(int)"
   ],
   "metadata": {
    "collapsed": false,
    "pycharm": {
     "name": "#%%\n"
    }
   }
  },
  {
   "cell_type": "code",
   "execution_count": 13,
   "outputs": [],
   "source": [
    "for dataset in data_cleaner:\n",
    "    # Calculate family size from last name.\n",
    "    # Replace NaN's with outliers for now (so we can split feature)\n",
    "    dataset['Name'].fillna('Unknown Unknown', inplace=True)\n",
    "    # New feature - Surname\n",
    "    dataset['Surname']=dataset['Name'].str.split().str[-1]\n",
    "    # New feature - Family size\n",
    "    dataset['Family_size']=dataset['Surname'].map(lambda x: dataset['Surname'].value_counts()[x])\n",
    "    # Put Nan's back in (we will fill these later)\n",
    "    dataset.loc[dataset['Surname']=='Unknown','Surname']=np.nan\n",
    "    dataset.loc[dataset['Family_size']>100,'Family_size']=np.nan\n",
    "    # Drop name (we don't need it anymore)\n",
    "    dataset.drop('Name', axis=1, inplace=True)"
   ],
   "metadata": {
    "collapsed": false,
    "pycharm": {
     "name": "#%%\n"
    }
   }
  },
  {
   "cell_type": "code",
   "execution_count": 14,
   "outputs": [],
   "source": [
    "data1['Transported'].astype(int)\n",
    "\n",
    "for dataset in data_cleaner:\n",
    "    # Columns with missing values\n",
    "    na_cols=dataset.columns[dataset.isna().any()].tolist()\n",
    "    mv=pd.DataFrame(dataset[na_cols].isna().sum(), columns=['Number_missing'])\n",
    "    mv['Percentage_missing']=np.round(100*mv['Number_missing']/len(dataset),2)"
   ],
   "metadata": {
    "collapsed": false,
    "pycharm": {
     "name": "#%%\n"
    }
   }
  },
  {
   "cell_type": "code",
   "execution_count": 15,
   "outputs": [],
   "source": [
    "data1['na_count']=data1.isna().sum(axis=1)\n",
    "data1.drop('na_count', axis=1, inplace=True)"
   ],
   "metadata": {
    "collapsed": false,
    "pycharm": {
     "name": "#%%\n"
    }
   }
  },
  {
   "cell_type": "code",
   "execution_count": 16,
   "outputs": [
    {
     "name": "stdout",
     "output_type": "stream",
     "text": [
      "#HomePlanet missing values before: 201\n",
      "#HomePlanet missing values after: 111\n",
      "#HomePlanet missing values before: 87\n",
      "#HomePlanet missing values after: 46\n"
     ]
    }
   ],
   "source": [
    "for dataset in data_cleaner:\n",
    "    GHP_gb=dataset.groupby(['Group','HomePlanet'])['HomePlanet'].size().unstack().fillna(0)\n",
    "    # Missing values before\n",
    "    HP_bef=dataset['HomePlanet'].isna().sum()\n",
    "\n",
    "    # Passengers with missing HomePlanet and in a group with known HomePlanet\n",
    "    GHP_index=dataset[dataset['HomePlanet'].isna()][(dataset[dataset['HomePlanet'].isna()]['Group']).isin(GHP_gb.index)].index\n",
    "\n",
    "    # Fill corresponding missing values\n",
    "    dataset.loc[GHP_index,'HomePlanet']=dataset.iloc[GHP_index,:]['Group'].map(lambda x: GHP_gb.idxmax(axis=1)[x])\n",
    "\n",
    "    # Print number of missing values left\n",
    "    print('#HomePlanet missing values before:',HP_bef)\n",
    "    print('#HomePlanet missing values after:',dataset['HomePlanet'].isna().sum())\n",
    "\n",
    "# We managed to fill 131 values with 100% confidence but we are not finished yet."
   ],
   "metadata": {
    "collapsed": false,
    "pycharm": {
     "name": "#%%\n"
    }
   }
  },
  {
   "cell_type": "code",
   "execution_count": 17,
   "outputs": [
    {
     "name": "stdout",
     "output_type": "stream",
     "text": [
      "#HomePlanet missing values before: 111\n",
      "#HomePlanet missing values after: 63\n",
      "#HomePlanet missing values before: 46\n",
      "#HomePlanet missing values after: 31\n"
     ]
    }
   ],
   "source": [
    "for dataset in data_cleaner:\n",
    "    # Missing values before\n",
    "    HP_bef=dataset['HomePlanet'].isna().sum()\n",
    "\n",
    "    # Decks A, B, C or T came from Europa\n",
    "    dataset.loc[(dataset['HomePlanet'].isna()) & (dataset['Cabin_deck'].isin(['A', 'B', 'C', 'T'])), 'HomePlanet']='Europa'\n",
    "\n",
    "    # Deck G came from Earth\n",
    "    dataset.loc[(dataset['HomePlanet'].isna()) & (dataset['Cabin_deck']=='G'), 'HomePlanet']='Earth'\n",
    "\n",
    "    # Print number of missing values left\n",
    "    print('#HomePlanet missing values before:',HP_bef)\n",
    "    print('#HomePlanet missing values after:',dataset['HomePlanet'].isna().sum())"
   ],
   "metadata": {
    "collapsed": false,
    "pycharm": {
     "name": "#%%\n"
    }
   }
  },
  {
   "cell_type": "code",
   "execution_count": 18,
   "outputs": [
    {
     "name": "stdout",
     "output_type": "stream",
     "text": [
      "#HomePlanet missing values before: 63\n",
      "#HomePlanet missing values after: 8\n",
      "#HomePlanet missing values before: 31\n",
      "#HomePlanet missing values after: 11\n"
     ]
    }
   ],
   "source": [
    "for data in data_cleaner:\n",
    "    SHP_gb=data.groupby(['Surname','HomePlanet'])['HomePlanet'].size().unstack().fillna(0)\n",
    "    #  Everyone with the same surname comes from the same home planet.\n",
    "    # Missing values before\n",
    "    HP_bef=data['HomePlanet'].isna().sum()\n",
    "\n",
    "    # Passengers with missing HomePlanet and in a family with known HomePlanet\n",
    "    SHP_index=data[data['HomePlanet'].isna()][(data[data['HomePlanet'].isna()]['Surname']).isin(SHP_gb.index)].index\n",
    "\n",
    "    # Fill corresponding missing values\n",
    "    data.loc[SHP_index,'HomePlanet']=data.iloc[SHP_index,:]['Surname'].map(lambda x: SHP_gb.idxmax(axis=1)[x])\n",
    "\n",
    "    # Print number of missing values left\n",
    "    print('#HomePlanet missing values before:',HP_bef)\n",
    "    print('#HomePlanet missing values after:',data['HomePlanet'].isna().sum())"
   ],
   "metadata": {
    "collapsed": false,
    "pycharm": {
     "name": "#%%\n"
    }
   }
  },
  {
   "cell_type": "code",
   "execution_count": 19,
   "outputs": [
    {
     "name": "stdout",
     "output_type": "stream",
     "text": [
      "#HomePlanet missing values before: 8\n",
      "#HomePlanet missing values after: 0\n",
      "#HomePlanet missing values before: 11\n",
      "#HomePlanet missing values after: 0\n"
     ]
    }
   ],
   "source": [
    "for data in data_cleaner:\n",
    "    # Missing values before\n",
    "    HP_bef=data['HomePlanet'].isna().sum()\n",
    "\n",
    "    # Fill remaining HomePlanet missing values with Earth (if not on deck D) or Mars (if on Deck D)\n",
    "    data.loc[(data['HomePlanet'].isna()) & ~(data['Cabin_deck']=='D'), 'HomePlanet']='Earth'\n",
    "    data.loc[(data['HomePlanet'].isna()) & (data['Cabin_deck']=='D'), 'HomePlanet']='Mars'\n",
    "\n",
    "    # Print number of missing values left\n",
    "    print('#HomePlanet missing values before:',HP_bef)\n",
    "    print('#HomePlanet missing values after:',data['HomePlanet'].isna().sum())\n",
    "\n",
    "# We're done with HomePlanet."
   ],
   "metadata": {
    "collapsed": false,
    "pycharm": {
     "name": "#%%\n"
    }
   }
  },
  {
   "cell_type": "code",
   "execution_count": 20,
   "outputs": [
    {
     "name": "stdout",
     "output_type": "stream",
     "text": [
      "#Destination missing values before: 182\n",
      "#Destination missing values after: 0\n",
      "#Destination missing values before: 92\n",
      "#Destination missing values after: 0\n"
     ]
    }
   ],
   "source": [
    "for data in data_cleaner:\n",
    "    # Missing values before\n",
    "    D_bef=data['Destination'].isna().sum()\n",
    "\n",
    "    # Fill missing Destination values with mode\n",
    "    data.loc[(data['Destination'].isna()), 'Destination']='TRAPPIST-1e'\n",
    "\n",
    "    # Print number of missing values left\n",
    "    print('#Destination missing values before:',D_bef)\n",
    "    print('#Destination missing values after:',data['Destination'].isna().sum())"
   ],
   "metadata": {
    "collapsed": false,
    "pycharm": {
     "name": "#%%\n"
    }
   }
  },
  {
   "cell_type": "code",
   "execution_count": 21,
   "outputs": [
    {
     "name": "stdout",
     "output_type": "stream",
     "text": [
      "#Surname missing values before: 200\n",
      "#Surname missing values after: 104\n",
      "#Surname missing values before: 94\n",
      "#Surname missing values after: 51\n"
     ]
    }
   ],
   "source": [
    "for data in data_cleaner:\n",
    "    # Joint distribution of Group and Surname\n",
    "    GSN_gb=data[data['Group_size']>1].groupby(['Group','Surname'])['Surname'].size().unstack().fillna(0)\n",
    "\n",
    "    # The majority (83%) of groups contain only 1 family. So let's fill missing surnames according to the majority surname in that group.\n",
    "    # Missing values before\n",
    "    SN_bef=data['Surname'].isna().sum()\n",
    "\n",
    "    # Passengers with missing Surname and in a group with known majority Surname\n",
    "    GSN_index=data[data['Surname'].isna()][(data[data['Surname'].isna()]['Group']).isin(GSN_gb.index)].index\n",
    "\n",
    "    # Fill corresponding missing values\n",
    "    data.loc[GSN_index,'Surname']=data.iloc[GSN_index,:]['Group'].map(lambda x: GSN_gb.idxmax(axis=1)[x])\n",
    "\n",
    "    # Print number of missing values left\n",
    "    print('#Surname missing values before:',SN_bef)\n",
    "    print('#Surname missing values after:',data['Surname'].isna().sum())\n",
    "\n",
    "    # Replace NaN's with outliers (so we can use map)\n",
    "    data['Surname'].fillna('Unknown', inplace=True)\n",
    "\n",
    "    # Update family size feature\n",
    "    data['Family_size']=data['Surname'].map(lambda x: data['Surname'].value_counts()[x])\n",
    "\n",
    "    # Put NaN's back in place of outliers\n",
    "    data.loc[data['Surname']=='Unknown','Surname']=np.nan\n",
    "\n",
    "    # Say unknown surname means no family\n",
    "    data.loc[data['Family_size']>100,'Family_size']=0"
   ],
   "metadata": {
    "collapsed": false,
    "pycharm": {
     "name": "#%%\n"
    }
   }
  },
  {
   "cell_type": "code",
   "execution_count": 22,
   "outputs": [
    {
     "name": "stdout",
     "output_type": "stream",
     "text": [
      "#Cabin_side missing values before: 199\n",
      "#Cabin_side missing values after: 99\n",
      "#Cabin_side missing values before: 100\n",
      "#Cabin_side missing values after: 63\n"
     ]
    }
   ],
   "source": [
    "for data in data_cleaner:\n",
    "    # Joint distribution of Group and Cabin features\n",
    "    GCD_gb=data[data['Group_size']>1].groupby(['Group','Cabin_deck'])['Cabin_deck'].size().unstack().fillna(0)\n",
    "    GCN_gb=data[data['Group_size']>1].groupby(['Group','Cabin_number'])['Cabin_number'].size().unstack().fillna(0)\n",
    "    GCS_gb=data[data['Group_size']>1].groupby(['Group','Cabin_side'])['Cabin_side'].size().unstack().fillna(0)\n",
    "\n",
    "    # Everyone in the same group is also on the same cabin side. For cabin deck and cabin number there is also a fairly good (but not perfect) correlation with group.\n",
    "    # Missing values before\n",
    "    CS_bef=data['Cabin_side'].isna().sum()\n",
    "\n",
    "    # Passengers with missing Cabin side and in a group with known Cabin side\n",
    "    GCS_index=data[data['Cabin_side'].isna()][(data[data['Cabin_side'].isna()]['Group']).isin(GCS_gb.index)].index\n",
    "\n",
    "    # Fill corresponding missing values\n",
    "    data.loc[GCS_index,'Cabin_side']=data.iloc[GCS_index,:]['Group'].map(lambda x: GCS_gb.idxmax(axis=1)[x])\n",
    "\n",
    "    # Print number of missing values left\n",
    "    print('#Cabin_side missing values before:',CS_bef)\n",
    "    print('#Cabin_side missing values after:',data['Cabin_side'].isna().sum())"
   ],
   "metadata": {
    "collapsed": false,
    "pycharm": {
     "name": "#%%\n"
    }
   }
  },
  {
   "cell_type": "code",
   "execution_count": 23,
   "outputs": [],
   "source": [
    "for data in data_cleaner:\n",
    "    # Joint distribution of Surname and Cabin side\n",
    "    SCS_gb=data[data['Group_size']>1].groupby(['Surname','Cabin_side'])['Cabin_side'].size().unstack().fillna(0)\n",
    "\n",
    "    # Ratio of sides\n",
    "    SCS_gb['Ratio']=SCS_gb['P']/(SCS_gb['P']+SCS_gb['S'])\n",
    "\n",
    "    # Histogram of ratio"
   ],
   "metadata": {
    "collapsed": false,
    "pycharm": {
     "name": "#%%\n"
    }
   }
  },
  {
   "cell_type": "code",
   "execution_count": 24,
   "outputs": [
    {
     "name": "stdout",
     "output_type": "stream",
     "text": [
      "Percentage of families all on the same cabin side: 91.0 %\n"
     ]
    },
    {
     "data": {
      "text/plain": "Cabin_side    P    S  Ratio\nSurname                    \nAcobsond    3.0  0.0    1.0\nAginge      3.0  0.0    1.0\nAillyber    3.0  0.0    1.0\nAindlylid   0.0  1.0    0.0\nAirdring    0.0  2.0    0.0",
      "text/html": "<div>\n<style scoped>\n    .dataframe tbody tr th:only-of-type {\n        vertical-align: middle;\n    }\n\n    .dataframe tbody tr th {\n        vertical-align: top;\n    }\n\n    .dataframe thead th {\n        text-align: right;\n    }\n</style>\n<table border=\"1\" class=\"dataframe\">\n  <thead>\n    <tr style=\"text-align: right;\">\n      <th>Cabin_side</th>\n      <th>P</th>\n      <th>S</th>\n      <th>Ratio</th>\n    </tr>\n    <tr>\n      <th>Surname</th>\n      <th></th>\n      <th></th>\n      <th></th>\n    </tr>\n  </thead>\n  <tbody>\n    <tr>\n      <th>Acobsond</th>\n      <td>3.0</td>\n      <td>0.0</td>\n      <td>1.0</td>\n    </tr>\n    <tr>\n      <th>Aginge</th>\n      <td>3.0</td>\n      <td>0.0</td>\n      <td>1.0</td>\n    </tr>\n    <tr>\n      <th>Aillyber</th>\n      <td>3.0</td>\n      <td>0.0</td>\n      <td>1.0</td>\n    </tr>\n    <tr>\n      <th>Aindlylid</th>\n      <td>0.0</td>\n      <td>1.0</td>\n      <td>0.0</td>\n    </tr>\n    <tr>\n      <th>Airdring</th>\n      <td>0.0</td>\n      <td>2.0</td>\n      <td>0.0</td>\n    </tr>\n  </tbody>\n</table>\n</div>"
     },
     "execution_count": 24,
     "metadata": {},
     "output_type": "execute_result"
    }
   ],
   "source": [
    "# Print proportion\n",
    "print('Percentage of families all on the same cabin side:', 100*np.round((SCS_gb['Ratio'].isin([0,1])).sum()/len(SCS_gb),3),'%')\n",
    "\n",
    "# Another view of the same information\n",
    "SCS_gb.head()"
   ],
   "metadata": {
    "collapsed": false,
    "pycharm": {
     "name": "#%%\n"
    }
   }
  },
  {
   "cell_type": "code",
   "execution_count": 25,
   "outputs": [
    {
     "name": "stdout",
     "output_type": "stream",
     "text": [
      "#Cabin_side missing values before: 63\n",
      "#Cabin_side missing values after: 74\n",
      "#Cabin_side missing values before: 63\n",
      "#Cabin_side missing values after: 45\n"
     ]
    }
   ],
   "source": [
    "# Missing values before\n",
    "CS_bef=data['Cabin_side'].isna().sum()\n",
    "\n",
    "# Drop ratio column\n",
    "SCS_gb.drop('Ratio', axis=1, inplace=True)\n",
    "\n",
    "for data in data_cleaner:\n",
    "    # Passengers with missing Cabin side and in a family with known Cabin side\n",
    "    SCS_index=data[data['Cabin_side'].isna()][(data[data['Cabin_side'].isna()]['Surname']).isin(SCS_gb.index)].index\n",
    "\n",
    "    # Fill corresponding missing values\n",
    "    data.loc[SCS_index,'Cabin_side']=data.iloc[SCS_index,:]['Surname'].map(lambda x: SCS_gb.idxmax(axis=1)[x])\n",
    "\n",
    "    # Drop surname (we don't need it anymore)\n",
    "    data.drop('Surname', axis=1, inplace=True)\n",
    "\n",
    "    # Print number of missing values left\n",
    "    print('#Cabin_side missing values before:',CS_bef)\n",
    "    print('#Cabin_side missing values after:',data['Cabin_side'].isna().sum())"
   ],
   "metadata": {
    "collapsed": false,
    "pycharm": {
     "name": "#%%\n"
    }
   }
  },
  {
   "cell_type": "code",
   "execution_count": 26,
   "outputs": [
    {
     "name": "stdout",
     "output_type": "stream",
     "text": [
      "#Cabin_side missing values before: 74\n",
      "#Cabin_side missing values after: 0\n",
      "#Cabin_side missing values before: 45\n",
      "#Cabin_side missing values after: 0\n"
     ]
    }
   ],
   "source": [
    "for data in data_cleaner:\n",
    "    # Value counts\n",
    "    data['Cabin_side'].value_counts()\n",
    "\n",
    "    # Missing values before\n",
    "    CS_bef=data['Cabin_side'].isna().sum()\n",
    "\n",
    "    # Fill remaining missing values with outlier\n",
    "    data.loc[data['Cabin_side'].isna(),'Cabin_side']='Z'\n",
    "\n",
    "    # Print number of missing values left\n",
    "    print('#Cabin_side missing values before:',CS_bef)\n",
    "    print('#Cabin_side missing values after:',data['Cabin_side'].isna().sum())"
   ],
   "metadata": {
    "collapsed": false,
    "pycharm": {
     "name": "#%%\n"
    }
   }
  },
  {
   "cell_type": "code",
   "execution_count": 27,
   "outputs": [
    {
     "name": "stdout",
     "output_type": "stream",
     "text": [
      "#Cabin_deck missing values before: 199\n",
      "#Cabin_deck missing values after: 199\n",
      "#Cabin_deck missing values before: 100\n",
      "#Cabin_deck missing values after: 63\n"
     ]
    }
   ],
   "source": [
    "for data in data_cleaner:\n",
    "    # Missing values before\n",
    "    CD_bef=data['Cabin_deck'].isna().sum()\n",
    "\n",
    "    # Passengers with missing Cabin deck and in a group with known majority Cabin deck\n",
    "    GCD_index=data[data['Cabin_deck'].isna()][(data[data['Cabin_deck'].isna()]['Group']).isin(GCD_gb.index)].index\n",
    "\n",
    "    # Fill corresponding missing values\n",
    "    data.loc[GCD_index,'Cabin_deck']=data.iloc[GCD_index,:]['Group'].map(lambda x: GCD_gb.idxmax(axis=1)[x])\n",
    "\n",
    "    # Print number of missing values left\n",
    "    print('#Cabin_deck missing values before:',CD_bef)\n",
    "    print('#Cabin_deck missing values after:',data['Cabin_deck'].isna().sum())"
   ],
   "metadata": {
    "collapsed": false,
    "pycharm": {
     "name": "#%%\n"
    }
   }
  },
  {
   "cell_type": "code",
   "execution_count": 28,
   "outputs": [
    {
     "name": "stdout",
     "output_type": "stream",
     "text": [
      "#Cabin_deck missing values before: 199\n",
      "#Cabin_deck missing values after: 0\n",
      "#Cabin_deck missing values before: 63\n",
      "#Cabin_deck missing values after: 0\n"
     ]
    }
   ],
   "source": [
    "for data in data_cleaner:\n",
    "    # Joint distribution\n",
    "    data.groupby(['HomePlanet','Destination','Solo','Cabin_deck'])['Cabin_deck'].size().unstack().fillna(0)\n",
    "    '''\n",
    "    Passengers from Mars are most likely in deck F.\n",
    "    Passengers from Europa are (more or less) most likely in deck C if travelling solo and deck B otherwise.\n",
    "    Passengers from Earth are (more or less) most likely in deck G.\n",
    "    We will fill in missing values according to where the mode appears in these subgroups.\n",
    "    '''\n",
    "    # Missing values before\n",
    "    CD_bef=data['Cabin_deck'].isna().sum()\n",
    "\n",
    "    # Fill missing values using the mode\n",
    "    na_rows_CD=data.loc[data['Cabin_deck'].isna(),'Cabin_deck'].index\n",
    "    data.loc[data['Cabin_deck'].isna(),'Cabin_deck']=data.groupby(['HomePlanet','Destination','Solo'])['Cabin_deck'].transform(lambda x: x.fillna(pd.Series.mode(x)[0]))[na_rows_CD]\n",
    "\n",
    "    # Print number of missing values left\n",
    "    print('#Cabin_deck missing values before:',CD_bef)\n",
    "    print('#Cabin_deck missing values after:',data['Cabin_deck'].isna().sum())"
   ],
   "metadata": {
    "collapsed": false,
    "pycharm": {
     "name": "#%%\n"
    }
   }
  },
  {
   "cell_type": "code",
   "execution_count": 29,
   "outputs": [
    {
     "name": "stdout",
     "output_type": "stream",
     "text": [
      "#Cabin_number missing values before: 199\n",
      "#Cabin_number missing values before: 199\n",
      "#Cabin_number missing values after: 0\n",
      "#Cabin_number missing values before: 100\n",
      "#Cabin_number missing values before: 100\n",
      "#Cabin_number missing values after: 0\n"
     ]
    }
   ],
   "source": [
    "for data in data_cleaner:\n",
    "    # Missing values before\n",
    "    CN_bef=data['Cabin_number'].isna().sum()\n",
    "    print('#Cabin_number missing values before:',CN_bef)\n",
    "    # Extrapolate linear relationship on a deck by deck basis\n",
    "    for deck in ['A', 'B', 'C', 'D', 'E', 'F', 'G']:\n",
    "        # Features and labels\n",
    "        X_CN=data.loc[~(data['Cabin_number'].isna()) & (data['Cabin_deck']==deck),'Group']\n",
    "        y_CN=data.loc[~(data['Cabin_number'].isna()) & (data['Cabin_deck']==deck),'Cabin_number']\n",
    "        X_test_CN=data.loc[(data['Cabin_number'].isna()) & (data['Cabin_deck']==deck),'Group']\n",
    "\n",
    "        if not X_test_CN.empty:\n",
    "            # Linear regression\n",
    "            model_CN=sklearn.linear_model.LinearRegression()\n",
    "            model_CN.fit(X_CN.values.reshape(-1, 1), y_CN)\n",
    "            preds_CN=model_CN.predict(X_test_CN.values.reshape(-1, 1))\n",
    "\n",
    "            # Fill missing values with predictions\n",
    "            data.loc[(data['Cabin_number'].isna()) & (data['Cabin_deck']==deck),'Cabin_number']=preds_CN.astype(int)\n",
    "\n",
    "    # Print number of missing values left\n",
    "    print('#Cabin_number missing values before:',CN_bef)\n",
    "    print('#Cabin_number missing values after:',data['Cabin_number'].isna().sum())\n",
    "\n",
    "    # One-hot encode cabin regions\n",
    "    data['Cabin_region1']=(data['Cabin_number']<300).astype(int)\n",
    "    data['Cabin_region2']=((data['Cabin_number']>=300) & (data['Cabin_number']<600)).astype(int)\n",
    "    data['Cabin_region3']=((data['Cabin_number']>=600) & (data['Cabin_number']<900)).astype(int)\n",
    "    data['Cabin_region4']=((data['Cabin_number']>=900) & (data['Cabin_number']<1200)).astype(int)\n",
    "    data['Cabin_region5']=((data['Cabin_number']>=1200) & (data['Cabin_number']<1500)).astype(int)\n",
    "    data['Cabin_region6']=((data['Cabin_number']>=1500) & (data['Cabin_number']<1800)).astype(int)\n",
    "    data['Cabin_region7']=(data['Cabin_number']>=1800).astype(int)"
   ],
   "metadata": {
    "collapsed": false,
    "pycharm": {
     "name": "#%%\n"
    }
   }
  },
  {
   "cell_type": "code",
   "execution_count": 30,
   "outputs": [
    {
     "name": "stdout",
     "output_type": "stream",
     "text": [
      "#VIP missing values before: 203\n",
      "#VIP missing values after: 0\n",
      "#VIP missing values before: 93\n",
      "#VIP missing values after: 0\n"
     ]
    }
   ],
   "source": [
    "for data in data_cleaner:\n",
    "    # Missing values before\n",
    "    V_bef=data['VIP'].isna().sum()\n",
    "\n",
    "    # Fill missing values with mode\n",
    "    data.loc[data['VIP'].isna(),'VIP']=False\n",
    "\n",
    "    # Print number of missing values left\n",
    "    print('#VIP missing values before:',V_bef)\n",
    "    print('#VIP missing values after:',data['VIP'].isna().sum())"
   ],
   "metadata": {
    "collapsed": false,
    "pycharm": {
     "name": "#%%\n"
    }
   }
  },
  {
   "cell_type": "code",
   "execution_count": 31,
   "outputs": [
    {
     "name": "stdout",
     "output_type": "stream",
     "text": [
      "#Age missing values before: 943\n",
      "#Age missing values after: 0\n",
      "#Age missing values before: 467\n",
      "#Age missing values after: 0\n"
     ]
    }
   ],
   "source": [
    "for data in data_cleaner:\n",
    "    # Joint distribution\n",
    "    data.groupby(['HomePlanet','No_spending','Solo','Cabin_deck'])['Age'].median().unstack().fillna(0)\n",
    "    # Missing values before\n",
    "    A_bef=data[exp_feats].isna().sum().sum()\n",
    "\n",
    "    # Fill missing values using the median\n",
    "    na_rows_A=data.loc[data['Age'].isna(),'Age'].index\n",
    "    data.loc[data['Age'].isna(),'Age']=data.groupby(['HomePlanet','No_spending','Solo','Cabin_deck'])['Age'].transform(lambda x: x.fillna(x.median()))[na_rows_A]\n",
    "\n",
    "    # Print number of missing values left\n",
    "    print('#Age missing values before:',A_bef)\n",
    "    print('#Age missing values after:',data['Age'].isna().sum())"
   ],
   "metadata": {
    "collapsed": false,
    "pycharm": {
     "name": "#%%\n"
    }
   }
  },
  {
   "cell_type": "code",
   "execution_count": 32,
   "outputs": [],
   "source": [
    "for data in data_cleaner:\n",
    "    # Update age group feature\n",
    "    data.loc[data['Age']<=12,'Age_group']='Age_0-12'\n",
    "    data.loc[(data['Age']>12) & (data['Age']<18),'Age_group']='Age_13-17'\n",
    "    data.loc[(data['Age']>=18) & (data['Age']<=25),'Age_group']='Age_18-25'\n",
    "    data.loc[(data['Age']>25) & (data['Age']<=30),'Age_group']='Age_26-30'\n",
    "    data.loc[(data['Age']>30) & (data['Age']<=50),'Age_group']='Age_31-50'\n",
    "    data.loc[data['Age']>50,'Age_group']='Age_51+'"
   ],
   "metadata": {
    "collapsed": false,
    "pycharm": {
     "name": "#%%\n"
    }
   }
  },
  {
   "cell_type": "code",
   "execution_count": 33,
   "outputs": [
    {
     "name": "stdout",
     "output_type": "stream",
     "text": [
      "#CryoSleep missing values before: 217\n",
      "#CryoSleep missing values after: 0\n",
      "#CryoSleep missing values before: 93\n",
      "#CryoSleep missing values after: 0\n"
     ]
    }
   ],
   "source": [
    "for data in data_cleaner:\n",
    "    # Joint distribution\n",
    "    data.groupby(['No_spending','CryoSleep'])['CryoSleep'].size().unstack().fillna(0)\n",
    "    # Missing values before\n",
    "    CSL_bef=data['CryoSleep'].isna().sum()\n",
    "\n",
    "    # Fill missing values using the mode\n",
    "    na_rows_CSL=data.loc[data['CryoSleep'].isna(),'CryoSleep'].index\n",
    "    data.loc[data['CryoSleep'].isna(),'CryoSleep']=data.groupby(['No_spending'])['CryoSleep'].transform(lambda x: x.fillna(pd.Series.mode(x)[0]))[na_rows_CSL]\n",
    "\n",
    "    # Print number of missing values left\n",
    "    print('#CryoSleep missing values before:',CSL_bef)\n",
    "    print('#CryoSleep missing values after:',data['CryoSleep'].isna().sum())"
   ],
   "metadata": {
    "collapsed": false,
    "pycharm": {
     "name": "#%%\n"
    }
   }
  },
  {
   "cell_type": "code",
   "execution_count": 34,
   "outputs": [
    {
     "name": "stdout",
     "output_type": "stream",
     "text": [
      "#Expenditure missing values before: 943\n",
      "#Expenditure missing values after: 571\n",
      "#Expenditure missing values before: 467\n",
      "#Expenditure missing values after: 295\n"
     ]
    }
   ],
   "source": [
    "for data in data_cleaner:\n",
    "    # Missing values before\n",
    "    E_bef=data[exp_feats].isna().sum().sum()\n",
    "\n",
    "    # CryoSleep has no expenditure\n",
    "    for col in exp_feats:\n",
    "        data.loc[(data[col].isna()) & (data['CryoSleep']==True), col]=0\n",
    "\n",
    "    # Print number of missing values left\n",
    "    print('#Expenditure missing values before:',E_bef)\n",
    "    print('#Expenditure missing values after:',data[exp_feats].isna().sum().sum())"
   ],
   "metadata": {
    "collapsed": false,
    "pycharm": {
     "name": "#%%\n"
    }
   }
  },
  {
   "cell_type": "code",
   "execution_count": 35,
   "outputs": [
    {
     "name": "stdout",
     "output_type": "stream",
     "text": [
      "#Expenditure missing values before: 571\n",
      "#Expenditure missing values after: 0\n",
      "#Expenditure missing values before: 295\n",
      "#Expenditure missing values after: 0\n"
     ]
    }
   ],
   "source": [
    "for data in data_cleaner:\n",
    "    # Joint distribution\n",
    "    data.groupby(['HomePlanet','Solo','Age_group'])['Expenditure'].mean().unstack().fillna(0)\n",
    "    # Missing values before\n",
    "    E_bef=data[exp_feats].isna().sum().sum()\n",
    "\n",
    "    # Fill remaining missing values using the median\n",
    "    for col in exp_feats:\n",
    "        na_rows=data.loc[data[col].isna(),col].index\n",
    "        data.loc[data[col].isna(),col]=data.groupby(['HomePlanet','Solo','Age_group'])[col].transform(lambda x: x.fillna(x.mean()))[na_rows]\n",
    "\n",
    "    # Print number of missing values left\n",
    "    print('#Expenditure missing values before:',E_bef)\n",
    "    print('#Expenditure missing values after:',data[exp_feats].isna().sum().sum())"
   ],
   "metadata": {
    "collapsed": false,
    "pycharm": {
     "name": "#%%\n"
    }
   }
  },
  {
   "cell_type": "code",
   "execution_count": 36,
   "outputs": [],
   "source": [
    "for data in data_cleaner:\n",
    "    # Update expenditure and no_spending\n",
    "    data['Expenditure']=data[exp_feats].sum(axis=1)\n",
    "    data['No_spending']=(data['Expenditure']==0).astype(int)\n",
    "    data.isna().sum()\n",
    "    # Apply log transform\n",
    "    for col in ['RoomService','FoodCourt','ShoppingMall','Spa','VRDeck','Expenditure']:\n",
    "        data[col]=np.log(1+data[col])"
   ],
   "metadata": {
    "collapsed": false,
    "pycharm": {
     "name": "#%%\n"
    }
   }
  },
  {
   "cell_type": "code",
   "execution_count": 37,
   "outputs": [],
   "source": [
    "#CONVERT: convert objects to category using Label Encoder for train and test/validation dataset\n",
    "\n",
    "#code categorical data\n",
    "label = LabelEncoder()\n",
    "\n",
    "for data in data_cleaner:\n",
    "\n",
    "    data['HomePlanet_Code'] = label.fit_transform(data['HomePlanet'])\n",
    "    data['CryoSleep_Code'] = label.fit_transform(data['CryoSleep'])\n",
    "    data['Destination_Code'] = label.fit_transform(data['Destination'])\n",
    "    data['VIP_Code'] = label.fit_transform(data['VIP'])\n",
    "    data['Age_group_Code'] = label.fit_transform(data['Age_group'])\n",
    "    data['Cabin_deck_Code'] = label.fit_transform(data['Cabin_deck'])\n",
    "    data['Cabin_side_Code'] = label.fit_transform(data['Cabin_side'])"
   ],
   "metadata": {
    "collapsed": false,
    "pycharm": {
     "name": "#%%\n"
    }
   }
  },
  {
   "cell_type": "code",
   "execution_count": 38,
   "outputs": [
    {
     "name": "stdout",
     "output_type": "stream",
     "text": [
      "Original X Y:  ['Transported', 'HomePlanet', 'CryoSleep', 'Destination', 'Age', 'VIP', 'RoomService', 'FoodCourt', 'ShoppingMall', 'Spa', 'VRDeck'] \n",
      "\n",
      "Bin X Y:  ['Transported', 'Age', 'No_spending', 'Group_size', 'Solo', 'Cabin_region1', 'Cabin_region2', 'Cabin_region3', 'Cabin_region4', 'Cabin_region5', 'Cabin_region6', 'Cabin_region7', 'Family_size', 'HomePlanet_Code', 'CryoSleep_Code', 'Destination_Code', 'VIP_Code', 'Age_group_Code', 'Cabin_deck_Code', 'Cabin_side_Code'] \n",
      "\n",
      "Dummy X Y:  ['Transported', 'Age', 'RoomService', 'FoodCourt', 'ShoppingMall', 'Spa', 'VRDeck', 'HomePlanet_Earth', 'HomePlanet_Europa', 'HomePlanet_Mars', 'CryoSleep_False', 'CryoSleep_True', 'Destination_55 Cancri e', 'Destination_PSO J318.5-22', 'Destination_TRAPPIST-1e', 'VIP_False', 'VIP_True'] \n",
      "\n"
     ]
    },
    {
     "data": {
      "text/plain": "    Age  RoomService  FoodCourt  ShoppingMall       Spa    VRDeck  \\\n0  39.0     0.000000   0.000000      0.000000  0.000000  0.000000   \n1  24.0     4.700480   2.302585      3.258097  6.309918  3.806662   \n2  58.0     3.784190   8.182280      0.000000  8.812248  3.912023   \n3  33.0     0.000000   7.157735      5.918894  8.110728  5.267858   \n4  16.0     5.717028   4.262680      5.023881  6.338594  1.098612   \n\n   HomePlanet_Earth  HomePlanet_Europa  HomePlanet_Mars  CryoSleep_False  \\\n0             False               True            False             True   \n1              True              False            False             True   \n2             False               True            False             True   \n3             False               True            False             True   \n4              True              False            False             True   \n\n   CryoSleep_True  Destination_55 Cancri e  Destination_PSO J318.5-22  \\\n0           False                    False                      False   \n1           False                    False                      False   \n2           False                    False                      False   \n3           False                    False                      False   \n4           False                    False                      False   \n\n   Destination_TRAPPIST-1e  VIP_False  VIP_True  \n0                     True       True     False  \n1                     True       True     False  \n2                     True      False      True  \n3                     True       True     False  \n4                     True       True     False  ",
      "text/html": "<div>\n<style scoped>\n    .dataframe tbody tr th:only-of-type {\n        vertical-align: middle;\n    }\n\n    .dataframe tbody tr th {\n        vertical-align: top;\n    }\n\n    .dataframe thead th {\n        text-align: right;\n    }\n</style>\n<table border=\"1\" class=\"dataframe\">\n  <thead>\n    <tr style=\"text-align: right;\">\n      <th></th>\n      <th>Age</th>\n      <th>RoomService</th>\n      <th>FoodCourt</th>\n      <th>ShoppingMall</th>\n      <th>Spa</th>\n      <th>VRDeck</th>\n      <th>HomePlanet_Earth</th>\n      <th>HomePlanet_Europa</th>\n      <th>HomePlanet_Mars</th>\n      <th>CryoSleep_False</th>\n      <th>CryoSleep_True</th>\n      <th>Destination_55 Cancri e</th>\n      <th>Destination_PSO J318.5-22</th>\n      <th>Destination_TRAPPIST-1e</th>\n      <th>VIP_False</th>\n      <th>VIP_True</th>\n    </tr>\n  </thead>\n  <tbody>\n    <tr>\n      <th>0</th>\n      <td>39.0</td>\n      <td>0.000000</td>\n      <td>0.000000</td>\n      <td>0.000000</td>\n      <td>0.000000</td>\n      <td>0.000000</td>\n      <td>False</td>\n      <td>True</td>\n      <td>False</td>\n      <td>True</td>\n      <td>False</td>\n      <td>False</td>\n      <td>False</td>\n      <td>True</td>\n      <td>True</td>\n      <td>False</td>\n    </tr>\n    <tr>\n      <th>1</th>\n      <td>24.0</td>\n      <td>4.700480</td>\n      <td>2.302585</td>\n      <td>3.258097</td>\n      <td>6.309918</td>\n      <td>3.806662</td>\n      <td>True</td>\n      <td>False</td>\n      <td>False</td>\n      <td>True</td>\n      <td>False</td>\n      <td>False</td>\n      <td>False</td>\n      <td>True</td>\n      <td>True</td>\n      <td>False</td>\n    </tr>\n    <tr>\n      <th>2</th>\n      <td>58.0</td>\n      <td>3.784190</td>\n      <td>8.182280</td>\n      <td>0.000000</td>\n      <td>8.812248</td>\n      <td>3.912023</td>\n      <td>False</td>\n      <td>True</td>\n      <td>False</td>\n      <td>True</td>\n      <td>False</td>\n      <td>False</td>\n      <td>False</td>\n      <td>True</td>\n      <td>False</td>\n      <td>True</td>\n    </tr>\n    <tr>\n      <th>3</th>\n      <td>33.0</td>\n      <td>0.000000</td>\n      <td>7.157735</td>\n      <td>5.918894</td>\n      <td>8.110728</td>\n      <td>5.267858</td>\n      <td>False</td>\n      <td>True</td>\n      <td>False</td>\n      <td>True</td>\n      <td>False</td>\n      <td>False</td>\n      <td>False</td>\n      <td>True</td>\n      <td>True</td>\n      <td>False</td>\n    </tr>\n    <tr>\n      <th>4</th>\n      <td>16.0</td>\n      <td>5.717028</td>\n      <td>4.262680</td>\n      <td>5.023881</td>\n      <td>6.338594</td>\n      <td>1.098612</td>\n      <td>True</td>\n      <td>False</td>\n      <td>False</td>\n      <td>True</td>\n      <td>False</td>\n      <td>False</td>\n      <td>False</td>\n      <td>True</td>\n      <td>True</td>\n      <td>False</td>\n    </tr>\n  </tbody>\n</table>\n</div>"
     },
     "execution_count": 38,
     "metadata": {},
     "output_type": "execute_result"
    }
   ],
   "source": [
    "# define y variable aka target/outcome\n",
    "Target = ['Transported']\n",
    "\n",
    "# define x variables for original features aka feature selection\n",
    "\n",
    "# 'HomePlanet', 'CryoSleep', 'Destination', 'Age', 'VIP', 'RoomService', 'FoodCourt', 'ShoppingMall', 'Spa', 'VRDeck'\n",
    "data1_x = ['HomePlanet', 'CryoSleep', 'Destination', 'Age', 'VIP', 'RoomService', 'FoodCourt', 'ShoppingMall', 'Spa', 'VRDeck'] # Original data\n",
    "# 'HomePlanet', 'CryoSleep', 'Destination', 'Age', 'VIP', 'RoomService', 'FoodCourt', 'ShoppingMall', 'Spa', 'VRDeck', 'Transported', 'Age_group', 'Expenditure', 'No_spending', 'Group', 'Group_size', 'Solo', 'Cabin_deck', 'Cabin_number', 'Cabin_side', 'Cabin_region1', 'Cabin_region2', 'Cabin_region3', 'Cabin_region4', 'Cabin_region5', 'Cabin_region6', 'Cabin_region7', 'Family_size', 'HomePlanet_Code', 'CryoSleep_Code', 'Destination_Code', 'VIP_Code', 'Age_group_Code', 'Cabin_deck_Code', 'Cabin_side_Code'\n",
    "\n",
    "data1_x_calc = ['Age', 'RoomService', 'FoodCourt', 'ShoppingMall', 'Spa', 'VRDeck', 'Expenditure', 'No_spending', 'Group', 'Group_size', 'Solo', 'Cabin_number', 'Cabin_region1', 'Cabin_region2', 'Cabin_region3', 'Cabin_region4', 'Cabin_region5', 'Cabin_region6', 'Cabin_region7', 'Family_size', 'HomePlanet_Code', 'CryoSleep_Code', 'Destination_Code', 'VIP_Code', 'Age_group_Code', 'Cabin_deck_Code', 'Cabin_side_Code'] # coded for algorithm calculation\n",
    "data1_xy =  Target + data1_x\n",
    "print('Original X Y: ', data1_xy, '\\n')\n",
    "\n",
    "\n",
    "# define x variables for original w/bin features to remove continuous variables\n",
    "data1_x_bin = ['Age', 'No_spending', 'Group_size', 'Solo', 'Cabin_region1', 'Cabin_region2', 'Cabin_region3', 'Cabin_region4', 'Cabin_region5', 'Cabin_region6', 'Cabin_region7', 'Family_size', 'HomePlanet_Code', 'CryoSleep_Code', 'Destination_Code', 'VIP_Code', 'Age_group_Code', 'Cabin_deck_Code', 'Cabin_side_Code']\n",
    "data1_xy_bin = Target + data1_x_bin\n",
    "print('Bin X Y: ', data1_xy_bin, '\\n')\n",
    "\n",
    "\n",
    "#define x and y variables for dummy features original\n",
    "data1_dummy = pd.get_dummies(data1[data1_x])\n",
    "data1_x_dummy = data1_dummy.columns.tolist()\n",
    "data1_xy_dummy = Target + data1_x_dummy\n",
    "print('Dummy X Y: ', data1_xy_dummy, '\\n')\n",
    "\n",
    "\n",
    "\n",
    "data1_dummy.head()"
   ],
   "metadata": {
    "collapsed": false,
    "pycharm": {
     "name": "#%%\n"
    }
   }
  },
  {
   "cell_type": "code",
   "execution_count": 39,
   "outputs": [
    {
     "data": {
      "text/plain": "       PassengerId HomePlanet CryoSleep    Cabin  Destination          Age  \\\ncount         8693       8492      8476     8494         8511  8514.000000   \nunique        8693          3         2     6560            3          NaN   \ntop        0001_01      Earth     False  G/734/S  TRAPPIST-1e          NaN   \nfreq             1       4602      5439        8         5915          NaN   \nmean           NaN        NaN       NaN      NaN          NaN    28.827930   \nstd            NaN        NaN       NaN      NaN          NaN    14.489021   \nmin            NaN        NaN       NaN      NaN          NaN     0.000000   \n25%            NaN        NaN       NaN      NaN          NaN    19.000000   \n50%            NaN        NaN       NaN      NaN          NaN    27.000000   \n75%            NaN        NaN       NaN      NaN          NaN    38.000000   \nmax            NaN        NaN       NaN      NaN          NaN    79.000000   \n\n          VIP   RoomService     FoodCourt  ShoppingMall           Spa  \\\ncount    8490   8512.000000   8510.000000   8485.000000   8510.000000   \nunique      2           NaN           NaN           NaN           NaN   \ntop     False           NaN           NaN           NaN           NaN   \nfreq     8291           NaN           NaN           NaN           NaN   \nmean      NaN    224.687617    458.077203    173.729169    311.138778   \nstd       NaN    666.717663   1611.489240    604.696458   1136.705535   \nmin       NaN      0.000000      0.000000      0.000000      0.000000   \n25%       NaN      0.000000      0.000000      0.000000      0.000000   \n50%       NaN      0.000000      0.000000      0.000000      0.000000   \n75%       NaN     47.000000     76.000000     27.000000     59.000000   \nmax       NaN  14327.000000  29813.000000  23492.000000  22408.000000   \n\n              VRDeck            Name Transported  \ncount    8505.000000            8493        8693  \nunique           NaN            8473           2  \ntop              NaN  Gollux Reedall        True  \nfreq             NaN               2        4378  \nmean      304.854791             NaN         NaN  \nstd      1145.717189             NaN         NaN  \nmin         0.000000             NaN         NaN  \n25%         0.000000             NaN         NaN  \n50%         0.000000             NaN         NaN  \n75%        46.000000             NaN         NaN  \nmax     24133.000000             NaN         NaN  ",
      "text/html": "<div>\n<style scoped>\n    .dataframe tbody tr th:only-of-type {\n        vertical-align: middle;\n    }\n\n    .dataframe tbody tr th {\n        vertical-align: top;\n    }\n\n    .dataframe thead th {\n        text-align: right;\n    }\n</style>\n<table border=\"1\" class=\"dataframe\">\n  <thead>\n    <tr style=\"text-align: right;\">\n      <th></th>\n      <th>PassengerId</th>\n      <th>HomePlanet</th>\n      <th>CryoSleep</th>\n      <th>Cabin</th>\n      <th>Destination</th>\n      <th>Age</th>\n      <th>VIP</th>\n      <th>RoomService</th>\n      <th>FoodCourt</th>\n      <th>ShoppingMall</th>\n      <th>Spa</th>\n      <th>VRDeck</th>\n      <th>Name</th>\n      <th>Transported</th>\n    </tr>\n  </thead>\n  <tbody>\n    <tr>\n      <th>count</th>\n      <td>8693</td>\n      <td>8492</td>\n      <td>8476</td>\n      <td>8494</td>\n      <td>8511</td>\n      <td>8514.000000</td>\n      <td>8490</td>\n      <td>8512.000000</td>\n      <td>8510.000000</td>\n      <td>8485.000000</td>\n      <td>8510.000000</td>\n      <td>8505.000000</td>\n      <td>8493</td>\n      <td>8693</td>\n    </tr>\n    <tr>\n      <th>unique</th>\n      <td>8693</td>\n      <td>3</td>\n      <td>2</td>\n      <td>6560</td>\n      <td>3</td>\n      <td>NaN</td>\n      <td>2</td>\n      <td>NaN</td>\n      <td>NaN</td>\n      <td>NaN</td>\n      <td>NaN</td>\n      <td>NaN</td>\n      <td>8473</td>\n      <td>2</td>\n    </tr>\n    <tr>\n      <th>top</th>\n      <td>0001_01</td>\n      <td>Earth</td>\n      <td>False</td>\n      <td>G/734/S</td>\n      <td>TRAPPIST-1e</td>\n      <td>NaN</td>\n      <td>False</td>\n      <td>NaN</td>\n      <td>NaN</td>\n      <td>NaN</td>\n      <td>NaN</td>\n      <td>NaN</td>\n      <td>Gollux Reedall</td>\n      <td>True</td>\n    </tr>\n    <tr>\n      <th>freq</th>\n      <td>1</td>\n      <td>4602</td>\n      <td>5439</td>\n      <td>8</td>\n      <td>5915</td>\n      <td>NaN</td>\n      <td>8291</td>\n      <td>NaN</td>\n      <td>NaN</td>\n      <td>NaN</td>\n      <td>NaN</td>\n      <td>NaN</td>\n      <td>2</td>\n      <td>4378</td>\n    </tr>\n    <tr>\n      <th>mean</th>\n      <td>NaN</td>\n      <td>NaN</td>\n      <td>NaN</td>\n      <td>NaN</td>\n      <td>NaN</td>\n      <td>28.827930</td>\n      <td>NaN</td>\n      <td>224.687617</td>\n      <td>458.077203</td>\n      <td>173.729169</td>\n      <td>311.138778</td>\n      <td>304.854791</td>\n      <td>NaN</td>\n      <td>NaN</td>\n    </tr>\n    <tr>\n      <th>std</th>\n      <td>NaN</td>\n      <td>NaN</td>\n      <td>NaN</td>\n      <td>NaN</td>\n      <td>NaN</td>\n      <td>14.489021</td>\n      <td>NaN</td>\n      <td>666.717663</td>\n      <td>1611.489240</td>\n      <td>604.696458</td>\n      <td>1136.705535</td>\n      <td>1145.717189</td>\n      <td>NaN</td>\n      <td>NaN</td>\n    </tr>\n    <tr>\n      <th>min</th>\n      <td>NaN</td>\n      <td>NaN</td>\n      <td>NaN</td>\n      <td>NaN</td>\n      <td>NaN</td>\n      <td>0.000000</td>\n      <td>NaN</td>\n      <td>0.000000</td>\n      <td>0.000000</td>\n      <td>0.000000</td>\n      <td>0.000000</td>\n      <td>0.000000</td>\n      <td>NaN</td>\n      <td>NaN</td>\n    </tr>\n    <tr>\n      <th>25%</th>\n      <td>NaN</td>\n      <td>NaN</td>\n      <td>NaN</td>\n      <td>NaN</td>\n      <td>NaN</td>\n      <td>19.000000</td>\n      <td>NaN</td>\n      <td>0.000000</td>\n      <td>0.000000</td>\n      <td>0.000000</td>\n      <td>0.000000</td>\n      <td>0.000000</td>\n      <td>NaN</td>\n      <td>NaN</td>\n    </tr>\n    <tr>\n      <th>50%</th>\n      <td>NaN</td>\n      <td>NaN</td>\n      <td>NaN</td>\n      <td>NaN</td>\n      <td>NaN</td>\n      <td>27.000000</td>\n      <td>NaN</td>\n      <td>0.000000</td>\n      <td>0.000000</td>\n      <td>0.000000</td>\n      <td>0.000000</td>\n      <td>0.000000</td>\n      <td>NaN</td>\n      <td>NaN</td>\n    </tr>\n    <tr>\n      <th>75%</th>\n      <td>NaN</td>\n      <td>NaN</td>\n      <td>NaN</td>\n      <td>NaN</td>\n      <td>NaN</td>\n      <td>38.000000</td>\n      <td>NaN</td>\n      <td>47.000000</td>\n      <td>76.000000</td>\n      <td>27.000000</td>\n      <td>59.000000</td>\n      <td>46.000000</td>\n      <td>NaN</td>\n      <td>NaN</td>\n    </tr>\n    <tr>\n      <th>max</th>\n      <td>NaN</td>\n      <td>NaN</td>\n      <td>NaN</td>\n      <td>NaN</td>\n      <td>NaN</td>\n      <td>79.000000</td>\n      <td>NaN</td>\n      <td>14327.000000</td>\n      <td>29813.000000</td>\n      <td>23492.000000</td>\n      <td>22408.000000</td>\n      <td>24133.000000</td>\n      <td>NaN</td>\n      <td>NaN</td>\n    </tr>\n  </tbody>\n</table>\n</div>"
     },
     "execution_count": 39,
     "metadata": {},
     "output_type": "execute_result"
    }
   ],
   "source": [
    "data_raw.describe(include = 'all')"
   ],
   "metadata": {
    "collapsed": false,
    "pycharm": {
     "name": "#%%\n"
    }
   }
  },
  {
   "cell_type": "code",
   "execution_count": 40,
   "outputs": [
    {
     "name": "stdout",
     "output_type": "stream",
     "text": [
      "Data1 Shape: (8693, 36)\n",
      "Train1 Shape: (6519, 27)\n",
      "Test1 Shape: (2174, 27)\n"
     ]
    },
    {
     "data": {
      "text/plain": "       Age  No_spending  Group_size  Solo  Cabin_region1  Cabin_region2  \\\n5020  37.0            1           1     1              0              0   \n5967  44.0            1           3     0              0              0   \n991   27.0            0           1     1              1              0   \n2894  15.0            0           1     1              0              1   \n2228  23.0            0           1     1              0              1   \n\n      Cabin_region3  Cabin_region4  Cabin_region5  Cabin_region6  \\\n5020              0              1              0              0   \n5967              0              1              0              0   \n991               0              0              0              0   \n2894              0              0              0              0   \n2228              0              0              0              0   \n\n      Cabin_region7  Family_size  HomePlanet_Code  CryoSleep_Code  \\\n5020              0            4                2               1   \n5967              0            7                0               1   \n991               0            2                0               0   \n2894              0            6                0               0   \n2228              0            3                2               0   \n\n      Destination_Code  VIP_Code  Age_group_Code  Cabin_deck_Code  \\\n5020                 2         0               4                5   \n5967                 0         0               4                6   \n991                  1         0               3                5   \n2894                 0         0               1                6   \n2228                 2         0               2                5   \n\n      Cabin_side_Code  \n5020                0  \n5967                1  \n991                 1  \n2894                0  \n2228                1  ",
      "text/html": "<div>\n<style scoped>\n    .dataframe tbody tr th:only-of-type {\n        vertical-align: middle;\n    }\n\n    .dataframe tbody tr th {\n        vertical-align: top;\n    }\n\n    .dataframe thead th {\n        text-align: right;\n    }\n</style>\n<table border=\"1\" class=\"dataframe\">\n  <thead>\n    <tr style=\"text-align: right;\">\n      <th></th>\n      <th>Age</th>\n      <th>No_spending</th>\n      <th>Group_size</th>\n      <th>Solo</th>\n      <th>Cabin_region1</th>\n      <th>Cabin_region2</th>\n      <th>Cabin_region3</th>\n      <th>Cabin_region4</th>\n      <th>Cabin_region5</th>\n      <th>Cabin_region6</th>\n      <th>Cabin_region7</th>\n      <th>Family_size</th>\n      <th>HomePlanet_Code</th>\n      <th>CryoSleep_Code</th>\n      <th>Destination_Code</th>\n      <th>VIP_Code</th>\n      <th>Age_group_Code</th>\n      <th>Cabin_deck_Code</th>\n      <th>Cabin_side_Code</th>\n    </tr>\n  </thead>\n  <tbody>\n    <tr>\n      <th>5020</th>\n      <td>37.0</td>\n      <td>1</td>\n      <td>1</td>\n      <td>1</td>\n      <td>0</td>\n      <td>0</td>\n      <td>0</td>\n      <td>1</td>\n      <td>0</td>\n      <td>0</td>\n      <td>0</td>\n      <td>4</td>\n      <td>2</td>\n      <td>1</td>\n      <td>2</td>\n      <td>0</td>\n      <td>4</td>\n      <td>5</td>\n      <td>0</td>\n    </tr>\n    <tr>\n      <th>5967</th>\n      <td>44.0</td>\n      <td>1</td>\n      <td>3</td>\n      <td>0</td>\n      <td>0</td>\n      <td>0</td>\n      <td>0</td>\n      <td>1</td>\n      <td>0</td>\n      <td>0</td>\n      <td>0</td>\n      <td>7</td>\n      <td>0</td>\n      <td>1</td>\n      <td>0</td>\n      <td>0</td>\n      <td>4</td>\n      <td>6</td>\n      <td>1</td>\n    </tr>\n    <tr>\n      <th>991</th>\n      <td>27.0</td>\n      <td>0</td>\n      <td>1</td>\n      <td>1</td>\n      <td>1</td>\n      <td>0</td>\n      <td>0</td>\n      <td>0</td>\n      <td>0</td>\n      <td>0</td>\n      <td>0</td>\n      <td>2</td>\n      <td>0</td>\n      <td>0</td>\n      <td>1</td>\n      <td>0</td>\n      <td>3</td>\n      <td>5</td>\n      <td>1</td>\n    </tr>\n    <tr>\n      <th>2894</th>\n      <td>15.0</td>\n      <td>0</td>\n      <td>1</td>\n      <td>1</td>\n      <td>0</td>\n      <td>1</td>\n      <td>0</td>\n      <td>0</td>\n      <td>0</td>\n      <td>0</td>\n      <td>0</td>\n      <td>6</td>\n      <td>0</td>\n      <td>0</td>\n      <td>0</td>\n      <td>0</td>\n      <td>1</td>\n      <td>6</td>\n      <td>0</td>\n    </tr>\n    <tr>\n      <th>2228</th>\n      <td>23.0</td>\n      <td>0</td>\n      <td>1</td>\n      <td>1</td>\n      <td>0</td>\n      <td>1</td>\n      <td>0</td>\n      <td>0</td>\n      <td>0</td>\n      <td>0</td>\n      <td>0</td>\n      <td>3</td>\n      <td>2</td>\n      <td>0</td>\n      <td>2</td>\n      <td>0</td>\n      <td>2</td>\n      <td>5</td>\n      <td>1</td>\n    </tr>\n  </tbody>\n</table>\n</div>"
     },
     "execution_count": 40,
     "metadata": {},
     "output_type": "execute_result"
    }
   ],
   "source": [
    "#split train and test data with function defaults\n",
    "#random_state -> seed or control random number generator: https://www.quora.com/What-is-seed-in-random-number-generation\n",
    "train1_x, test1_x, train1_y, test1_y = model_selection.train_test_split(data1[data1_x_calc], data1[Target], random_state = 0)\n",
    "train1_x_bin, test1_x_bin, train1_y_bin, test1_y_bin = model_selection.train_test_split(data1[data1_x_bin], data1[Target] , random_state = 0)\n",
    "train1_x_dummy, test1_x_dummy, train1_y_dummy, test1_y_dummy = model_selection.train_test_split(data1_dummy[data1_x_dummy], data1[Target], random_state = 0)\n",
    "\n",
    "\n",
    "print(\"Data1 Shape: {}\".format(data1.shape))\n",
    "print(\"Train1 Shape: {}\".format(train1_x.shape))\n",
    "print(\"Test1 Shape: {}\".format(test1_x.shape))\n",
    "\n",
    "train1_x_bin.head()"
   ],
   "metadata": {
    "collapsed": false,
    "pycharm": {
     "name": "#%%\n"
    }
   }
  },
  {
   "cell_type": "code",
   "execution_count": 41,
   "outputs": [
    {
     "name": "stdout",
     "output_type": "stream",
     "text": [
      "Transported Correlation by: HomePlanet\n",
      "  HomePlanet  Transported\n",
      "0      Earth     0.423420\n",
      "1     Europa     0.660534\n",
      "2       Mars     0.524100\n",
      "---------- \n",
      "\n",
      "Transported Correlation by: CryoSleep\n",
      "  CryoSleep  Transported\n",
      "0     False     0.328176\n",
      "1      True     0.814673\n",
      "---------- \n",
      "\n",
      "Transported Correlation by: Destination\n",
      "     Destination  Transported\n",
      "0    55 Cancri e     0.610000\n",
      "1  PSO J318.5-22     0.503769\n",
      "2    TRAPPIST-1e     0.472199\n",
      "---------- \n",
      "\n",
      "Transported Correlation by: VIP\n",
      "     VIP  Transported\n",
      "0  False     0.506475\n",
      "1   True     0.381910\n",
      "---------- \n",
      "\n"
     ]
    }
   ],
   "source": [
    "#Discrete Variable Correlation by Survival using\n",
    "#group by aka pivot table: https://pandas.pydata.org/pandas-docs/stable/generated/pandas.DataFrame.groupby.html\n",
    "for x in data1_x:\n",
    "    if data1[x].dtype != 'float64' :\n",
    "        print('Transported Correlation by:', x)\n",
    "        print(data1[[x, Target[0]]].groupby(x, as_index=False).mean())\n",
    "        print('-'*10, '\\n')"
   ],
   "metadata": {
    "collapsed": false,
    "pycharm": {
     "name": "#%%\n"
    }
   }
  },
  {
   "cell_type": "code",
   "execution_count": 42,
   "outputs": [
    {
     "ename": "ValueError",
     "evalue": "could not convert string to float: 'Europa'",
     "output_type": "error",
     "traceback": [
      "\u001B[1;31m---------------------------------------------------------------------------\u001B[0m",
      "\u001B[1;31mValueError\u001B[0m                                Traceback (most recent call last)",
      "Cell \u001B[1;32mIn[42], line 19\u001B[0m\n\u001B[0;32m      6\u001B[0m     _ \u001B[38;5;241m=\u001B[39m sns\u001B[38;5;241m.\u001B[39mheatmap(\n\u001B[0;32m      7\u001B[0m         df\u001B[38;5;241m.\u001B[39mcorr(),\n\u001B[0;32m      8\u001B[0m         cmap \u001B[38;5;241m=\u001B[39m colormap,\n\u001B[1;32m   (...)\u001B[0m\n\u001B[0;32m     14\u001B[0m         annot_kws\u001B[38;5;241m=\u001B[39m{\u001B[38;5;124m'\u001B[39m\u001B[38;5;124mfontsize\u001B[39m\u001B[38;5;124m'\u001B[39m: \u001B[38;5;241m5\u001B[39m }\n\u001B[0;32m     15\u001B[0m     )\n\u001B[0;32m     17\u001B[0m     plt\u001B[38;5;241m.\u001B[39mtitle(\u001B[38;5;124m'\u001B[39m\u001B[38;5;124mPearson Correlation of Features\u001B[39m\u001B[38;5;124m'\u001B[39m, y\u001B[38;5;241m=\u001B[39m\u001B[38;5;241m1.05\u001B[39m, size\u001B[38;5;241m=\u001B[39m\u001B[38;5;241m15\u001B[39m)\n\u001B[1;32m---> 19\u001B[0m \u001B[43mcorrelation_heatmap\u001B[49m\u001B[43m(\u001B[49m\u001B[43mdata1\u001B[49m\u001B[43m)\u001B[49m\n",
      "Cell \u001B[1;32mIn[42], line 7\u001B[0m, in \u001B[0;36mcorrelation_heatmap\u001B[1;34m(df)\u001B[0m\n\u001B[0;32m      3\u001B[0m _ , ax \u001B[38;5;241m=\u001B[39m plt\u001B[38;5;241m.\u001B[39msubplots(figsize \u001B[38;5;241m=\u001B[39m(\u001B[38;5;241m14\u001B[39m, \u001B[38;5;241m12\u001B[39m))\n\u001B[0;32m      4\u001B[0m colormap \u001B[38;5;241m=\u001B[39m sns\u001B[38;5;241m.\u001B[39mdiverging_palette(\u001B[38;5;241m220\u001B[39m, \u001B[38;5;241m10\u001B[39m, as_cmap \u001B[38;5;241m=\u001B[39m \u001B[38;5;28;01mTrue\u001B[39;00m)\n\u001B[0;32m      6\u001B[0m _ \u001B[38;5;241m=\u001B[39m sns\u001B[38;5;241m.\u001B[39mheatmap(\n\u001B[1;32m----> 7\u001B[0m     \u001B[43mdf\u001B[49m\u001B[38;5;241;43m.\u001B[39;49m\u001B[43mcorr\u001B[49m\u001B[43m(\u001B[49m\u001B[43m)\u001B[49m,\n\u001B[0;32m      8\u001B[0m     cmap \u001B[38;5;241m=\u001B[39m colormap,\n\u001B[0;32m      9\u001B[0m     square\u001B[38;5;241m=\u001B[39m\u001B[38;5;28;01mTrue\u001B[39;00m,\n\u001B[0;32m     10\u001B[0m     cbar_kws\u001B[38;5;241m=\u001B[39m{\u001B[38;5;124m'\u001B[39m\u001B[38;5;124mshrink\u001B[39m\u001B[38;5;124m'\u001B[39m:\u001B[38;5;241m.9\u001B[39m },\n\u001B[0;32m     11\u001B[0m     ax\u001B[38;5;241m=\u001B[39max,\n\u001B[0;32m     12\u001B[0m     annot\u001B[38;5;241m=\u001B[39m\u001B[38;5;28;01mTrue\u001B[39;00m,\n\u001B[0;32m     13\u001B[0m     linewidths\u001B[38;5;241m=\u001B[39m\u001B[38;5;241m0.1\u001B[39m,vmax\u001B[38;5;241m=\u001B[39m\u001B[38;5;241m1.0\u001B[39m, linecolor\u001B[38;5;241m=\u001B[39m\u001B[38;5;124m'\u001B[39m\u001B[38;5;124mwhite\u001B[39m\u001B[38;5;124m'\u001B[39m,\n\u001B[0;32m     14\u001B[0m     annot_kws\u001B[38;5;241m=\u001B[39m{\u001B[38;5;124m'\u001B[39m\u001B[38;5;124mfontsize\u001B[39m\u001B[38;5;124m'\u001B[39m: \u001B[38;5;241m5\u001B[39m }\n\u001B[0;32m     15\u001B[0m )\n\u001B[0;32m     17\u001B[0m plt\u001B[38;5;241m.\u001B[39mtitle(\u001B[38;5;124m'\u001B[39m\u001B[38;5;124mPearson Correlation of Features\u001B[39m\u001B[38;5;124m'\u001B[39m, y\u001B[38;5;241m=\u001B[39m\u001B[38;5;241m1.05\u001B[39m, size\u001B[38;5;241m=\u001B[39m\u001B[38;5;241m15\u001B[39m)\n",
      "File \u001B[1;32m~\\PycharmProjects\\Classical_ml\\venv\\Lib\\site-packages\\pandas\\core\\frame.py:11022\u001B[0m, in \u001B[0;36mDataFrame.corr\u001B[1;34m(self, method, min_periods, numeric_only)\u001B[0m\n\u001B[0;32m  11020\u001B[0m cols \u001B[38;5;241m=\u001B[39m data\u001B[38;5;241m.\u001B[39mcolumns\n\u001B[0;32m  11021\u001B[0m idx \u001B[38;5;241m=\u001B[39m cols\u001B[38;5;241m.\u001B[39mcopy()\n\u001B[1;32m> 11022\u001B[0m mat \u001B[38;5;241m=\u001B[39m \u001B[43mdata\u001B[49m\u001B[38;5;241;43m.\u001B[39;49m\u001B[43mto_numpy\u001B[49m\u001B[43m(\u001B[49m\u001B[43mdtype\u001B[49m\u001B[38;5;241;43m=\u001B[39;49m\u001B[38;5;28;43mfloat\u001B[39;49m\u001B[43m,\u001B[49m\u001B[43m \u001B[49m\u001B[43mna_value\u001B[49m\u001B[38;5;241;43m=\u001B[39;49m\u001B[43mnp\u001B[49m\u001B[38;5;241;43m.\u001B[39;49m\u001B[43mnan\u001B[49m\u001B[43m,\u001B[49m\u001B[43m \u001B[49m\u001B[43mcopy\u001B[49m\u001B[38;5;241;43m=\u001B[39;49m\u001B[38;5;28;43;01mFalse\u001B[39;49;00m\u001B[43m)\u001B[49m\n\u001B[0;32m  11024\u001B[0m \u001B[38;5;28;01mif\u001B[39;00m method \u001B[38;5;241m==\u001B[39m \u001B[38;5;124m\"\u001B[39m\u001B[38;5;124mpearson\u001B[39m\u001B[38;5;124m\"\u001B[39m:\n\u001B[0;32m  11025\u001B[0m     correl \u001B[38;5;241m=\u001B[39m libalgos\u001B[38;5;241m.\u001B[39mnancorr(mat, minp\u001B[38;5;241m=\u001B[39mmin_periods)\n",
      "File \u001B[1;32m~\\PycharmProjects\\Classical_ml\\venv\\Lib\\site-packages\\pandas\\core\\frame.py:1981\u001B[0m, in \u001B[0;36mDataFrame.to_numpy\u001B[1;34m(self, dtype, copy, na_value)\u001B[0m\n\u001B[0;32m   1979\u001B[0m \u001B[38;5;28;01mif\u001B[39;00m dtype \u001B[38;5;129;01mis\u001B[39;00m \u001B[38;5;129;01mnot\u001B[39;00m \u001B[38;5;28;01mNone\u001B[39;00m:\n\u001B[0;32m   1980\u001B[0m     dtype \u001B[38;5;241m=\u001B[39m np\u001B[38;5;241m.\u001B[39mdtype(dtype)\n\u001B[1;32m-> 1981\u001B[0m result \u001B[38;5;241m=\u001B[39m \u001B[38;5;28;43mself\u001B[39;49m\u001B[38;5;241;43m.\u001B[39;49m\u001B[43m_mgr\u001B[49m\u001B[38;5;241;43m.\u001B[39;49m\u001B[43mas_array\u001B[49m\u001B[43m(\u001B[49m\u001B[43mdtype\u001B[49m\u001B[38;5;241;43m=\u001B[39;49m\u001B[43mdtype\u001B[49m\u001B[43m,\u001B[49m\u001B[43m \u001B[49m\u001B[43mcopy\u001B[49m\u001B[38;5;241;43m=\u001B[39;49m\u001B[43mcopy\u001B[49m\u001B[43m,\u001B[49m\u001B[43m \u001B[49m\u001B[43mna_value\u001B[49m\u001B[38;5;241;43m=\u001B[39;49m\u001B[43mna_value\u001B[49m\u001B[43m)\u001B[49m\n\u001B[0;32m   1982\u001B[0m \u001B[38;5;28;01mif\u001B[39;00m result\u001B[38;5;241m.\u001B[39mdtype \u001B[38;5;129;01mis\u001B[39;00m \u001B[38;5;129;01mnot\u001B[39;00m dtype:\n\u001B[0;32m   1983\u001B[0m     result \u001B[38;5;241m=\u001B[39m np\u001B[38;5;241m.\u001B[39marray(result, dtype\u001B[38;5;241m=\u001B[39mdtype, copy\u001B[38;5;241m=\u001B[39m\u001B[38;5;28;01mFalse\u001B[39;00m)\n",
      "File \u001B[1;32m~\\PycharmProjects\\Classical_ml\\venv\\Lib\\site-packages\\pandas\\core\\internals\\managers.py:1693\u001B[0m, in \u001B[0;36mBlockManager.as_array\u001B[1;34m(self, dtype, copy, na_value)\u001B[0m\n\u001B[0;32m   1691\u001B[0m         arr\u001B[38;5;241m.\u001B[39mflags\u001B[38;5;241m.\u001B[39mwriteable \u001B[38;5;241m=\u001B[39m \u001B[38;5;28;01mFalse\u001B[39;00m\n\u001B[0;32m   1692\u001B[0m \u001B[38;5;28;01melse\u001B[39;00m:\n\u001B[1;32m-> 1693\u001B[0m     arr \u001B[38;5;241m=\u001B[39m \u001B[38;5;28;43mself\u001B[39;49m\u001B[38;5;241;43m.\u001B[39;49m\u001B[43m_interleave\u001B[49m\u001B[43m(\u001B[49m\u001B[43mdtype\u001B[49m\u001B[38;5;241;43m=\u001B[39;49m\u001B[43mdtype\u001B[49m\u001B[43m,\u001B[49m\u001B[43m \u001B[49m\u001B[43mna_value\u001B[49m\u001B[38;5;241;43m=\u001B[39;49m\u001B[43mna_value\u001B[49m\u001B[43m)\u001B[49m\n\u001B[0;32m   1694\u001B[0m     \u001B[38;5;66;03m# The underlying data was copied within _interleave, so no need\u001B[39;00m\n\u001B[0;32m   1695\u001B[0m     \u001B[38;5;66;03m# to further copy if copy=True or setting na_value\u001B[39;00m\n\u001B[0;32m   1697\u001B[0m \u001B[38;5;28;01mif\u001B[39;00m na_value \u001B[38;5;129;01mis\u001B[39;00m lib\u001B[38;5;241m.\u001B[39mno_default:\n",
      "File \u001B[1;32m~\\PycharmProjects\\Classical_ml\\venv\\Lib\\site-packages\\pandas\\core\\internals\\managers.py:1752\u001B[0m, in \u001B[0;36mBlockManager._interleave\u001B[1;34m(self, dtype, na_value)\u001B[0m\n\u001B[0;32m   1750\u001B[0m     \u001B[38;5;28;01melse\u001B[39;00m:\n\u001B[0;32m   1751\u001B[0m         arr \u001B[38;5;241m=\u001B[39m blk\u001B[38;5;241m.\u001B[39mget_values(dtype)\n\u001B[1;32m-> 1752\u001B[0m     \u001B[43mresult\u001B[49m\u001B[43m[\u001B[49m\u001B[43mrl\u001B[49m\u001B[38;5;241;43m.\u001B[39;49m\u001B[43mindexer\u001B[49m\u001B[43m]\u001B[49m \u001B[38;5;241m=\u001B[39m arr\n\u001B[0;32m   1753\u001B[0m     itemmask[rl\u001B[38;5;241m.\u001B[39mindexer] \u001B[38;5;241m=\u001B[39m \u001B[38;5;241m1\u001B[39m\n\u001B[0;32m   1755\u001B[0m \u001B[38;5;28;01mif\u001B[39;00m \u001B[38;5;129;01mnot\u001B[39;00m itemmask\u001B[38;5;241m.\u001B[39mall():\n",
      "\u001B[1;31mValueError\u001B[0m: could not convert string to float: 'Europa'"
     ]
    },
    {
     "data": {
      "text/plain": "<Figure size 1400x1200 with 1 Axes>",
      "image/png": "[encoded data removed]"
     },
     "metadata": {},
     "output_type": "display_data"
    }
   ],
   "source": [
    "# correlation heatmap of dataset\n",
    "def correlation_heatmap(df):\n",
    "    _ , ax = plt.subplots(figsize =(14, 12))\n",
    "    colormap = sns.diverging_palette(220, 10, as_cmap = True)\n",
    "\n",
    "    _ = sns.heatmap(\n",
    "        df.corr(),\n",
    "        cmap = colormap,\n",
    "        square=True,\n",
    "        cbar_kws={'shrink':.9 },\n",
    "        ax=ax,\n",
    "        annot=True,\n",
    "        linewidths=0.1,vmax=1.0, linecolor='white',\n",
    "        annot_kws={'fontsize': 5 }\n",
    "    )\n",
    "\n",
    "    plt.title('Pearson Correlation of Features', y=1.05, size=15)\n",
    "\n",
    "correlation_heatmap(data1)\n"
   ],
   "metadata": {
    "collapsed": false,
    "pycharm": {
     "name": "#%%\n"
    }
   }
  },
  {
   "cell_type": "code",
   "execution_count": 125,
   "outputs": [
    {
     "data": {
      "text/plain": "<seaborn.axisgrid.PairGrid at 0x154a3b5ca50>"
     },
     "execution_count": 125,
     "metadata": {},
     "output_type": "execute_result"
    },
    {
     "name": "stdout",
     "output_type": "stream",
     "text": [
      "Error in callback <function flush_figures at 0x0000015493790FE0> (for post_execute), with arguments args (),kwargs {}:\n"
     ]
    },
    {
     "name": "stderr",
     "output_type": "stream",
     "text": [
      "\n",
      "KeyboardInterrupt\n",
      "\n"
     ]
    }
   ],
   "source": [
    "#pair plots of entire dataset\n",
    "pp = sns.pairplot(data1, hue = 'Transported', palette = 'deep', size=1.2, diag_kind = 'kde', diag_kws=dict(shade=True), plot_kws=dict(s=10) )\n",
    "pp.set(xticklabels=[])"
   ],
   "metadata": {
    "collapsed": false,
    "pycharm": {
     "name": "#%%\n"
    }
   }
  },
  {
   "cell_type": "code",
   "execution_count": 43,
   "outputs": [
    {
     "data": {
      "text/plain": "                         MLA Name  \\\n3      GradientBoostingClassifier   \n11                    BernoulliNB   \n14                            SVC   \n8               RidgeClassifierCV   \n19     LinearDiscriminantAnalysis   \n6            LogisticRegressionCV   \n0              AdaBoostClassifier   \n21                  XGBClassifier   \n12                     GaussianNB   \n4          RandomForestClassifier   \n1               BaggingClassifier   \n2            ExtraTreesClassifier   \n16                      LinearSVC   \n5       GaussianProcessClassifier   \n15                          NuSVC   \n17         DecisionTreeClassifier   \n18            ExtraTreeClassifier   \n20  QuadraticDiscriminantAnalysis   \n13           KNeighborsClassifier   \n9                   SGDClassifier   \n7     PassiveAggressiveClassifier   \n10                     Perceptron   \n\n                                                                                                                                                                                             MLA Parameters  \\\n3   {'ccp_alpha': 0.0, 'criterion': 'friedman_mse', 'init': None, 'learning_rate': 0.1, 'loss': 'log_loss', 'max_depth': 3, 'max_features': None, 'max_leaf_nodes': None, 'min_impurity_decrease': 0.0, ...   \n11                                                                                                             {'alpha': 1.0, 'binarize': 0.0, 'class_prior': None, 'fit_prior': True, 'force_alpha': True}   \n14  {'C': 1.0, 'break_ties': False, 'cache_size': 200, 'class_weight': None, 'coef0': 0.0, 'decision_function_shape': 'ovr', 'degree': 3, 'gamma': 'scale', 'kernel': 'rbf', 'max_iter': -1, 'probabilit...   \n8                                                                          {'alphas': (0.1, 1.0, 10.0), 'class_weight': None, 'cv': None, 'fit_intercept': True, 'scoring': None, 'store_cv_values': False}   \n19                                                       {'covariance_estimator': None, 'n_components': None, 'priors': None, 'shrinkage': None, 'solver': 'svd', 'store_covariance': False, 'tol': 0.0001}   \n6   {'Cs': 10, 'class_weight': None, 'cv': None, 'dual': False, 'fit_intercept': True, 'intercept_scaling': 1.0, 'l1_ratios': None, 'max_iter': 100, 'multi_class': 'auto', 'n_jobs': None, 'penalty': '...   \n0                                                                                               {'algorithm': 'SAMME.R', 'estimator': None, 'learning_rate': 1.0, 'n_estimators': 50, 'random_state': None}   \n21  {'objective': 'binary:logistic', 'base_score': None, 'booster': None, 'callbacks': None, 'colsample_bylevel': None, 'colsample_bynode': None, 'colsample_bytree': None, 'device': None, 'early_stopp...   \n12                                                                                                                                                                 {'priors': None, 'var_smoothing': 1e-09}   \n4   {'bootstrap': True, 'ccp_alpha': 0.0, 'class_weight': None, 'criterion': 'gini', 'max_depth': None, 'max_features': 'sqrt', 'max_leaf_nodes': None, 'max_samples': None, 'min_impurity_decrease': 0....   \n1   {'bootstrap': True, 'bootstrap_features': False, 'estimator': None, 'max_features': 1.0, 'max_samples': 1.0, 'n_estimators': 10, 'n_jobs': None, 'oob_score': False, 'random_state': None, 'verbose'...   \n2   {'bootstrap': False, 'ccp_alpha': 0.0, 'class_weight': None, 'criterion': 'gini', 'max_depth': None, 'max_features': 'sqrt', 'max_leaf_nodes': None, 'max_samples': None, 'min_impurity_decrease': 0...   \n16  {'C': 1.0, 'class_weight': None, 'dual': 'warn', 'fit_intercept': True, 'intercept_scaling': 1, 'loss': 'squared_hinge', 'max_iter': 1000, 'multi_class': 'ovr', 'penalty': 'l2', 'random_state': No...   \n5   {'copy_X_train': True, 'kernel': None, 'max_iter_predict': 100, 'multi_class': 'one_vs_rest', 'n_jobs': None, 'n_restarts_optimizer': 0, 'optimizer': 'fmin_l_bfgs_b', 'random_state': None, 'warm_s...   \n15  {'break_ties': False, 'cache_size': 200, 'class_weight': None, 'coef0': 0.0, 'decision_function_shape': 'ovr', 'degree': 3, 'gamma': 'scale', 'kernel': 'rbf', 'max_iter': -1, 'nu': 0.5, 'probabili...   \n17  {'ccp_alpha': 0.0, 'class_weight': None, 'criterion': 'gini', 'max_depth': None, 'max_features': None, 'max_leaf_nodes': None, 'min_impurity_decrease': 0.0, 'min_samples_leaf': 1, 'min_samples_spl...   \n18  {'ccp_alpha': 0.0, 'class_weight': None, 'criterion': 'gini', 'max_depth': None, 'max_features': 'sqrt', 'max_leaf_nodes': None, 'min_impurity_decrease': 0.0, 'min_samples_leaf': 1, 'min_samples_s...   \n20                                                                                                                             {'priors': None, 'reg_param': 0.0, 'store_covariance': False, 'tol': 0.0001}   \n13                                                     {'algorithm': 'auto', 'leaf_size': 30, 'metric': 'minkowski', 'metric_params': None, 'n_jobs': None, 'n_neighbors': 5, 'p': 2, 'weights': 'uniform'}   \n9   {'alpha': 0.0001, 'average': False, 'class_weight': None, 'early_stopping': False, 'epsilon': 0.1, 'eta0': 0.0, 'fit_intercept': True, 'l1_ratio': 0.15, 'learning_rate': 'optimal', 'loss': 'hinge'...   \n7   {'C': 1.0, 'average': False, 'class_weight': None, 'early_stopping': False, 'fit_intercept': True, 'loss': 'hinge', 'max_iter': 1000, 'n_iter_no_change': 5, 'n_jobs': None, 'random_state': None, '...   \n10  {'alpha': 0.0001, 'class_weight': None, 'early_stopping': False, 'eta0': 1.0, 'fit_intercept': True, 'l1_ratio': 0.15, 'max_iter': 1000, 'n_iter_no_change': 5, 'n_jobs': None, 'penalty': None, 'ra...   \n\n   MLA Train Accuracy Mean MLA Test Accuracy Mean MLA Test Accuracy 3*STD  \\\n3                 0.763356                0.74375                0.025789   \n11                0.738198               0.737615                0.023698   \n14                0.738102               0.737423                0.024308   \n8                 0.736165               0.733934                0.020158   \n19                0.735954               0.733742                 0.02015   \n6                 0.733941               0.730483                0.023616   \n0                 0.738063               0.730023                0.020132   \n21                0.883893               0.726687                0.020537   \n12                 0.71651               0.716449                0.028103   \n4                 0.990911               0.713152                0.019887   \n1                 0.969703               0.707324                0.027732   \n2                 0.990911               0.694594                0.027637   \n16                0.696548               0.693673                0.192448   \n5                 0.955302               0.678029                0.029944   \n15                0.706481               0.676342                0.053727   \n17                0.990911                0.67036                0.031058   \n18                0.990911               0.669133                0.025585   \n20                0.668974               0.660544                0.066142   \n13                 0.77674               0.659969                0.018295   \n9                 0.667076               0.659509                0.191765   \n7                 0.644314               0.642408                0.221173   \n10                0.623221               0.620667                0.217443   \n\n     MLA Time  \n3    0.385841  \n11    0.00603  \n14   4.866649  \n8    0.012802  \n19   0.009155  \n6    0.821672  \n0    0.249163  \n21   0.072014  \n12   0.005018  \n4    0.352939  \n1    0.123986  \n2     0.42523  \n16   0.205712  \n5   13.052458  \n15   5.046088  \n17   0.014305  \n18   0.006301  \n20   0.009496  \n13      0.004  \n9    0.046217  \n7    0.010413  \n10   0.008104  ",
      "text/html": "<div>\n<style scoped>\n    .dataframe tbody tr th:only-of-type {\n        vertical-align: middle;\n    }\n\n    .dataframe tbody tr th {\n        vertical-align: top;\n    }\n\n    .dataframe thead th {\n        text-align: right;\n    }\n</style>\n<table border=\"1\" class=\"dataframe\">\n  <thead>\n    <tr style=\"text-align: right;\">\n      <th></th>\n      <th>MLA Name</th>\n      <th>MLA Parameters</th>\n      <th>MLA Train Accuracy Mean</th>\n      <th>MLA Test Accuracy Mean</th>\n      <th>MLA Test Accuracy 3*STD</th>\n      <th>MLA Time</th>\n    </tr>\n  </thead>\n  <tbody>\n    <tr>\n      <th>3</th>\n      <td>GradientBoostingClassifier</td>\n      <td>{'ccp_alpha': 0.0, 'criterion': 'friedman_mse', 'init': None, 'learning_rate': 0.1, 'loss': 'log_loss', 'max_depth': 3, 'max_features': None, 'max_leaf_nodes': None, 'min_impurity_decrease': 0.0, ...</td>\n      <td>0.763356</td>\n      <td>0.74375</td>\n      <td>0.025789</td>\n      <td>0.385841</td>\n    </tr>\n    <tr>\n      <th>11</th>\n      <td>BernoulliNB</td>\n      <td>{'alpha': 1.0, 'binarize': 0.0, 'class_prior': None, 'fit_prior': True, 'force_alpha': True}</td>\n      <td>0.738198</td>\n      <td>0.737615</td>\n      <td>0.023698</td>\n      <td>0.00603</td>\n    </tr>\n    <tr>\n      <th>14</th>\n      <td>SVC</td>\n      <td>{'C': 1.0, 'break_ties': False, 'cache_size': 200, 'class_weight': None, 'coef0': 0.0, 'decision_function_shape': 'ovr', 'degree': 3, 'gamma': 'scale', 'kernel': 'rbf', 'max_iter': -1, 'probabilit...</td>\n      <td>0.738102</td>\n      <td>0.737423</td>\n      <td>0.024308</td>\n      <td>4.866649</td>\n    </tr>\n    <tr>\n      <th>8</th>\n      <td>RidgeClassifierCV</td>\n      <td>{'alphas': (0.1, 1.0, 10.0), 'class_weight': None, 'cv': None, 'fit_intercept': True, 'scoring': None, 'store_cv_values': False}</td>\n      <td>0.736165</td>\n      <td>0.733934</td>\n      <td>0.020158</td>\n      <td>0.012802</td>\n    </tr>\n    <tr>\n      <th>19</th>\n      <td>LinearDiscriminantAnalysis</td>\n      <td>{'covariance_estimator': None, 'n_components': None, 'priors': None, 'shrinkage': None, 'solver': 'svd', 'store_covariance': False, 'tol': 0.0001}</td>\n      <td>0.735954</td>\n      <td>0.733742</td>\n      <td>0.02015</td>\n      <td>0.009155</td>\n    </tr>\n    <tr>\n      <th>6</th>\n      <td>LogisticRegressionCV</td>\n      <td>{'Cs': 10, 'class_weight': None, 'cv': None, 'dual': False, 'fit_intercept': True, 'intercept_scaling': 1.0, 'l1_ratios': None, 'max_iter': 100, 'multi_class': 'auto', 'n_jobs': None, 'penalty': '...</td>\n      <td>0.733941</td>\n      <td>0.730483</td>\n      <td>0.023616</td>\n      <td>0.821672</td>\n    </tr>\n    <tr>\n      <th>0</th>\n      <td>AdaBoostClassifier</td>\n      <td>{'algorithm': 'SAMME.R', 'estimator': None, 'learning_rate': 1.0, 'n_estimators': 50, 'random_state': None}</td>\n      <td>0.738063</td>\n      <td>0.730023</td>\n      <td>0.020132</td>\n      <td>0.249163</td>\n    </tr>\n    <tr>\n      <th>21</th>\n      <td>XGBClassifier</td>\n      <td>{'objective': 'binary:logistic', 'base_score': None, 'booster': None, 'callbacks': None, 'colsample_bylevel': None, 'colsample_bynode': None, 'colsample_bytree': None, 'device': None, 'early_stopp...</td>\n      <td>0.883893</td>\n      <td>0.726687</td>\n      <td>0.020537</td>\n      <td>0.072014</td>\n    </tr>\n    <tr>\n      <th>12</th>\n      <td>GaussianNB</td>\n      <td>{'priors': None, 'var_smoothing': 1e-09}</td>\n      <td>0.71651</td>\n      <td>0.716449</td>\n      <td>0.028103</td>\n      <td>0.005018</td>\n    </tr>\n    <tr>\n      <th>4</th>\n      <td>RandomForestClassifier</td>\n      <td>{'bootstrap': True, 'ccp_alpha': 0.0, 'class_weight': None, 'criterion': 'gini', 'max_depth': None, 'max_features': 'sqrt', 'max_leaf_nodes': None, 'max_samples': None, 'min_impurity_decrease': 0....</td>\n      <td>0.990911</td>\n      <td>0.713152</td>\n      <td>0.019887</td>\n      <td>0.352939</td>\n    </tr>\n    <tr>\n      <th>1</th>\n      <td>BaggingClassifier</td>\n      <td>{'bootstrap': True, 'bootstrap_features': False, 'estimator': None, 'max_features': 1.0, 'max_samples': 1.0, 'n_estimators': 10, 'n_jobs': None, 'oob_score': False, 'random_state': None, 'verbose'...</td>\n      <td>0.969703</td>\n      <td>0.707324</td>\n      <td>0.027732</td>\n      <td>0.123986</td>\n    </tr>\n    <tr>\n      <th>2</th>\n      <td>ExtraTreesClassifier</td>\n      <td>{'bootstrap': False, 'ccp_alpha': 0.0, 'class_weight': None, 'criterion': 'gini', 'max_depth': None, 'max_features': 'sqrt', 'max_leaf_nodes': None, 'max_samples': None, 'min_impurity_decrease': 0...</td>\n      <td>0.990911</td>\n      <td>0.694594</td>\n      <td>0.027637</td>\n      <td>0.42523</td>\n    </tr>\n    <tr>\n      <th>16</th>\n      <td>LinearSVC</td>\n      <td>{'C': 1.0, 'class_weight': None, 'dual': 'warn', 'fit_intercept': True, 'intercept_scaling': 1, 'loss': 'squared_hinge', 'max_iter': 1000, 'multi_class': 'ovr', 'penalty': 'l2', 'random_state': No...</td>\n      <td>0.696548</td>\n      <td>0.693673</td>\n      <td>0.192448</td>\n      <td>0.205712</td>\n    </tr>\n    <tr>\n      <th>5</th>\n      <td>GaussianProcessClassifier</td>\n      <td>{'copy_X_train': True, 'kernel': None, 'max_iter_predict': 100, 'multi_class': 'one_vs_rest', 'n_jobs': None, 'n_restarts_optimizer': 0, 'optimizer': 'fmin_l_bfgs_b', 'random_state': None, 'warm_s...</td>\n      <td>0.955302</td>\n      <td>0.678029</td>\n      <td>0.029944</td>\n      <td>13.052458</td>\n    </tr>\n    <tr>\n      <th>15</th>\n      <td>NuSVC</td>\n      <td>{'break_ties': False, 'cache_size': 200, 'class_weight': None, 'coef0': 0.0, 'decision_function_shape': 'ovr', 'degree': 3, 'gamma': 'scale', 'kernel': 'rbf', 'max_iter': -1, 'nu': 0.5, 'probabili...</td>\n      <td>0.706481</td>\n      <td>0.676342</td>\n      <td>0.053727</td>\n      <td>5.046088</td>\n    </tr>\n    <tr>\n      <th>17</th>\n      <td>DecisionTreeClassifier</td>\n      <td>{'ccp_alpha': 0.0, 'class_weight': None, 'criterion': 'gini', 'max_depth': None, 'max_features': None, 'max_leaf_nodes': None, 'min_impurity_decrease': 0.0, 'min_samples_leaf': 1, 'min_samples_spl...</td>\n      <td>0.990911</td>\n      <td>0.67036</td>\n      <td>0.031058</td>\n      <td>0.014305</td>\n    </tr>\n    <tr>\n      <th>18</th>\n      <td>ExtraTreeClassifier</td>\n      <td>{'ccp_alpha': 0.0, 'class_weight': None, 'criterion': 'gini', 'max_depth': None, 'max_features': 'sqrt', 'max_leaf_nodes': None, 'min_impurity_decrease': 0.0, 'min_samples_leaf': 1, 'min_samples_s...</td>\n      <td>0.990911</td>\n      <td>0.669133</td>\n      <td>0.025585</td>\n      <td>0.006301</td>\n    </tr>\n    <tr>\n      <th>20</th>\n      <td>QuadraticDiscriminantAnalysis</td>\n      <td>{'priors': None, 'reg_param': 0.0, 'store_covariance': False, 'tol': 0.0001}</td>\n      <td>0.668974</td>\n      <td>0.660544</td>\n      <td>0.066142</td>\n      <td>0.009496</td>\n    </tr>\n    <tr>\n      <th>13</th>\n      <td>KNeighborsClassifier</td>\n      <td>{'algorithm': 'auto', 'leaf_size': 30, 'metric': 'minkowski', 'metric_params': None, 'n_jobs': None, 'n_neighbors': 5, 'p': 2, 'weights': 'uniform'}</td>\n      <td>0.77674</td>\n      <td>0.659969</td>\n      <td>0.018295</td>\n      <td>0.004</td>\n    </tr>\n    <tr>\n      <th>9</th>\n      <td>SGDClassifier</td>\n      <td>{'alpha': 0.0001, 'average': False, 'class_weight': None, 'early_stopping': False, 'epsilon': 0.1, 'eta0': 0.0, 'fit_intercept': True, 'l1_ratio': 0.15, 'learning_rate': 'optimal', 'loss': 'hinge'...</td>\n      <td>0.667076</td>\n      <td>0.659509</td>\n      <td>0.191765</td>\n      <td>0.046217</td>\n    </tr>\n    <tr>\n      <th>7</th>\n      <td>PassiveAggressiveClassifier</td>\n      <td>{'C': 1.0, 'average': False, 'class_weight': None, 'early_stopping': False, 'fit_intercept': True, 'loss': 'hinge', 'max_iter': 1000, 'n_iter_no_change': 5, 'n_jobs': None, 'random_state': None, '...</td>\n      <td>0.644314</td>\n      <td>0.642408</td>\n      <td>0.221173</td>\n      <td>0.010413</td>\n    </tr>\n    <tr>\n      <th>10</th>\n      <td>Perceptron</td>\n      <td>{'alpha': 0.0001, 'class_weight': None, 'early_stopping': False, 'eta0': 1.0, 'fit_intercept': True, 'l1_ratio': 0.15, 'max_iter': 1000, 'n_iter_no_change': 5, 'n_jobs': None, 'penalty': None, 'ra...</td>\n      <td>0.623221</td>\n      <td>0.620667</td>\n      <td>0.217443</td>\n      <td>0.008104</td>\n    </tr>\n  </tbody>\n</table>\n</div>"
     },
     "execution_count": 43,
     "metadata": {},
     "output_type": "execute_result"
    }
   ],
   "source": [
    "#Machine Learning Algorithm (MLA) Selection and Initialization\n",
    "MLA = [\n",
    "    #Ensemble Methods\n",
    "    ensemble.AdaBoostClassifier(),\n",
    "    ensemble.BaggingClassifier(),\n",
    "    ensemble.ExtraTreesClassifier(),\n",
    "    ensemble.GradientBoostingClassifier(),\n",
    "    ensemble.RandomForestClassifier(),\n",
    "\n",
    "    #Gaussian Processes\n",
    "    gaussian_process.GaussianProcessClassifier(),\n",
    "\n",
    "    #GLM\n",
    "    linear_model.LogisticRegressionCV(),\n",
    "    linear_model.PassiveAggressiveClassifier(),\n",
    "    linear_model.RidgeClassifierCV(),\n",
    "    linear_model.SGDClassifier(),\n",
    "    linear_model.Perceptron(),\n",
    "\n",
    "    #Navies Bayes\n",
    "    naive_bayes.BernoulliNB(),\n",
    "    naive_bayes.GaussianNB(),\n",
    "\n",
    "    #Nearest Neighbor\n",
    "    neighbors.KNeighborsClassifier(),\n",
    "\n",
    "    #SVM\n",
    "    svm.SVC(probability=True),\n",
    "    svm.NuSVC(probability=True),\n",
    "    svm.LinearSVC(),\n",
    "\n",
    "    #Trees\n",
    "    tree.DecisionTreeClassifier(),\n",
    "    tree.ExtraTreeClassifier(),\n",
    "\n",
    "    #Discriminant Analysis\n",
    "    discriminant_analysis.LinearDiscriminantAnalysis(),\n",
    "    discriminant_analysis.QuadraticDiscriminantAnalysis(),\n",
    "\n",
    "\n",
    "    #xgboost: http://xgboost.readthedocs.io/en/latest/model.html\n",
    "    XGBClassifier()\n",
    "    ]\n",
    "\n",
    "#split dataset in cross-validation with this splitter class: http://scikit-learn.org/stable/modules/generated/sklearn.model_selection.ShuffleSplit.html#sklearn.model_selection.ShuffleSplit\n",
    "#note: this is an alternative to train_test_split\n",
    "cv_split = model_selection.ShuffleSplit(n_splits = 10, test_size = .3, train_size = .6, random_state = 0 ) # run model 10x with 60/30 split intentionally leaving out 10%\n",
    "\n",
    "#create table to compare MLA metrics\n",
    "MLA_columns = ['MLA Name', 'MLA Parameters','MLA Train Accuracy Mean', 'MLA Test Accuracy Mean', 'MLA Test Accuracy 3*STD' ,'MLA Time']\n",
    "MLA_compare = pd.DataFrame(columns = MLA_columns)\n",
    "\n",
    "#create table to compare MLA predictions\n",
    "MLA_predict = data1[Target]\n",
    "\n",
    "#index through MLA and save performance to table\n",
    "row_index = 0\n",
    "for alg in MLA:\n",
    "\n",
    "    #set name and parameters\n",
    "    MLA_name = alg.__class__.__name__\n",
    "    MLA_compare.loc[row_index, 'MLA Name'] = MLA_name\n",
    "    MLA_compare.loc[row_index, 'MLA Parameters'] = str(alg.get_params())\n",
    "\n",
    "    #score model with cross validation: http://scikit-learn.org/stable/modules/generated/sklearn.model_selection.cross_validate.html#sklearn.model_selection.cross_validate\n",
    "    cv_results = model_selection.cross_validate(alg, data1[data1_x_bin], data1[Target], cv  = cv_split, return_train_score=True )\n",
    "\n",
    "    MLA_compare.loc[row_index, 'MLA Time'] = cv_results['fit_time'].mean()\n",
    "    MLA_compare.loc[row_index, 'MLA Train Accuracy Mean'] = cv_results['train_score'].mean()\n",
    "    MLA_compare.loc[row_index, 'MLA Test Accuracy Mean'] = cv_results['test_score'].mean()\n",
    "    #if this is a non-bias random sample, then +/-3 standard deviations (std) from the mean, should statistically capture 99.7% of the subsets\n",
    "    MLA_compare.loc[row_index, 'MLA Test Accuracy 3*STD'] = cv_results['test_score'].std()*3   #let's know the worst that can happen!\n",
    "\n",
    "\n",
    "    #save MLA predictions - see section 6 for usage\n",
    "    alg.fit(data1[data1_x_bin], data1[Target])\n",
    "    MLA_predict[MLA_name] = alg.predict(data1[data1_x_bin])\n",
    "\n",
    "    row_index+=1\n",
    "\n",
    "#print and sort table: https://pandas.pydata.org/pandas-docs/stable/generated/pandas.DataFrame.sort_values.html\n",
    "MLA_compare.sort_values(by = ['MLA Test Accuracy Mean'], ascending = False, inplace = True)\n",
    "MLA_compare"
   ],
   "metadata": {
    "collapsed": false,
    "pycharm": {
     "name": "#%%\n"
    }
   }
  },
  {
   "cell_type": "code",
   "execution_count": 44,
   "outputs": [
    {
     "name": "stdout",
     "output_type": "stream",
     "text": [
      "Coin Flip Model Accuracy: 49.26%\n",
      "Coin Flip Model Accuracy w/SciKit: 49.26%\n"
     ]
    }
   ],
   "source": [
    "#IMPORTANT: This is a handmade model for learning purposes only.\n",
    "#However, it is possible to create your own predictive model without a fancy algorithm :)\n",
    "\n",
    "#coin flip model with random 1/survived 0/died\n",
    "\n",
    "#iterate over dataFrame rows as (index, Series) pairs: https://pandas.pydata.org/pandas-docs/stable/generated/pandas.DataFrame.iterrows.html\n",
    "for index, row in data1.iterrows():\n",
    "    #random number generator: https://docs.python.org/2/library/random.html\n",
    "    if random.random() > .5:     # Random float x, 0.0 <= x < 1.0\n",
    "        data1.at[index, 'Random_Predict'] = 1 # predict survived/1\n",
    "    else:\n",
    "        data1.at[index, 'Random_Predict'] = 0 # predict died/0\n",
    "\n",
    "\n",
    "#score random guess of survival. Use shortcut 1 = Right Guess and 0 = Wrong Guess\n",
    "#the mean of the column will then equal the accuracy\n",
    "data1['Random_Score'] = 0 #assume prediction wrong\n",
    "data1.loc[(data1['Transported'] == data1['Random_Predict']), 'Random_Score'] = 1 #set to 1 for correct prediction\n",
    "print('Coin Flip Model Accuracy: {:.2f}%'.format(data1['Random_Score'].mean()*100))\n",
    "\n",
    "#we can also use scikit's accuracy_score function to save us a few lines of code\n",
    "#http://scikit-learn.org/stable/modules/generated/sklearn.metrics.accuracy_score.html#sklearn.metrics.accuracy_score\n",
    "print('Coin Flip Model Accuracy w/SciKit: {:.2f}%'.format(metrics.accuracy_score(data1[Target], data1['Random_Predict'])*100))"
   ],
   "metadata": {
    "collapsed": false,
    "pycharm": {
     "name": "#%%\n"
    }
   }
  },
  {
   "cell_type": "code",
   "execution_count": 45,
   "outputs": [
    {
     "name": "stdout",
     "output_type": "stream",
     "text": [
      "Survival Decision Tree age Node: \n",
      " Age_group\n",
      "Age_0-12     0.696126\n",
      "Age_13-17    0.553451\n",
      "Age_18-25    0.459674\n",
      "Age_26-30    0.497276\n",
      "Age_31-50    0.478437\n",
      "Age_51+      0.484396\n",
      "Name: Transported, dtype: float64\n",
      "\n",
      " Survival Decision Tree vip Node: \n",
      " VIP_Code\n",
      "0    0.506475\n",
      "1    0.381910\n",
      "Name: Transported, dtype: float64\n",
      "\n",
      " Survival Decision Tree HomePlanet Node: \n",
      " HomePlanet_Code\n",
      "0    0.423420\n",
      "1    0.660534\n",
      "2    0.524100\n",
      "Name: Transported, dtype: float64\n",
      "\n",
      " Survival Decision Tree CryoSleep Node: \n",
      " CryoSleep_Code\n",
      "0    0.328176\n",
      "1    0.814673\n",
      "Name: Transported, dtype: float64\n",
      "\n",
      " Survival Decision Tree Cabin_deck_Code Node: \n",
      " Cabin_deck_Code\n",
      "0    0.496094\n",
      "1    0.732601\n",
      "2    0.677503\n",
      "3    0.433054\n",
      "4    0.357306\n",
      "5    0.440141\n",
      "6    0.512830\n",
      "7    0.200000\n",
      "Name: Transported, dtype: float64\n",
      "\n",
      " Survival Decision Tree Cabin_side_Code Node: \n",
      " Cabin_side_Code\n",
      "0    0.452498\n",
      "1    0.555326\n",
      "2    0.405405\n",
      "Name: Transported, dtype: float64\n"
     ]
    }
   ],
   "source": [
    "#group by or pivot table: https://pandas.pydata.org/pandas-docs/stable/generated/pandas.DataFrame.groupby.html\n",
    "pivot_age = data1.groupby(['Age_group'])['Transported'].mean()\n",
    "print('Survival Decision Tree age Node: \\n',pivot_age)\n",
    "\n",
    "pivot_vip = data1.groupby(['VIP_Code'])['Transported'].mean()\n",
    "print('\\n Survival Decision Tree vip Node: \\n',pivot_vip)\n",
    "\n",
    "pivot_HomePlanet = data1.groupby(['HomePlanet_Code'])['Transported'].mean()\n",
    "print('\\n Survival Decision Tree HomePlanet Node: \\n',pivot_HomePlanet)\n",
    "\n",
    "pivot_CryoSleep = data1.groupby(['CryoSleep_Code'])['Transported'].mean()\n",
    "print('\\n Survival Decision Tree CryoSleep Node: \\n',pivot_CryoSleep)\n",
    "\n",
    "pivot_Cabin_deck_Code = data1.groupby(['Cabin_deck_Code'])['Transported'].mean()\n",
    "print('\\n Survival Decision Tree Cabin_deck_Code Node: \\n',pivot_Cabin_deck_Code)\n",
    "\n",
    "pivot_Cabin_side_Code = data1.groupby(['Cabin_side_Code'])['Transported'].mean()\n",
    "print('\\n Survival Decision Tree Cabin_side_Code Node: \\n',pivot_Cabin_side_Code)\n",
    "\n",
    "# pivot_male = data1[data1.Sex=='male'].groupby(['Sex','Title'])['Transported'].mean()\n",
    "# print('\\n\\nSurvival Decision Tree w/Male Node: \\n',pivot_male)"
   ],
   "metadata": {
    "collapsed": false,
    "pycharm": {
     "name": "#%%\n"
    }
   }
  },
  {
   "cell_type": "code",
   "execution_count": 46,
   "outputs": [
    {
     "name": "stdout",
     "output_type": "stream",
     "text": [
      "Decision Tree Model Accuracy/Precision Score: 70.45%\n",
      "\n",
      "              precision    recall  f1-score   support\n",
      "\n",
      "       False       0.68      0.78      0.72      4315\n",
      "        True       0.74      0.63      0.68      4378\n",
      "\n",
      "    accuracy                           0.70      8693\n",
      "   macro avg       0.71      0.70      0.70      8693\n",
      "weighted avg       0.71      0.70      0.70      8693\n",
      "\n"
     ]
    }
   ],
   "source": [
    "#handmade data model using brain power (and Microsoft Excel Pivot Tables for quick calculations)\n",
    "def mytree(df):\n",
    "\n",
    "    #initialize table to store predictions\n",
    "    Model = pd.DataFrame(data = {'Predict':[]})\n",
    "\n",
    "    for index, row in df.iterrows():\n",
    "        #Question 1: Age_group (55-69%)\n",
    "        if (df.loc[index, 'Age_group'] == 'Age_0-12') or (df.loc[index, 'Age_group'] == 'Age_13-17'):\n",
    "                  Model.loc[index, 'Predict'] = 1\n",
    "\n",
    "        #Question 2: HomePlanet_Code (66-67%)\n",
    "        if (df.loc[index, 'HomePlanet_Code'] == 0):\n",
    "                  Model.loc[index, 'Predict'] = 0\n",
    "        if (df.loc[index, 'HomePlanet_Code'] == 1):\n",
    "                  Model.loc[index, 'Predict'] = 1\n",
    "\n",
    "        #Question 3: VIP_Code (71%)\n",
    "        if (df.loc[index, 'VIP_Code'] == 1):\n",
    "                  Model.loc[index, 'Predict'] = 0\n",
    "\n",
    "        #Question 4: CryoSleep_Code (68-81%)\n",
    "        if (df.loc[index, 'CryoSleep_Code'] == 0):\n",
    "                  Model.loc[index, 'Predict'] = 0\n",
    "        if (df.loc[index, 'CryoSleep_Code'] == 1):\n",
    "                  Model.loc[index, 'Predict'] = 1\n",
    "\n",
    "        #Question 5: Cabin_deck_Code_Code (73-80%)\n",
    "        if (df.loc[index, 'Cabin_deck_Code'] == 7):\n",
    "                  Model.loc[index, 'Predict'] = 0\n",
    "        if (df.loc[index, 'Cabin_deck_Code'] == 1):\n",
    "                  Model.loc[index, 'Predict'] = 1\n",
    "        if (df.loc[index, 'Cabin_deck_Code'] == 2):\n",
    "                  Model.loc[index, 'Predict'] = 1\n",
    "        if (df.loc[index, 'Cabin_deck_Code'] == 4):\n",
    "                  Model.loc[index, 'Predict'] = 0\n",
    "\n",
    "        #Question 6: Cabin_side_Code (72%)\n",
    "        if (df.loc[index, 'Cabin_side_Code'] == 2):\n",
    "                  Model.loc[index, 'Predict'] = 0\n",
    "\n",
    "\n",
    "    return Model\n",
    "\n",
    "\n",
    "#model data\n",
    "Tree_Predict = mytree(data1)\n",
    "print('Decision Tree Model Accuracy/Precision Score: {:.2f}%\\n'.format(metrics.accuracy_score(data1['Transported'], Tree_Predict)*100))\n",
    "\n",
    "\n",
    "#Accuracy Summary Report with http://scikit-learn.org/stable/modules/generated/sklearn.metrics.classification_report.html#sklearn.metrics.classification_report\n",
    "#Where recall score = (true positives)/(true positive + false negative) w/1 being best:http://scikit-learn.org/stable/modules/generated/sklearn.metrics.recall_score.html#sklearn.metrics.recall_score\n",
    "#And F1 score = weighted average of precision and recall w/1 being best: http://scikit-learn.org/stable/modules/generated/sklearn.metrics.f1_score.html#sklearn.metrics.f1_score\n",
    "print(metrics.classification_report(data1['Transported'], Tree_Predict))"
   ],
   "metadata": {
    "collapsed": false,
    "pycharm": {
     "name": "#%%\n"
    }
   }
  },
  {
   "cell_type": "code",
   "execution_count": 47,
   "outputs": [
    {
     "name": "stdout",
     "output_type": "stream",
     "text": [
      "Confusion matrix, without normalization\n",
      "[[3346  969]\n",
      " [1600 2778]]\n",
      "Normalized confusion matrix\n",
      "[[0.78 0.22]\n",
      " [0.37 0.63]]\n"
     ]
    },
    {
     "data": {
      "text/plain": "<Figure size 1200x800 with 2 Axes>",
      "image/png": "[encoded data removed]"
     },
     "metadata": {},
     "output_type": "display_data"
    },
    {
     "data": {
      "text/plain": "<Figure size 1200x800 with 2 Axes>",
      "image/png": "[encoded data removed]"
     },
     "metadata": {},
     "output_type": "display_data"
    }
   ],
   "source": [
    "#Plot Accuracy Summary\n",
    "#Credit: http://scikit-learn.org/stable/auto_examples/model_selection/plot_confusion_matrix.html\n",
    "import itertools\n",
    "def plot_confusion_matrix(cm, classes,\n",
    "                          normalize=False,\n",
    "                          title='Confusion matrix',\n",
    "                          cmap=plt.cm.Blues):\n",
    "    \"\"\"\n",
    "    This function prints and plots the confusion matrix.\n",
    "    Normalization can be applied by setting `normalize=True`.\n",
    "    \"\"\"\n",
    "    if normalize:\n",
    "        cm = cm.astype('float') / cm.sum(axis=1)[:, np.newaxis]\n",
    "        print(\"Normalized confusion matrix\")\n",
    "    else:\n",
    "        print('Confusion matrix, without normalization')\n",
    "\n",
    "    print(cm)\n",
    "\n",
    "    plt.imshow(cm, interpolation='nearest', cmap=cmap)\n",
    "    plt.title(title)\n",
    "    plt.colorbar()\n",
    "    tick_marks = np.arange(len(classes))\n",
    "    plt.xticks(tick_marks, classes, rotation=45)\n",
    "    plt.yticks(tick_marks, classes)\n",
    "\n",
    "    fmt = '.2f' if normalize else 'd'\n",
    "    thresh = cm.max() / 2.\n",
    "    for i, j in itertools.product(range(cm.shape[0]), range(cm.shape[1])):\n",
    "        plt.text(j, i, format(cm[i, j], fmt),\n",
    "                 horizontalalignment=\"center\",\n",
    "                 color=\"white\" if cm[i, j] > thresh else \"black\")\n",
    "\n",
    "    plt.tight_layout()\n",
    "    plt.ylabel('True label')\n",
    "    plt.xlabel('Predicted label')\n",
    "\n",
    "# Compute confusion matrix\n",
    "cnf_matrix = metrics.confusion_matrix(data1['Transported'], Tree_Predict)\n",
    "np.set_printoptions(precision=2)\n",
    "\n",
    "class_names = ['NotTransported', 'Transported']\n",
    "# Plot non-normalized confusion matrix\n",
    "plt.figure()\n",
    "plot_confusion_matrix(cnf_matrix, classes=class_names,\n",
    "                      title='Confusion matrix, without normalization')\n",
    "\n",
    "# Plot normalized confusion matrix\n",
    "plt.figure()\n",
    "plot_confusion_matrix(cnf_matrix, classes=class_names, normalize=True,\n",
    "                      title='Normalized confusion matrix')"
   ],
   "metadata": {
    "collapsed": false,
    "pycharm": {
     "name": "#%%\n"
    }
   }
  },
  {
   "cell_type": "code",
   "execution_count": 48,
   "outputs": [
    {
     "name": "stdout",
     "output_type": "stream",
     "text": [
      "BEFORE DT Parameters:  {'ccp_alpha': 0.0, 'class_weight': None, 'criterion': 'gini', 'max_depth': None, 'max_features': None, 'max_leaf_nodes': None, 'min_impurity_decrease': 0.0, 'min_samples_leaf': 1, 'min_samples_split': 2, 'min_weight_fraction_leaf': 0.0, 'monotonic_cst': None, 'random_state': 0, 'splitter': 'best'}\n",
      "BEFORE DT Training w/bin score mean: 99.09\n",
      "BEFORE DT Test w/bin score mean: 66.87\n",
      "BEFORE DT Test w/bin score 3*std: +/- 3.11\n",
      "----------\n",
      "AFTER DT Parameters:  {'criterion': 'gini', 'max_depth': 6, 'random_state': 0}\n",
      "AFTER DT Training w/bin score mean: 83.49\n",
      "AFTER DT Test w/bin score mean: 80.15\n",
      "AFTER DT Test w/bin score 3*std: +/- 1.57\n",
      "----------\n"
     ]
    }
   ],
   "source": [
    "#base model\n",
    "dtree = tree.DecisionTreeClassifier(random_state = 0)\n",
    "base_results = model_selection.cross_validate(dtree, data1[data1_x_bin], data1[Target], cv  = cv_split, return_train_score=True )\n",
    "dtree.fit(data1[data1_x_bin], data1[Target])\n",
    "\n",
    "print('BEFORE DT Parameters: ', dtree.get_params())\n",
    "print(\"BEFORE DT Training w/bin score mean: {:.2f}\". format(base_results['train_score'].mean()*100))\n",
    "print(\"BEFORE DT Test w/bin score mean: {:.2f}\". format(base_results['test_score'].mean()*100))\n",
    "print(\"BEFORE DT Test w/bin score 3*std: +/- {:.2f}\". format(base_results['test_score'].std()*100*3))\n",
    "#print(\"BEFORE DT Test w/bin set score min: {:.2f}\". format(base_results['test_score'].min()*100))\n",
    "print('-'*10)\n",
    "\n",
    "\n",
    "#tune hyper-parameters: http://scikit-learn.org/stable/modules/generated/sklearn.tree.DecisionTreeClassifier.html#sklearn.tree.DecisionTreeClassifier\n",
    "param_grid = {'criterion': ['gini', 'entropy'],  #scoring methodology; two supported formulas for calculating information gain - default is gini\n",
    "              #'splitter': ['best', 'random'], #splitting methodology; two supported strategies - default is best\n",
    "              'max_depth': [2,4,6,8,10,None], #max depth tree can grow; default is none\n",
    "              #'min_samples_split': [2,5,10,.03,.05], #minimum subset size BEFORE new split (fraction is % of total); default is 2\n",
    "              #'min_samples_leaf': [1,5,10,.03,.05], #minimum subset size AFTER new split split (fraction is % of total); default is 1\n",
    "              #'max_features': [None, 'auto'], #max features to consider when performing split; default none or all\n",
    "              'random_state': [0] #seed or control random number generator: https://www.quora.com/What-is-seed-in-random-number-generation\n",
    "             }\n",
    "\n",
    "#print(list(model_selection.ParameterGrid(param_grid)))\n",
    "\n",
    "#choose best model with grid_search: #http://scikit-learn.org/stable/modules/grid_search.html#grid-search\n",
    "#http://scikit-learn.org/stable/auto_examples/model_selection/plot_grid_search_digits.html\n",
    "tune_model = model_selection.GridSearchCV(tree.DecisionTreeClassifier(), param_grid=param_grid, scoring = 'roc_auc', cv = cv_split, return_train_score=True )\n",
    "tune_model.fit(data1[data1_x_bin], data1[Target])\n",
    "\n",
    "#print(tune_model.cv_results_.keys())\n",
    "#print(tune_model.cv_results_['params'])\n",
    "print('AFTER DT Parameters: ', tune_model.best_params_)\n",
    "#print(tune_model.cv_results_['mean_train_score'])\n",
    "print(\"AFTER DT Training w/bin score mean: {:.2f}\". format(tune_model.cv_results_['mean_train_score'][tune_model.best_index_]*100))\n",
    "#print(tune_model.cv_results_['mean_test_score'])\n",
    "print(\"AFTER DT Test w/bin score mean: {:.2f}\". format(tune_model.cv_results_['mean_test_score'][tune_model.best_index_]*100))\n",
    "print(\"AFTER DT Test w/bin score 3*std: +/- {:.2f}\". format(tune_model.cv_results_['std_test_score'][tune_model.best_index_]*100*3))\n",
    "print('-'*10)\n",
    "\n",
    "\n",
    "#duplicates gridsearchcv\n",
    "#tune_results = model_selection.cross_validate(tune_model, data1[data1_x_bin], data1[Target], cv  = cv_split)\n",
    "\n",
    "#print('AFTER DT Parameters: ', tune_model.best_params_)\n",
    "#print(\"AFTER DT Training w/bin set score mean: {:.2f}\". format(tune_results['train_score'].mean()*100))\n",
    "#print(\"AFTER DT Test w/bin set score mean: {:.2f}\". format(tune_results['test_score'].mean()*100))\n",
    "#print(\"AFTER DT Test w/bin set score min: {:.2f}\". format(tune_results['test_score'].min()*100))\n",
    "#print('-'*10)"
   ],
   "metadata": {
    "collapsed": false,
    "pycharm": {
     "name": "#%%\n"
    }
   }
  },
  {
   "cell_type": "code",
   "execution_count": 49,
   "outputs": [
    {
     "name": "stdout",
     "output_type": "stream",
     "text": [
      "BEFORE DT RFE Training Shape Old:  (8693, 19)\n",
      "BEFORE DT RFE Training Columns Old:  ['Age' 'No_spending' 'Group_size' 'Solo' 'Cabin_region1' 'Cabin_region2'\n",
      " 'Cabin_region3' 'Cabin_region4' 'Cabin_region5' 'Cabin_region6'\n",
      " 'Cabin_region7' 'Family_size' 'HomePlanet_Code' 'CryoSleep_Code'\n",
      " 'Destination_Code' 'VIP_Code' 'Age_group_Code' 'Cabin_deck_Code'\n",
      " 'Cabin_side_Code']\n",
      "BEFORE DT RFE Training w/bin score mean: 99.09\n",
      "BEFORE DT RFE Test w/bin score mean: 66.87\n",
      "BEFORE DT RFE Test w/bin score 3*std: +/- 3.11\n",
      "----------\n",
      "AFTER DT RFE Training Shape New:  (8693, 1)\n",
      "AFTER DT RFE Training Columns New:  ['No_spending']\n",
      "AFTER DT RFE Training w/bin score mean: 73.73\n",
      "AFTER DT RFE Test w/bin score mean: 73.71\n",
      "AFTER DT RFE Test w/bin score 3*std: +/- 2.25\n",
      "----------\n",
      "AFTER DT RFE Tuned Parameters:  {'criterion': 'gini', 'max_depth': 2, 'random_state': 0}\n",
      "AFTER DT RFE Tuned Training w/bin score mean: 73.81\n",
      "AFTER DT RFE Tuned Test w/bin score mean: 73.77\n",
      "AFTER DT RFE Tuned Test w/bin score 3*std: +/- 2.33\n",
      "----------\n"
     ]
    }
   ],
   "source": [
    "#base model\n",
    "print('BEFORE DT RFE Training Shape Old: ', data1[data1_x_bin].shape)\n",
    "print('BEFORE DT RFE Training Columns Old: ', data1[data1_x_bin].columns.values)\n",
    "\n",
    "print(\"BEFORE DT RFE Training w/bin score mean: {:.2f}\". format(base_results['train_score'].mean()*100))\n",
    "print(\"BEFORE DT RFE Test w/bin score mean: {:.2f}\". format(base_results['test_score'].mean()*100))\n",
    "print(\"BEFORE DT RFE Test w/bin score 3*std: +/- {:.2f}\". format(base_results['test_score'].std()*100*3))\n",
    "print('-'*10)\n",
    "\n",
    "\n",
    "\n",
    "#feature selection\n",
    "dtree_rfe = feature_selection.RFECV(dtree, step = 1, scoring = 'accuracy', cv = cv_split)\n",
    "dtree_rfe.fit(data1[data1_x_bin], data1[Target])\n",
    "\n",
    "#transform x&y to reduced features and fit new model\n",
    "#alternative: can use pipeline to reduce fit and transform steps: http://scikit-learn.org/stable/modules/generated/sklearn.pipeline.Pipeline.html\n",
    "X_rfe = data1[data1_x_bin].columns.values[dtree_rfe.get_support()]\n",
    "rfe_results = model_selection.cross_validate(dtree, data1[X_rfe], data1[Target], cv  = cv_split, return_train_score=True )\n",
    "\n",
    "#print(dtree_rfe.grid_scores_)\n",
    "print('AFTER DT RFE Training Shape New: ', data1[X_rfe].shape)\n",
    "print('AFTER DT RFE Training Columns New: ', X_rfe)\n",
    "\n",
    "print(\"AFTER DT RFE Training w/bin score mean: {:.2f}\". format(rfe_results['train_score'].mean()*100))\n",
    "print(\"AFTER DT RFE Test w/bin score mean: {:.2f}\". format(rfe_results['test_score'].mean()*100))\n",
    "print(\"AFTER DT RFE Test w/bin score 3*std: +/- {:.2f}\". format(rfe_results['test_score'].std()*100*3))\n",
    "print('-'*10)\n",
    "\n",
    "\n",
    "#tune rfe model\n",
    "rfe_tune_model = model_selection.GridSearchCV(tree.DecisionTreeClassifier(), param_grid=param_grid, scoring = 'roc_auc', cv = cv_split, return_train_score=True )\n",
    "rfe_tune_model.fit(data1[X_rfe], data1[Target])\n",
    "\n",
    "#print(rfe_tune_model.cv_results_.keys())\n",
    "#print(rfe_tune_model.cv_results_['params'])\n",
    "print('AFTER DT RFE Tuned Parameters: ', rfe_tune_model.best_params_)\n",
    "#print(rfe_tune_model.cv_results_['mean_train_score'])\n",
    "print(\"AFTER DT RFE Tuned Training w/bin score mean: {:.2f}\". format(rfe_tune_model.cv_results_['mean_train_score'][tune_model.best_index_]*100))\n",
    "#print(rfe_tune_model.cv_results_['mean_test_score'])\n",
    "print(\"AFTER DT RFE Tuned Test w/bin score mean: {:.2f}\". format(rfe_tune_model.cv_results_['mean_test_score'][tune_model.best_index_]*100))\n",
    "print(\"AFTER DT RFE Tuned Test w/bin score 3*std: +/- {:.2f}\". format(rfe_tune_model.cv_results_['std_test_score'][tune_model.best_index_]*100*3))\n",
    "print('-'*10)"
   ],
   "metadata": {
    "collapsed": false,
    "pycharm": {
     "name": "#%%\n"
    }
   }
  },
  {
   "cell_type": "code",
   "execution_count": 50,
   "outputs": [
    {
     "name": "stdout",
     "output_type": "stream",
     "text": [
      "Hard Voting Training w/bin score mean: 82.91\n",
      "Hard Voting Test w/bin score mean: 74.03\n",
      "Hard Voting Test w/bin score 3*std: +/- 2.53\n",
      "----------\n",
      "Soft Voting Training w/bin score mean: 86.27\n",
      "Soft Voting Test w/bin score mean: 73.93\n",
      "Soft Voting Test w/bin score 3*std: +/- 2.21\n",
      "----------\n"
     ]
    }
   ],
   "source": [
    "#why choose one model, when you can pick them all with voting classifier\n",
    "#http://scikit-learn.org/stable/modules/generated/sklearn.ensemble.VotingClassifier.html\n",
    "#removed models w/o attribute 'predict_proba' required for vote classifier and models with a 1.0 correlation to another model\n",
    "\n",
    "vote_est = [\n",
    "    #Ensemble Methods: http://scikit-learn.org/stable/modules/ensemble.html\n",
    "    ('ada', ensemble.AdaBoostClassifier()),\n",
    "    ('bc', ensemble.BaggingClassifier()),\n",
    "    ('etc',ensemble.ExtraTreesClassifier()),\n",
    "    ('gbc', ensemble.GradientBoostingClassifier()),\n",
    "    ('rfc', ensemble.RandomForestClassifier()),\n",
    "\n",
    "    #Gaussian Processes: http://scikit-learn.org/stable/modules/gaussian_process.html#gaussian-process-classification-gpc\n",
    "    ('gpc', gaussian_process.GaussianProcessClassifier()),\n",
    "\n",
    "    #GLM: http://scikit-learn.org/stable/modules/linear_model.html#logistic-regression\n",
    "    ('lr', linear_model.LogisticRegressionCV()),\n",
    "\n",
    "    #Navies Bayes: http://scikit-learn.org/stable/modules/naive_bayes.html\n",
    "    ('bnb', naive_bayes.BernoulliNB()),\n",
    "    ('gnb', naive_bayes.GaussianNB()),\n",
    "\n",
    "    #Nearest Neighbor: http://scikit-learn.org/stable/modules/neighbors.html\n",
    "    ('knn', neighbors.KNeighborsClassifier()),\n",
    "\n",
    "    #SVM: http://scikit-learn.org/stable/modules/svm.html\n",
    "    ('svc', svm.SVC(probability=True)),\n",
    "\n",
    "    #xgboost: http://xgboost.readthedocs.io/en/latest/model.html\n",
    "   ('xgb', XGBClassifier())\n",
    "\n",
    "]\n",
    "\n",
    "#Hard Vote or majority rules\n",
    "vote_hard = ensemble.VotingClassifier(estimators = vote_est , voting = 'hard')\n",
    "vote_hard_cv = model_selection.cross_validate(vote_hard, data1[data1_x_bin], data1[Target], cv  = cv_split, return_train_score=True )\n",
    "vote_hard.fit(data1[data1_x_bin], data1[Target])\n",
    "\n",
    "print(\"Hard Voting Training w/bin score mean: {:.2f}\". format(vote_hard_cv['train_score'].mean()*100))\n",
    "print(\"Hard Voting Test w/bin score mean: {:.2f}\". format(vote_hard_cv['test_score'].mean()*100))\n",
    "print(\"Hard Voting Test w/bin score 3*std: +/- {:.2f}\". format(vote_hard_cv['test_score'].std()*100*3))\n",
    "print('-'*10)\n",
    "\n",
    "#Soft Vote or weighted probabilities\n",
    "vote_soft = ensemble.VotingClassifier(estimators = vote_est , voting = 'soft')\n",
    "vote_soft_cv = model_selection.cross_validate(vote_soft, data1[data1_x_bin], data1[Target], cv  = cv_split, return_train_score=True )\n",
    "vote_soft.fit(data1[data1_x_bin], data1[Target])\n",
    "\n",
    "print(\"Soft Voting Training w/bin score mean: {:.2f}\". format(vote_soft_cv['train_score'].mean()*100))\n",
    "print(\"Soft Voting Test w/bin score mean: {:.2f}\". format(vote_soft_cv['test_score'].mean()*100))\n",
    "print(\"Soft Voting Test w/bin score 3*std: +/- {:.2f}\". format(vote_soft_cv['test_score'].std()*100*3))\n",
    "print('-'*10)"
   ],
   "metadata": {
    "collapsed": false,
    "pycharm": {
     "name": "#%%\n"
    }
   }
  },
  {
   "cell_type": "code",
   "execution_count": 51,
   "outputs": [
    {
     "name": "stdout",
     "output_type": "stream",
     "text": [
      "Hard Voting w/Tuned Hyperparameters Training w/bin score mean: 82.90\n",
      "Hard Voting w/Tuned Hyperparameters Test w/bin score mean: 74.01\n",
      "Hard Voting w/Tuned Hyperparameters Test w/bin score 3*std: +/- 2.60\n",
      "----------\n",
      "Soft Voting w/Tuned Hyperparameters Training w/bin score mean: 86.25\n",
      "Soft Voting w/Tuned Hyperparameters Test w/bin score mean: 73.95\n",
      "Soft Voting w/Tuned Hyperparameters Test w/bin score 3*std: +/- 2.46\n",
      "----------\n"
     ]
    }
   ],
   "source": [
    "grid_hard = ensemble.VotingClassifier(estimators = vote_est , voting = 'hard')\n",
    "grid_hard_cv = model_selection.cross_validate(grid_hard, data1[data1_x_bin], data1[Target], cv  = cv_split, return_train_score=True)\n",
    "grid_hard.fit(data1[data1_x_bin], data1[Target])\n",
    "\n",
    "print(\"Hard Voting w/Tuned Hyperparameters Training w/bin score mean: {:.2f}\". format(grid_hard_cv['train_score'].mean()*100))\n",
    "print(\"Hard Voting w/Tuned Hyperparameters Test w/bin score mean: {:.2f}\". format(grid_hard_cv['test_score'].mean()*100))\n",
    "print(\"Hard Voting w/Tuned Hyperparameters Test w/bin score 3*std: +/- {:.2f}\". format(grid_hard_cv['test_score'].std()*100*3))\n",
    "print('-'*10)\n",
    "\n",
    "#Soft Vote or weighted probabilities w/Tuned Hyperparameters\n",
    "grid_soft = ensemble.VotingClassifier(estimators = vote_est , voting = 'soft')\n",
    "grid_soft_cv = model_selection.cross_validate(grid_soft, data1[data1_x_bin], data1[Target], cv  = cv_split, return_train_score=True)\n",
    "grid_soft.fit(data1[data1_x_bin], data1[Target])\n",
    "\n",
    "print(\"Soft Voting w/Tuned Hyperparameters Training w/bin score mean: {:.2f}\". format(grid_soft_cv['train_score'].mean()*100))\n",
    "print(\"Soft Voting w/Tuned Hyperparameters Test w/bin score mean: {:.2f}\". format(grid_soft_cv['test_score'].mean()*100))\n",
    "print(\"Soft Voting w/Tuned Hyperparameters Test w/bin score 3*std: +/- {:.2f}\". format(grid_soft_cv['test_score'].std()*100*3))\n",
    "print('-'*10)"
   ],
   "metadata": {
    "collapsed": false,
    "pycharm": {
     "name": "#%%\n"
    }
   }
  },
  {
   "cell_type": "code",
   "execution_count": 52,
   "outputs": [
    {
     "name": "stdout",
     "output_type": "stream",
     "text": [
      "<class 'pandas.core.frame.DataFrame'>\n",
      "RangeIndex: 4277 entries, 0 to 4276\n",
      "Data columns (total 35 columns):\n",
      " #   Column            Non-Null Count  Dtype  \n",
      "---  ------            --------------  -----  \n",
      " 0   PassengerId       4277 non-null   object \n",
      " 1   HomePlanet        4277 non-null   object \n",
      " 2   CryoSleep         4277 non-null   object \n",
      " 3   Destination       4277 non-null   object \n",
      " 4   Age               4277 non-null   float64\n",
      " 5   VIP               4277 non-null   object \n",
      " 6   RoomService       4277 non-null   float64\n",
      " 7   FoodCourt         4277 non-null   float64\n",
      " 8   ShoppingMall      4277 non-null   float64\n",
      " 9   Spa               4277 non-null   float64\n",
      " 10  VRDeck            4277 non-null   float64\n",
      " 11  Age_group         4277 non-null   object \n",
      " 12  Expenditure       4277 non-null   float64\n",
      " 13  No_spending       4277 non-null   int32  \n",
      " 14  Group             4277 non-null   int32  \n",
      " 15  Group_size        4277 non-null   int64  \n",
      " 16  Solo              4277 non-null   int32  \n",
      " 17  Cabin_deck        4277 non-null   object \n",
      " 18  Cabin_number      4277 non-null   float64\n",
      " 19  Cabin_side        4277 non-null   object \n",
      " 20  Cabin_region1     4277 non-null   int32  \n",
      " 21  Cabin_region2     4277 non-null   int32  \n",
      " 22  Cabin_region3     4277 non-null   int32  \n",
      " 23  Cabin_region4     4277 non-null   int32  \n",
      " 24  Cabin_region5     4277 non-null   int32  \n",
      " 25  Cabin_region6     4277 non-null   int32  \n",
      " 26  Cabin_region7     4277 non-null   int32  \n",
      " 27  Family_size       4277 non-null   int64  \n",
      " 28  HomePlanet_Code   4277 non-null   int32  \n",
      " 29  CryoSleep_Code    4277 non-null   int32  \n",
      " 30  Destination_Code  4277 non-null   int32  \n",
      " 31  VIP_Code          4277 non-null   int32  \n",
      " 32  Age_group_Code    4277 non-null   int32  \n",
      " 33  Cabin_deck_Code   4277 non-null   int32  \n",
      " 34  Cabin_side_Code   4277 non-null   int32  \n",
      "dtypes: float64(8), int32(17), int64(2), object(8)\n",
      "memory usage: 885.6+ KB\n",
      "None\n",
      "----------\n",
      "Validation Data Distribution: \n",
      " Transported\n",
      "0.0    0.570026\n",
      "1.0    0.429974\n",
      "Name: proportion, dtype: float64\n"
     ]
    },
    {
     "data": {
      "text/plain": "     PassengerId  Transported\n3349     7333_01          0.0\n533      1122_01          1.0\n3462     7554_01          1.0\n254      0541_01          1.0\n1789     3819_01          0.0\n1262     2681_01          1.0\n2452     5339_02          1.0\n1149     2422_01          1.0\n1246     2639_01          1.0\n3482     7582_02          0.0",
      "text/html": "<div>\n<style scoped>\n    .dataframe tbody tr th:only-of-type {\n        vertical-align: middle;\n    }\n\n    .dataframe tbody tr th {\n        vertical-align: top;\n    }\n\n    .dataframe thead th {\n        text-align: right;\n    }\n</style>\n<table border=\"1\" class=\"dataframe\">\n  <thead>\n    <tr style=\"text-align: right;\">\n      <th></th>\n      <th>PassengerId</th>\n      <th>Transported</th>\n    </tr>\n  </thead>\n  <tbody>\n    <tr>\n      <th>3349</th>\n      <td>7333_01</td>\n      <td>0.0</td>\n    </tr>\n    <tr>\n      <th>533</th>\n      <td>1122_01</td>\n      <td>1.0</td>\n    </tr>\n    <tr>\n      <th>3462</th>\n      <td>7554_01</td>\n      <td>1.0</td>\n    </tr>\n    <tr>\n      <th>254</th>\n      <td>0541_01</td>\n      <td>1.0</td>\n    </tr>\n    <tr>\n      <th>1789</th>\n      <td>3819_01</td>\n      <td>0.0</td>\n    </tr>\n    <tr>\n      <th>1262</th>\n      <td>2681_01</td>\n      <td>1.0</td>\n    </tr>\n    <tr>\n      <th>2452</th>\n      <td>5339_02</td>\n      <td>1.0</td>\n    </tr>\n    <tr>\n      <th>1149</th>\n      <td>2422_01</td>\n      <td>1.0</td>\n    </tr>\n    <tr>\n      <th>1246</th>\n      <td>2639_01</td>\n      <td>1.0</td>\n    </tr>\n    <tr>\n      <th>3482</th>\n      <td>7582_02</td>\n      <td>0.0</td>\n    </tr>\n  </tbody>\n</table>\n</div>"
     },
     "execution_count": 52,
     "metadata": {},
     "output_type": "execute_result"
    }
   ],
   "source": [
    "#prepare data for modeling\n",
    "print(data_val.info())\n",
    "print(\"-\"*10)\n",
    "#data_val.sample(10)\n",
    "\n",
    "#handmade decision tree - submission score = 0.77990\n",
    "# data_val['Transported'] = mytree(data_val).astype(int)  # 0 V7\n",
    "data_val['Transported'] = mytree(data_val)\n",
    "\n",
    "#decision tree w/full dataset modeling submission score: defaults= 0.76555, tuned= 0.77990\n",
    "#submit_dt = tree.DecisionTreeClassifier()\n",
    "#submit_dt = model_selection.GridSearchCV(tree.DecisionTreeClassifier(), param_grid=param_grid, scoring = 'roc_auc', cv = cv_split)\n",
    "#submit_dt.fit(data1[data1_x_bin], data1[Target])\n",
    "#print('Best Parameters: ', submit_dt.best_params_) #Best Parameters:  {'criterion': 'gini', 'max_depth': 4, 'random_state': 0}\n",
    "#data_val['Survived'] = submit_dt.predict(data_val[data1_x_bin])\n",
    "\n",
    "\n",
    "#bagging w/full dataset modeling submission score: defaults= 0.75119, tuned= 0.77990\n",
    "#submit_bc = ensemble.BaggingClassifier()\n",
    "#submit_bc = model_selection.GridSearchCV(ensemble.BaggingClassifier(), param_grid= {'n_estimators':grid_n_estimator, 'max_samples': grid_ratio, 'oob_score': grid_bool, 'random_state': grid_seed}, scoring = 'roc_auc', cv = cv_split)\n",
    "#submit_bc.fit(data1[data1_x_bin], data1[Target])\n",
    "#print('Best Parameters: ', submit_bc.best_params_) #Best Parameters:  {'max_samples': 0.25, 'n_estimators': 500, 'oob_score': True, 'random_state': 0}\n",
    "#data_val['Survived'] = submit_bc.predict(data_val[data1_x_bin])\n",
    "\n",
    "\n",
    "#extra tree w/full dataset modeling submission score: defaults= 0.76555, tuned= 0.77990\n",
    "#submit_etc = ensemble.ExtraTreesClassifier()\n",
    "#submit_etc = model_selection.GridSearchCV(ensemble.ExtraTreesClassifier(), param_grid={'n_estimators': grid_n_estimator, 'criterion': grid_criterion, 'max_depth': grid_max_depth, 'random_state': grid_seed}, scoring = 'roc_auc', cv = cv_split)\n",
    "#submit_etc.fit(data1[data1_x_bin], data1[Target])\n",
    "#print('Best Parameters: ', submit_etc.best_params_) #Best Parameters:  {'criterion': 'entropy', 'max_depth': 6, 'n_estimators': 100, 'random_state': 0}\n",
    "#data_val['Survived'] = submit_etc.predict(data_val[data1_x_bin])\n",
    "\n",
    "\n",
    "#random foreset w/full dataset modeling submission score: defaults= 0.71291, tuned= 0.73205\n",
    "#submit_rfc = ensemble.RandomForestClassifier()\n",
    "#submit_rfc = model_selection.GridSearchCV(ensemble.RandomForestClassifier(), param_grid={'n_estimators': grid_n_estimator, 'criterion': grid_criterion, 'max_depth': grid_max_depth, 'random_state': grid_seed}, scoring = 'roc_auc', cv = cv_split)\n",
    "#submit_rfc.fit(data1[data1_x_bin], data1[Target])\n",
    "#print('Best Parameters: ', submit_rfc.best_params_) #Best Parameters:  {'criterion': 'entropy', 'max_depth': 6, 'n_estimators': 100, 'random_state': 0}\n",
    "#data_val['Survived'] = submit_rfc.predict(data_val[data1_x_bin])\n",
    "\n",
    "\n",
    "#ada boosting w/full dataset modeling submission score: defaults= 0.74162, tuned= 0.75119\n",
    "#submit_abc = ensemble.AdaBoostClassifier()\n",
    "#submit_abc = model_selection.GridSearchCV(ensemble.AdaBoostClassifier(), param_grid={'n_estimators': grid_n_estimator, 'learning_rate': grid_ratio, 'algorithm': ['SAMME', 'SAMME.R'], 'random_state': grid_seed}, scoring = 'roc_auc', cv = cv_split)\n",
    "#submit_abc.fit(data1[data1_x_bin], data1[Target])\n",
    "#print('Best Parameters: ', submit_abc.best_params_) #Best Parameters:  {'algorithm': 'SAMME.R', 'learning_rate': 0.1, 'n_estimators': 300, 'random_state': 0}\n",
    "#data_val['Survived'] = submit_abc.predict(data_val[data1_x_bin])\n",
    "\n",
    "\n",
    "#gradient boosting w/full dataset modeling submission score: defaults= 0.75119, tuned= 0.77033\n",
    "#submit_gbc = ensemble.GradientBoostingClassifier()\n",
    "#submit_gbc = model_selection.GridSearchCV(ensemble.GradientBoostingClassifier(), param_grid={'learning_rate': grid_ratio, 'n_estimators': grid_n_estimator, 'max_depth': grid_max_depth, 'random_state':grid_seed}, scoring = 'roc_auc', cv = cv_split)\n",
    "#submit_gbc.fit(data1[data1_x_bin], data1[Target])\n",
    "#print('Best Parameters: ', submit_gbc.best_params_) #Best Parameters:  {'learning_rate': 0.25, 'max_depth': 2, 'n_estimators': 50, 'random_state': 0}\n",
    "#data_val['Survived'] = submit_gbc.predict(data_val[data1_x_bin])\n",
    "\n",
    "#extreme boosting w/full dataset modeling submission score: defaults= 0.73684, tuned= 0.77990\n",
    "#submit_xgb = XGBClassifier()\n",
    "#submit_xgb = model_selection.GridSearchCV(XGBClassifier(), param_grid= {'learning_rate': grid_learn, 'max_depth': [0,2,4,6,8,10], 'n_estimators': grid_n_estimator, 'seed': grid_seed}, scoring = 'roc_auc', cv = cv_split)\n",
    "#submit_xgb.fit(data1[data1_x_bin], data1[Target])\n",
    "#print('Best Parameters: ', submit_xgb.best_params_) #Best Parameters:  {'learning_rate': 0.01, 'max_depth': 4, 'n_estimators': 300, 'seed': 0}\n",
    "#data_val['Survived'] = submit_xgb.predict(data_val[data1_x_bin])\n",
    "\n",
    "\n",
    "#hard voting classifier w/full dataset modeling submission score: defaults=-, tuned = 0.74655 V4\n",
    "# data_val['Transported'] = vote_hard.predict(data_val[data1_x_bin])  # 0.74655 V4\n",
    "# data_val['Transported'] = grid_hard.predict(data_val[data1_x_bin])  # 0.70189 V4\n",
    "\n",
    "\n",
    "#soft voting classifier w/full dataset modeling submission score: defaults=-, tuned = 0.75005 V6\n",
    "# data_val['Transported'] = vote_soft.predict(data_val[data1_x_bin])  # 0.75005 V6\n",
    "# data_val['Transported'] = grid_soft.predict(data_val[data1_x_bin])  # 0.74982 V5\n",
    "\n",
    "\n",
    "#submit file\n",
    "submit = data_val[['PassengerId','Transported']]\n",
    "submit.to_csv(\"submission.csv\", index=False)\n",
    "\n",
    "print('Validation Data Distribution: \\n', data_val['Transported'].value_counts(normalize = True))\n",
    "submit.sample(10)\n",
    "\n",
    "# The best parameter for AdaBoostClassifier is {'learning_rate': 0.1, 'n_estimators': 300, 'random_state': 0} with a runtime of 154.92 seconds.\n",
    "# The best parameter for BaggingClassifier is {'max_samples': 0.1, 'n_estimators': 300, 'random_state': 0} with a runtime of 269.41 seconds.\n",
    "# The best parameter for ExtraTreesClassifier is {'criterion': 'gini', 'max_depth': 8, 'n_estimators': 300, 'random_state': 0} with a runtime of 284.94 seconds.\n",
    "# The best parameter for GradientBoostingClassifier is {'learning_rate': 0.05, 'max_depth': 4, 'n_estimators': 300, 'random_state': 0} with a runtime of 497.71 seconds.\n",
    "# The best parameter for RandomForestClassifier is {'criterion': 'gini', 'max_depth': 8, 'n_estimators': 300, 'oob_score': True, 'random_state': 0} with a runtime of 396.49 seconds.\n",
    "# The best parameter for GaussianProcessClassifier is {'max_iter_predict': 10, 'random_state': 0} with a runtime of 1470.09 seconds.\n",
    "# The best parameter for LogisticRegressionCV is {'fit_intercept': True, 'random_state': 0, 'solver': 'lbfgs'} with a runtime of 445.46 seconds.\n",
    "# The best parameter for BernoulliNB is {'alpha': 0.5} with a runtime of 1.12 seconds.\n",
    "# The best parameter for GaussianNB is {} with a runtime of 0.26 seconds.\n",
    "# The best parameter for KNeighborsClassifier is {'algorithm': 'ball_tree', 'n_neighbors': 7, 'weights': 'distance'} with a runtime of 47.07 seconds.\n",
    "# The best parameter for SVC is {'C': 1, 'decision_function_shape': 'ovo', 'gamma': 0.1, 'probability': True, 'random_state': 0} with a runtime of 5298.85 seconds.\n",
    "# The best parameter for XGBClassifier is {'learning_rate': 0.1, 'max_depth': 4, 'n_estimators': 50, 'seed': 0} with a runtime of 614.08 seconds.\n",
    "# Total optimization time was 158.01 minutes."
   ],
   "metadata": {
    "collapsed": false,
    "pycharm": {
     "name": "#%%\n"
    }
   }
  },
  {
   "cell_type": "code",
   "execution_count": 57,
   "outputs": [
    {
     "data": {
      "text/plain": "     PassengerId  Transported\n4053     8804_03         True\n1714     3659_05        False\n3123     6842_01        False\n2082     4519_01        False\n930      1924_01         True\n1493     3207_01        False\n3392     7413_01         True\n2970     6521_01        False\n180      0364_02        False\n864      1791_02         True",
      "text/html": "<div>\n<style scoped>\n    .dataframe tbody tr th:only-of-type {\n        vertical-align: middle;\n    }\n\n    .dataframe tbody tr th {\n        vertical-align: top;\n    }\n\n    .dataframe thead th {\n        text-align: right;\n    }\n</style>\n<table border=\"1\" class=\"dataframe\">\n  <thead>\n    <tr style=\"text-align: right;\">\n      <th></th>\n      <th>PassengerId</th>\n      <th>Transported</th>\n    </tr>\n  </thead>\n  <tbody>\n    <tr>\n      <th>4053</th>\n      <td>8804_03</td>\n      <td>True</td>\n    </tr>\n    <tr>\n      <th>1714</th>\n      <td>3659_05</td>\n      <td>False</td>\n    </tr>\n    <tr>\n      <th>3123</th>\n      <td>6842_01</td>\n      <td>False</td>\n    </tr>\n    <tr>\n      <th>2082</th>\n      <td>4519_01</td>\n      <td>False</td>\n    </tr>\n    <tr>\n      <th>930</th>\n      <td>1924_01</td>\n      <td>True</td>\n    </tr>\n    <tr>\n      <th>1493</th>\n      <td>3207_01</td>\n      <td>False</td>\n    </tr>\n    <tr>\n      <th>3392</th>\n      <td>7413_01</td>\n      <td>True</td>\n    </tr>\n    <tr>\n      <th>2970</th>\n      <td>6521_01</td>\n      <td>False</td>\n    </tr>\n    <tr>\n      <th>180</th>\n      <td>0364_02</td>\n      <td>False</td>\n    </tr>\n    <tr>\n      <th>864</th>\n      <td>1791_02</td>\n      <td>True</td>\n    </tr>\n  </tbody>\n</table>\n</div>"
     },
     "execution_count": 57,
     "metadata": {},
     "output_type": "execute_result"
    }
   ],
   "source": [
    "submit1 = pd.DataFrame({\n",
    "    'PassengerId': data_val['PassengerId'],\n",
    "    'Transported': data_val['Transported'].astype(bool)\n",
    "})\n",
    "submit1.to_csv(\"submission1.csv\", index=False)\n",
    "#\n",
    "# print('Validation Data Distribution: \\n', data_val['Transported'].value_counts(normalize = True))\n",
    "submit1.sample(10)"
   ],
   "metadata": {
    "collapsed": false,
    "pycharm": {
     "name": "#%%\n"
    }
   }
  },
  {
   "cell_type": "code",
   "execution_count": null,
   "outputs": [],
   "source": [],
   "metadata": {
    "collapsed": false,
    "pycharm": {
     "name": "#%%\n"
    }
   }
  }
 ],
 "metadata": {
  "kernelspec": {
   "display_name": "Python 3",
   "language": "python",
   "name": "python3"
  },
  "language_info": {
   "codemirror_mode": {
    "name": "ipython",
    "version": 2
   },
   "file_extension": ".py",
   "mimetype": "text/x-python",
   "name": "python",
   "nbconvert_exporter": "python",
   "pygments_lexer": "ipython2",
   "version": "2.7.6"
  }
 },
 "nbformat": 4,
 "nbformat_minor": 0
}